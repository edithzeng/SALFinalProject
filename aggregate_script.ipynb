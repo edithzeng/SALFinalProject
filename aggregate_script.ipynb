{
 "cells": [
  {
   "cell_type": "code",
   "execution_count": 1,
   "metadata": {
    "collapsed": true
   },
   "outputs": [],
   "source": [
    "import copy\n",
    "import numpy as np\n",
    "import pandas as pd\n",
    "\n",
    "inspection_df = copy.deepcopy(pd.read_csv('inspections_final.csv'))\n",
    "business_df = copy.deepcopy(pd.read_csv('business_final.csv',index_col=0))\n",
    "review_df = copy.deepcopy(pd.read_csv('review_final.csv'))"
   ]
  },
  {
   "cell_type": "code",
   "execution_count": 2,
   "metadata": {
    "scrolled": true
   },
   "outputs": [
    {
     "data": {
      "text/html": [
       "<div>\n",
       "<style scoped>\n",
       "    .dataframe tbody tr th:only-of-type {\n",
       "        vertical-align: middle;\n",
       "    }\n",
       "\n",
       "    .dataframe tbody tr th {\n",
       "        vertical-align: top;\n",
       "    }\n",
       "\n",
       "    .dataframe thead th {\n",
       "        text-align: right;\n",
       "    }\n",
       "</style>\n",
       "<table border=\"1\" class=\"dataframe\">\n",
       "  <thead>\n",
       "    <tr style=\"text-align: right;\">\n",
       "      <th></th>\n",
       "      <th>id</th>\n",
       "      <th>business_id</th>\n",
       "      <th>user_id</th>\n",
       "      <th>stars</th>\n",
       "      <th>date</th>\n",
       "      <th>text</th>\n",
       "      <th>useful</th>\n",
       "      <th>funny</th>\n",
       "      <th>cool</th>\n",
       "    </tr>\n",
       "  </thead>\n",
       "  <tbody>\n",
       "    <tr>\n",
       "      <th>0</th>\n",
       "      <td>---94vtJ_5o_nikEs6hUjg</td>\n",
       "      <td>R1PQEK6qvrZVC9qcWfKvDA</td>\n",
       "      <td>c2MQ_LPuvtiiKFR_-OY9pg</td>\n",
       "      <td>5</td>\n",
       "      <td>09/17/2014 00:00:00</td>\n",
       "      <td>One of my absolute favorite restaurants! I usu...</td>\n",
       "      <td>1.0</td>\n",
       "      <td>0.0</td>\n",
       "      <td>0.0</td>\n",
       "    </tr>\n",
       "    <tr>\n",
       "      <th>1</th>\n",
       "      <td>---WDP9kwKyVQiw9GTgNmQ</td>\n",
       "      <td>3kdSl5mo9dWC4clrQjEDGg</td>\n",
       "      <td>tRXe5HRTDsUNqL3yNSquMw</td>\n",
       "      <td>1</td>\n",
       "      <td>03/17/2014 00:00:00</td>\n",
       "      <td>2Nd time eating here today.1st time was great ...</td>\n",
       "      <td>0.0</td>\n",
       "      <td>0.0</td>\n",
       "      <td>0.0</td>\n",
       "    </tr>\n",
       "  </tbody>\n",
       "</table>\n",
       "</div>"
      ],
      "text/plain": [
       "                       id             business_id                 user_id  \\\n",
       "0  ---94vtJ_5o_nikEs6hUjg  R1PQEK6qvrZVC9qcWfKvDA  c2MQ_LPuvtiiKFR_-OY9pg   \n",
       "1  ---WDP9kwKyVQiw9GTgNmQ  3kdSl5mo9dWC4clrQjEDGg  tRXe5HRTDsUNqL3yNSquMw   \n",
       "\n",
       "   stars                 date  \\\n",
       "0      5  09/17/2014 00:00:00   \n",
       "1      1  03/17/2014 00:00:00   \n",
       "\n",
       "                                                text  useful  funny  cool  \n",
       "0  One of my absolute favorite restaurants! I usu...     1.0    0.0   0.0  \n",
       "1  2Nd time eating here today.1st time was great ...     0.0    0.0   0.0  "
      ]
     },
     "execution_count": 2,
     "metadata": {},
     "output_type": "execute_result"
    }
   ],
   "source": [
    "review_df.head(2)"
   ]
  },
  {
   "cell_type": "code",
   "execution_count": 3,
   "metadata": {},
   "outputs": [
    {
     "data": {
      "text/plain": [
       "(809050, 9)"
      ]
     },
     "execution_count": 3,
     "metadata": {},
     "output_type": "execute_result"
    }
   ],
   "source": [
    "review_df.shape"
   ]
  },
  {
   "cell_type": "code",
   "execution_count": 4,
   "metadata": {},
   "outputs": [
    {
     "name": "stdout",
     "output_type": "stream",
     "text": [
      "convert_dict() done\n"
     ]
    }
   ],
   "source": [
    "class Review_Info:\n",
    "    def __init__(self,df):\n",
    "        self.nparr = df.as_matrix()\n",
    "        self.text = {}\n",
    "        self.keywords = {} \n",
    "        self.star = {}\n",
    "        self.has_keyword_count = {}  # has_keywords = {'business_id': int (count of reviews with keyword, helpful vote +1)}\n",
    "        self.count_one_star = {}\n",
    "    def convert_dict(self):\n",
    "        for row in range(len(self.nparr)):\n",
    "            current_id = self.nparr[row][1]\n",
    "            current_text = self.nparr[row][5]\n",
    "            current_star = self.nparr[row][3]\n",
    "            helpful = self.nparr[row][6]\n",
    "            ''' stars & count of 1 star reviews * (number of helpful votes +1) '''\n",
    "            self.add_to_dict(current_id,current_star,self.star)\n",
    "            if current_id not in self.count_one_star:\n",
    "                self.count_one_star[current_id] = 0\n",
    "            self.count_one_star[current_id] *= (helpful + 1)\n",
    "            ''' keywords & reviews '''\n",
    "            if not pd.isnull([current_text]):\n",
    "                self.add_to_dict(current_id,current_text,self.text)\n",
    "                self.count_keywords(current_id,current_text,helpful)\n",
    "        print(\"convert_dict() done\")\n",
    "    def add_to_dict(self,key_to_add,val_to_add,d):\n",
    "        if key_to_add not in d:\n",
    "            d[key_to_add] = []\n",
    "        d[key_to_add].append(val_to_add)\n",
    "    def count_keywords(self,current_id,current_text,helpful):\n",
    "        keyword_list = ['sick','dirty','disgusting','vomit','threw up','food poison','diarrhea',\n",
    "                        'filthy', 'gross', 'throw up', 'throwing up','indigestion', 'nausea', 'nauseous',\n",
    "                        'upset stomach', 'the runs', ' bug ',' rat ', 'mice', 'mouse', 'expired', \n",
    "                        'listeria', 'contaminate', 'bacteria', 'salmonella', 'e coli', 'infest', 'retch', \n",
    "                        ' gag ', 'stench', 'e-coli', 'tainted']\n",
    "        has_keyword = False\n",
    "        ''' Count each keyword '''\n",
    "        if current_id not in self.keywords:\n",
    "            self.keywords[current_id] = {}\n",
    "        for word in keyword_list:\n",
    "            if word not in self.keywords[current_id]:\n",
    "                self.keywords[current_id][word] = 0\n",
    "            if word in current_text:\n",
    "                self.keywords[current_id][word] += 1\n",
    "                has_keyword = True\n",
    "        if has_keyword:\n",
    "            ''' Count of reviews with at least one keyword * (number of helpful votes +1) '''\n",
    "            if current_id not in self.has_keyword_count:\n",
    "                self.has_keyword_count[current_id] = 0\n",
    "            self.has_keyword_count[current_id] += (helpful + 1)\n",
    "    def nparr(self):\n",
    "        return self._nparr\n",
    "    ''' keywords = { 'business_id1': {'sick': 2, 'dirty': 2}, {'business_id2'}: {'sick': 2, 'dirty': 2} }'''\n",
    "    def keywords(self):  \n",
    "        return self._keywords\n",
    "    ''' text['business_id'] = [\"One of my absolute favorite\", \"restaurants! I usu...\"] list of str '''\n",
    "    def text(self):\n",
    "        return self._text\n",
    "    ''' star['business_id'] = [1,5]   list of int '''\n",
    "    def star(self):\n",
    "        return self._star\n",
    "    def count_one_star(self):\n",
    "        return self._count_one_star()\n",
    "\n",
    "review = Review_Info(review_df)\n",
    "review.convert_dict()"
   ]
  },
  {
   "cell_type": "code",
   "execution_count": null,
   "metadata": {
    "collapsed": true
   },
   "outputs": [],
   "source": []
  },
  {
   "cell_type": "code",
   "execution_count": 5,
   "metadata": {
    "scrolled": true
   },
   "outputs": [
    {
     "name": "stdout",
     "output_type": "stream",
     "text": [
      "Number of unqiue businesses with keywords recorded: 9771\n",
      "Sample keyword dict:\n",
      " {'sick': 12, 'dirty': 20, 'disgusting': 10, 'vomit': 1, 'threw up': 0, 'food poison': 6, 'diarrhea': 0, 'filthy': 0, 'gross': 15, 'throw up': 2, 'throwing up': 1, 'indigestion': 0, 'nausea': 1, 'nauseous': 1, 'upset stomach': 2, 'the runs': 0, ' bug ': 1, ' rat ': 0, 'mice': 0, 'mouse': 1, 'expired': 0, 'listeria': 0, 'contaminate': 0, 'bacteria': 0, 'salmonella': 0, 'e coli': 0, 'infest': 0, 'retch': 2, ' gag ': 0, 'stench': 0, 'e-coli': 0, 'tainted': 0}\n"
     ]
    }
   ],
   "source": [
    "print(\"Number of unqiue businesses with keywords recorded:\",len(review.keywords))\n",
    "print(\"Sample keyword dict:\\n\", review.keywords['PgJgpW4TKQ8IoALH2Yq-zA'])"
   ]
  },
  {
   "cell_type": "code",
   "execution_count": 6,
   "metadata": {
    "scrolled": true
   },
   "outputs": [
    {
     "name": "stdout",
     "output_type": "stream",
     "text": [
      "Number of businesses with reviews: 9771\n",
      "Sample: count of reviews for one business (all times): 1034\n",
      "Number of businesses with stars: 9772\n",
      "Sample business mean stars: 2.82688588008\n"
     ]
    }
   ],
   "source": [
    "print(\"Number of businesses with reviews:\", len(review.text))\n",
    "print(\"Sample: count of reviews for one business (all times):\",len(review.text['PgJgpW4TKQ8IoALH2Yq-zA']))\n",
    "# print(\"Sample review:\", review.text['PgJgpW4TKQ8IoALH2Yq-zA'][0])\n",
    "print(\"Number of businesses with stars:\",len(review.star))\n",
    "print(\"Sample business mean stars:\",np.mean(review.star['PgJgpW4TKQ8IoALH2Yq-zA']))"
   ]
  },
  {
   "cell_type": "code",
   "execution_count": 7,
   "metadata": {
    "scrolled": true
   },
   "outputs": [
    {
     "data": {
      "text/plain": [
       "(9771, 10)"
      ]
     },
     "execution_count": 7,
     "metadata": {},
     "output_type": "execute_result"
    }
   ],
   "source": [
    "business_df.shape"
   ]
  },
  {
   "cell_type": "code",
   "execution_count": 8,
   "metadata": {
    "scrolled": true
   },
   "outputs": [
    {
     "data": {
      "text/html": [
       "<div>\n",
       "<style scoped>\n",
       "    .dataframe tbody tr th:only-of-type {\n",
       "        vertical-align: middle;\n",
       "    }\n",
       "\n",
       "    .dataframe tbody tr th {\n",
       "        vertical-align: top;\n",
       "    }\n",
       "\n",
       "    .dataframe thead th {\n",
       "        text-align: right;\n",
       "    }\n",
       "</style>\n",
       "<table border=\"1\" class=\"dataframe\">\n",
       "  <thead>\n",
       "    <tr style=\"text-align: right;\">\n",
       "      <th></th>\n",
       "      <th>business_id</th>\n",
       "      <th>name</th>\n",
       "      <th>neighborhood</th>\n",
       "      <th>address</th>\n",
       "      <th>postal_code</th>\n",
       "      <th>latitude</th>\n",
       "      <th>longitude</th>\n",
       "      <th>stars</th>\n",
       "      <th>review_count</th>\n",
       "      <th>categories</th>\n",
       "    </tr>\n",
       "    <tr>\n",
       "      <th>Column</th>\n",
       "      <th></th>\n",
       "      <th></th>\n",
       "      <th></th>\n",
       "      <th></th>\n",
       "      <th></th>\n",
       "      <th></th>\n",
       "      <th></th>\n",
       "      <th></th>\n",
       "      <th></th>\n",
       "      <th></th>\n",
       "    </tr>\n",
       "  </thead>\n",
       "  <tbody>\n",
       "    <tr>\n",
       "      <th>6</th>\n",
       "      <td>kCoE3jvEtg6UVz5SOD3GVw</td>\n",
       "      <td>BDJ Realty</td>\n",
       "      <td>Summerlin</td>\n",
       "      <td>2620 Regatta Dr</td>\n",
       "      <td>89128</td>\n",
       "      <td>36.2074</td>\n",
       "      <td>-115.268460</td>\n",
       "      <td>4.0</td>\n",
       "      <td>5</td>\n",
       "      <td>Real Estate Services;Real Estate;Home Services...</td>\n",
       "    </tr>\n",
       "    <tr>\n",
       "      <th>26</th>\n",
       "      <td>VBHEsoXQb2AQ76J9l8h1uQ</td>\n",
       "      <td>Alfredo's Jewelry</td>\n",
       "      <td>Southeast</td>\n",
       "      <td>5775 S Eastern</td>\n",
       "      <td>89119</td>\n",
       "      <td>36.0851</td>\n",
       "      <td>-115.119421</td>\n",
       "      <td>4.5</td>\n",
       "      <td>23</td>\n",
       "      <td>Shopping;Jewelry;Watch Repair;Local Services</td>\n",
       "    </tr>\n",
       "  </tbody>\n",
       "</table>\n",
       "</div>"
      ],
      "text/plain": [
       "                   business_id               name neighborhood  \\\n",
       "Column                                                           \n",
       "6       kCoE3jvEtg6UVz5SOD3GVw         BDJ Realty    Summerlin   \n",
       "26      VBHEsoXQb2AQ76J9l8h1uQ  Alfredo's Jewelry    Southeast   \n",
       "\n",
       "                address  postal_code  latitude   longitude  stars  \\\n",
       "Column                                                              \n",
       "6       2620 Regatta Dr        89128   36.2074 -115.268460    4.0   \n",
       "26       5775 S Eastern        89119   36.0851 -115.119421    4.5   \n",
       "\n",
       "        review_count                                         categories  \n",
       "Column                                                                   \n",
       "6                  5  Real Estate Services;Real Estate;Home Services...  \n",
       "26                23       Shopping;Jewelry;Watch Repair;Local Services  "
      ]
     },
     "execution_count": 8,
     "metadata": {},
     "output_type": "execute_result"
    }
   ],
   "source": [
    "business_df.head(2)"
   ]
  },
  {
   "cell_type": "code",
   "execution_count": 9,
   "metadata": {},
   "outputs": [
    {
     "name": "stdout",
     "output_type": "stream",
     "text": [
      "convert_dict() done\n"
     ]
    }
   ],
   "source": [
    "class Business_Info:\n",
    "    def __init__(self,df):\n",
    "        self.nparr = df.as_matrix()\n",
    "        self.address_id = {}        \n",
    "        self.id_address = {}\n",
    "        self.name_id = {}\n",
    "        self.id_name = {}\n",
    "        self.star = {} \n",
    "        self.review_count = {}\n",
    "    def convert_dict(self):\n",
    "        for row in range(len(self.nparr)):\n",
    "            business_id = self.nparr[row][0]\n",
    "            name = self.nparr[row][1]\n",
    "            address = self.nparr[row][3]\n",
    "            star = self.nparr[row][7]\n",
    "            review_ct = self.nparr[row][8]\n",
    "            self.add_to_dict(address,business_id,self.address_id)\n",
    "            self.add_to_dict(business_id,address,self.id_address)\n",
    "            self.add_to_dict(business_id,name,self.id_name)\n",
    "            self.add_to_dict(business_id,star,self.star)\n",
    "            self.add_to_dict(name,business_id,self.name_id)\n",
    "            self.add_to_dict(business_id,review_ct,self.review_count)\n",
    "        print(\"convert_dict() done\")\n",
    "    def add_to_dict(self,key_to_add,val_to_add,d):\n",
    "        if not pd.isnull([key_to_add,val_to_add]).any():\n",
    "            if key_to_add not in d:\n",
    "                d[key_to_add] = []\n",
    "            d[key_to_add].append(val_to_add)\n",
    "    def nparr(self):\n",
    "        return self._nparr\n",
    "    def address_id(self):          # address_id = {'address':'business_id'}\n",
    "        return self._address_id\n",
    "    def id_address(self):          # id_address = {'id': 'address'}\n",
    "        return self._id_address\n",
    "    def star(self):                # star = {'business_id': float}\n",
    "        return self._star\n",
    "    def review_count(self):        # review_count = {'business_id': int}\n",
    "        return self._review_count\n",
    "    def id_name(self):\n",
    "        return self._id_name\n",
    "    def name_id(self):             # name = {'business_id': 'name'}\n",
    "        return self._name_id\n",
    "    \n",
    "business = Business_Info(business_df)\n",
    "business.convert_dict()"
   ]
  },
  {
   "cell_type": "code",
   "execution_count": 11,
   "metadata": {
    "scrolled": true
   },
   "outputs": [
    {
     "name": "stdout",
     "output_type": "stream",
     "text": [
      "Number of unique addresses (address - business_id dict): 2894\n"
     ]
    },
    {
     "data": {
      "text/plain": [
       "True"
      ]
     },
     "execution_count": 11,
     "metadata": {},
     "output_type": "execute_result"
    }
   ],
   "source": [
    "print(\"Number of unique addresses (address - business_id dict):\",len(business.address_id))\n",
    "len(business.star) == len(business.review_count) == len(business.id_name)"
   ]
  },
  {
   "cell_type": "code",
   "execution_count": 12,
   "metadata": {
    "scrolled": false
   },
   "outputs": [
    {
     "data": {
      "text/plain": [
       "(92500, 17)"
      ]
     },
     "execution_count": 12,
     "metadata": {},
     "output_type": "execute_result"
    }
   ],
   "source": [
    "inspection_df.shape"
   ]
  },
  {
   "cell_type": "code",
   "execution_count": 13,
   "metadata": {
    "scrolled": false
   },
   "outputs": [
    {
     "data": {
      "text/html": [
       "<div>\n",
       "<style scoped>\n",
       "    .dataframe tbody tr th:only-of-type {\n",
       "        vertical-align: middle;\n",
       "    }\n",
       "\n",
       "    .dataframe tbody tr th {\n",
       "        vertical-align: top;\n",
       "    }\n",
       "\n",
       "    .dataframe thead th {\n",
       "        text-align: right;\n",
       "    }\n",
       "</style>\n",
       "<table border=\"1\" class=\"dataframe\">\n",
       "  <thead>\n",
       "    <tr style=\"text-align: right;\">\n",
       "      <th></th>\n",
       "      <th>Permit Number</th>\n",
       "      <th>Restaurant Name</th>\n",
       "      <th>Location Name</th>\n",
       "      <th>Category Name</th>\n",
       "      <th>Address</th>\n",
       "      <th>Zip</th>\n",
       "      <th>Current Demerits</th>\n",
       "      <th>Current Grade</th>\n",
       "      <th>Inspection Date</th>\n",
       "      <th>Inspection Time</th>\n",
       "      <th>Employee ID</th>\n",
       "      <th>Inspection Type</th>\n",
       "      <th>Inspection Demerits</th>\n",
       "      <th>Inspection Grade</th>\n",
       "      <th>Permit Status</th>\n",
       "      <th>Inspection Result</th>\n",
       "      <th>Violations</th>\n",
       "    </tr>\n",
       "  </thead>\n",
       "  <tbody>\n",
       "    <tr>\n",
       "      <th>92498</th>\n",
       "      <td>PR0020055</td>\n",
       "      <td>Staybridge Suites - Kitchen - Buffet</td>\n",
       "      <td>Staybridge Suites</td>\n",
       "      <td>Buffet</td>\n",
       "      <td>5735 Dean Martin Dr</td>\n",
       "      <td>89118</td>\n",
       "      <td>9</td>\n",
       "      <td>A</td>\n",
       "      <td>02/03/2017 12:00:00 AM</td>\n",
       "      <td>02/03/2017 09:30:00 AM</td>\n",
       "      <td>EE7001214</td>\n",
       "      <td>Routine Inspection</td>\n",
       "      <td>9</td>\n",
       "      <td>A</td>\n",
       "      <td>A</td>\n",
       "      <td>'A' Grade</td>\n",
       "      <td>213,215,2909,2928,2930</td>\n",
       "    </tr>\n",
       "    <tr>\n",
       "      <th>92499</th>\n",
       "      <td>PR0013865</td>\n",
       "      <td>Vickie's Diner</td>\n",
       "      <td>Vickie's Diner</td>\n",
       "      <td>Restaurant</td>\n",
       "      <td>1700 S Las Vegas Blvd</td>\n",
       "      <td>89104</td>\n",
       "      <td>36</td>\n",
       "      <td>C</td>\n",
       "      <td>05/22/2017 12:00:00 AM</td>\n",
       "      <td>05/22/2017 11:10:00 AM</td>\n",
       "      <td>EE7001083</td>\n",
       "      <td>Re-inspection</td>\n",
       "      <td>0</td>\n",
       "      <td>A</td>\n",
       "      <td>A</td>\n",
       "      <td>'A' Grade</td>\n",
       "      <td>NaN</td>\n",
       "    </tr>\n",
       "  </tbody>\n",
       "</table>\n",
       "</div>"
      ],
      "text/plain": [
       "      Permit Number                       Restaurant Name      Location Name  \\\n",
       "92498     PR0020055  Staybridge Suites - Kitchen - Buffet  Staybridge Suites   \n",
       "92499     PR0013865                        Vickie's Diner     Vickie's Diner   \n",
       "\n",
       "      Category Name                Address    Zip  Current Demerits  \\\n",
       "92498        Buffet    5735 Dean Martin Dr  89118                 9   \n",
       "92499    Restaurant  1700 S Las Vegas Blvd  89104                36   \n",
       "\n",
       "      Current Grade         Inspection Date         Inspection Time  \\\n",
       "92498             A  02/03/2017 12:00:00 AM  02/03/2017 09:30:00 AM   \n",
       "92499             C  05/22/2017 12:00:00 AM  05/22/2017 11:10:00 AM   \n",
       "\n",
       "      Employee ID     Inspection Type  Inspection Demerits Inspection Grade  \\\n",
       "92498   EE7001214  Routine Inspection                    9                A   \n",
       "92499   EE7001083       Re-inspection                    0                A   \n",
       "\n",
       "      Permit Status Inspection Result              Violations  \n",
       "92498             A         'A' Grade  213,215,2909,2928,2930  \n",
       "92499             A         'A' Grade                     NaN  "
      ]
     },
     "execution_count": 13,
     "metadata": {},
     "output_type": "execute_result"
    }
   ],
   "source": [
    "inspection_df.tail(2)"
   ]
  },
  {
   "cell_type": "code",
   "execution_count": 14,
   "metadata": {},
   "outputs": [
    {
     "name": "stdout",
     "output_type": "stream",
     "text": [
      "conver_dict() done\n"
     ]
    }
   ],
   "source": [
    "class Inspection_Info:\n",
    "    def __init__(self,df):\n",
    "        self.df = df\n",
    "        self.nparr = self.df.as_matrix()\n",
    "        self.address = {}\n",
    "        self.name = {}\n",
    "        self.demerit = {} \n",
    "        self.grade = {}\n",
    "    def convert_dict(self):\n",
    "        for row in range(len(self.nparr)):\n",
    "            name = self.nparr[row][2]        # Location Name\n",
    "            address = self.nparr[row][4]\n",
    "            demerit = self.nparr[row][12]\n",
    "            grade = self.nparr[row][13]\n",
    "\n",
    "            self.add_to_dict(address,name,self.address)\n",
    "            self.add_to_dict(address,demerit,self.demerit)\n",
    "            self.add_to_dict(address,grade,self.grade)\n",
    "            self.add_to_dict(name,address,self.name)\n",
    "        print(\"conver_dict() done\")\n",
    "    def add_to_dict(self,key_to_add,val_to_add,d):\n",
    "        if not pd.isnull([key_to_add,val_to_add]).any():\n",
    "            if key_to_add not in d:\n",
    "                d[key_to_add] = []\n",
    "            d[key_to_add].append(val_to_add)\n",
    "    def nparr(self):\n",
    "        return self._nparr\n",
    "    def address(self):    # address = {'address': 'name'}\n",
    "        return self._name\n",
    "    def demerit(self):    # demerit = {'address': int}\n",
    "        return self._demerit\n",
    "    def grade(self):      # grade = {'address': char}\n",
    "        return self._grade\n",
    "    def name(self):       # name = {'name': 'address'}\n",
    "        return self._name\n",
    "\n",
    "inspection = Inspection_Info(inspection_df)\n",
    "inspection.convert_dict()"
   ]
  },
  {
   "cell_type": "code",
   "execution_count": 15,
   "metadata": {},
   "outputs": [
    {
     "name": "stdout",
     "output_type": "stream",
     "text": [
      "Number of unique addresses in inspection: 2894\n"
     ]
    }
   ],
   "source": [
    "print(\"Number of unique addresses in inspection:\",len(inspection.address.keys()))"
   ]
  },
  {
   "cell_type": "code",
   "execution_count": 16,
   "metadata": {
    "scrolled": true
   },
   "outputs": [
    {
     "data": {
      "text/plain": [
       "True"
      ]
     },
     "execution_count": 16,
     "metadata": {},
     "output_type": "execute_result"
    }
   ],
   "source": [
    "inspection.grade.keys() == inspection.demerit.keys() == inspection.grade.keys()"
   ]
  },
  {
   "cell_type": "code",
   "execution_count": 17,
   "metadata": {},
   "outputs": [
    {
     "data": {
      "text/plain": [
       "4961"
      ]
     },
     "execution_count": 17,
     "metadata": {},
     "output_type": "execute_result"
    }
   ],
   "source": [
    "len(inspection.name)"
   ]
  },
  {
   "cell_type": "code",
   "execution_count": 56,
   "metadata": {},
   "outputs": [],
   "source": [
    "# inspection date and review date are left out for now\n",
    "\n",
    "import difflib\n",
    "def aggregate(business, inspection, review):\n",
    "    op = {}\n",
    "    ''' iterate thru inspection (skip restaurants w/o inspection) '''\n",
    "    for inspection_address, inspection_name_list in inspection.address.items():\n",
    "        for inspection_name in inspection_name_list:\n",
    "            for business_id in business.address_id[inspection_address]:\n",
    "                yelp_name = business.id_name[business_id][0]\n",
    "                if difflib.SequenceMatcher(None,yelp_name.lower(),inspection_name.lower()).ratio() < 0.1:\n",
    "                    continue              # skip record with same address but different store names\n",
    "                else:                     # create row\n",
    "                    if business_id not in op:\n",
    "                        op[business_id] = {}\n",
    "                    op[business_id]['address'] = business.id_address[business_id][0]\n",
    "                    op[business_id]['name'] = yelp_name\n",
    "                    op[business_id]['yelp_star'] = business.star[business_id][0]\n",
    "                    op[business_id]['mean_star'] = np.mean(review.star[business_id])\n",
    "                    op[business_id]['review_count'] = len(review.text[business_id])\n",
    "                    op[business_id]['demerit'] = inspection.demerit[inspection_address]\n",
    "                    op[business_id]['grade'] = inspection.grade[inspection_address]\n",
    "                    inspection_fail_count = len([filter(lambda x: x != 'A', inspection.grade[inspection_address])])\n",
    "                    op[business_id]['inspection_fail_count'] = inspection_fail_count\n",
    "                    op[business_id]['inspection_fail_indicator'] = 1 if inspection_fail_count > 0 else 0\n",
    "                    op[business_id]['keyword_count'] = review.keywords[business_id]\n",
    "                    op[business_id]['one_star_count'] = review.count_one_star[business_id]\n",
    "                    op[business_id]['proportion_of_one_star'] = len([lambda y: y==1,review.star[business_id]])/len(review.star[business_id])\n",
    "            \n",
    "    return op\n",
    "\n",
    "op = aggregate(business, inspection, review)"
   ]
  },
  {
   "cell_type": "code",
   "execution_count": 57,
   "metadata": {},
   "outputs": [
    {
     "data": {
      "text/plain": [
       "9640"
      ]
     },
     "execution_count": 57,
     "metadata": {},
     "output_type": "execute_result"
    }
   ],
   "source": [
    "len(op.keys())"
   ]
  },
  {
   "cell_type": "code",
   "execution_count": 75,
   "metadata": {},
   "outputs": [
    {
     "data": {
      "text/plain": [
       "float"
      ]
     },
     "execution_count": 75,
     "metadata": {},
     "output_type": "execute_result"
    }
   ],
   "source": [
    "type(op['7kO8bObVGFa-T3mj6PVYsg']['proportion_of_one_star'])"
   ]
  },
  {
   "cell_type": "code",
   "execution_count": 59,
   "metadata": {},
   "outputs": [],
   "source": [
    "aggregate_df = pd.DataFrame.from_dict(op, orient='index')"
   ]
  },
  {
   "cell_type": "code",
   "execution_count": 60,
   "metadata": {},
   "outputs": [
    {
     "data": {
      "text/html": [
       "<div>\n",
       "<style scoped>\n",
       "    .dataframe tbody tr th:only-of-type {\n",
       "        vertical-align: middle;\n",
       "    }\n",
       "\n",
       "    .dataframe tbody tr th {\n",
       "        vertical-align: top;\n",
       "    }\n",
       "\n",
       "    .dataframe thead th {\n",
       "        text-align: right;\n",
       "    }\n",
       "</style>\n",
       "<table border=\"1\" class=\"dataframe\">\n",
       "  <thead>\n",
       "    <tr style=\"text-align: right;\">\n",
       "      <th></th>\n",
       "      <th>address</th>\n",
       "      <th>name</th>\n",
       "      <th>yelp_star</th>\n",
       "      <th>mean_star</th>\n",
       "      <th>review_count</th>\n",
       "      <th>demerit</th>\n",
       "      <th>grade</th>\n",
       "      <th>inspection_fail_count</th>\n",
       "      <th>inspection_fail_indicator</th>\n",
       "      <th>keyword_count</th>\n",
       "      <th>one_star_count</th>\n",
       "      <th>proportion_of_one_star</th>\n",
       "    </tr>\n",
       "  </thead>\n",
       "  <tbody>\n",
       "    <tr>\n",
       "      <th>zzsKbL1KMNJqazSqBXskxQ</th>\n",
       "      <td>5757 Wayne Newton Blvd</td>\n",
       "      <td>McCarran International Airport Terminal 1 - B</td>\n",
       "      <td>3.5</td>\n",
       "      <td>3.666667</td>\n",
       "      <td>6</td>\n",
       "      <td>[0, 18, 0, 11, 0, 14, 3, 13, 3, 8, 0, 0, 0, 3,...</td>\n",
       "      <td>[A, B, A, B, A, B, A, B, A, A, A, A, A, A, A, ...</td>\n",
       "      <td>1</td>\n",
       "      <td>1</td>\n",
       "      <td>{'sick': 0, 'dirty': 0, 'disgusting': 0, 'vomi...</td>\n",
       "      <td>0.0</td>\n",
       "      <td>0.333333</td>\n",
       "    </tr>\n",
       "    <tr>\n",
       "      <th>zzzaIBwimxVej4tY6qFOUQ</th>\n",
       "      <td>6728 W Cheyenne Ave</td>\n",
       "      <td>Guthrie's</td>\n",
       "      <td>3.5</td>\n",
       "      <td>3.432432</td>\n",
       "      <td>37</td>\n",
       "      <td>[8, 2, 3]</td>\n",
       "      <td>[A, A, A]</td>\n",
       "      <td>1</td>\n",
       "      <td>1</td>\n",
       "      <td>{'sick': 1, 'dirty': 1, 'disgusting': 1, 'vomi...</td>\n",
       "      <td>0.0</td>\n",
       "      <td>0.054054</td>\n",
       "    </tr>\n",
       "  </tbody>\n",
       "</table>\n",
       "</div>"
      ],
      "text/plain": [
       "                                       address  \\\n",
       "zzsKbL1KMNJqazSqBXskxQ  5757 Wayne Newton Blvd   \n",
       "zzzaIBwimxVej4tY6qFOUQ     6728 W Cheyenne Ave   \n",
       "\n",
       "                                                                 name  \\\n",
       "zzsKbL1KMNJqazSqBXskxQ  McCarran International Airport Terminal 1 - B   \n",
       "zzzaIBwimxVej4tY6qFOUQ                                      Guthrie's   \n",
       "\n",
       "                        yelp_star  mean_star  review_count  \\\n",
       "zzsKbL1KMNJqazSqBXskxQ        3.5   3.666667             6   \n",
       "zzzaIBwimxVej4tY6qFOUQ        3.5   3.432432            37   \n",
       "\n",
       "                                                                  demerit  \\\n",
       "zzsKbL1KMNJqazSqBXskxQ  [0, 18, 0, 11, 0, 14, 3, 13, 3, 8, 0, 0, 0, 3,...   \n",
       "zzzaIBwimxVej4tY6qFOUQ                                          [8, 2, 3]   \n",
       "\n",
       "                                                                    grade  \\\n",
       "zzsKbL1KMNJqazSqBXskxQ  [A, B, A, B, A, B, A, B, A, A, A, A, A, A, A, ...   \n",
       "zzzaIBwimxVej4tY6qFOUQ                                          [A, A, A]   \n",
       "\n",
       "                        inspection_fail_count  inspection_fail_indicator  \\\n",
       "zzsKbL1KMNJqazSqBXskxQ                      1                          1   \n",
       "zzzaIBwimxVej4tY6qFOUQ                      1                          1   \n",
       "\n",
       "                                                            keyword_count  \\\n",
       "zzsKbL1KMNJqazSqBXskxQ  {'sick': 0, 'dirty': 0, 'disgusting': 0, 'vomi...   \n",
       "zzzaIBwimxVej4tY6qFOUQ  {'sick': 1, 'dirty': 1, 'disgusting': 1, 'vomi...   \n",
       "\n",
       "                        one_star_count  proportion_of_one_star  \n",
       "zzsKbL1KMNJqazSqBXskxQ             0.0                0.333333  \n",
       "zzzaIBwimxVej4tY6qFOUQ             0.0                0.054054  "
      ]
     },
     "execution_count": 60,
     "metadata": {},
     "output_type": "execute_result"
    }
   ],
   "source": [
    "aggregate_df.tail(2)"
   ]
  },
  {
   "cell_type": "code",
   "execution_count": 76,
   "metadata": {},
   "outputs": [
    {
     "data": {
      "text/plain": [
       "(9640, 12)"
      ]
     },
     "execution_count": 76,
     "metadata": {},
     "output_type": "execute_result"
    }
   ],
   "source": [
    "aggregate_df.shape"
   ]
  },
  {
   "cell_type": "code",
   "execution_count": 79,
   "metadata": {},
   "outputs": [
    {
     "name": "stdout",
     "output_type": "stream",
     "text": [
      "done\n"
     ]
    }
   ],
   "source": [
    "aggregate_df.to_csv('aggregate.csv',\n",
    "                    header=['address','name','yelp_star','mean_star','review_count','demerit',\n",
    "                     'grade','inspection_fail_count','inspection_fail_indicator',\n",
    "                     'keyword_count','one_star_count','prop_one_star'], index=False)\n",
    "print(\"done\")"
   ]
  },
  {
   "cell_type": "code",
   "execution_count": 102,
   "metadata": {},
   "outputs": [
    {
     "name": "stdout",
     "output_type": "stream",
     "text": [
      "[ 0.02027503  0.02021698  0.02144996  0.01962045  0.0218821 ]\n"
     ]
    }
   ],
   "source": [
    "import sklearn\n",
    "from sklearn.linear_model import LinearRegression\n",
    "from sklearn.model_selection import train_test_split, cross_val_score\n",
    "def linear_reg(df):\n",
    "    X = df['mean_star'].as_matrix().reshape((9640,1))\n",
    "    Y = df['yelp_star'].as_matrix().reshape((9640,1))\n",
    "    X_train,X_test,Y_train,Y_test = train_test_split(X,Y)\n",
    "    linear_reg = LinearRegression().fit(X_train,Y_train)\n",
    "    print(-1 * cross_val_score(linear_reg,X_train,Y_train,cv=5,scoring='neg_mean_squared_error'))\n",
    "linear_reg(aggregate_df)    "
   ]
  }
 ],
 "metadata": {
  "kernelspec": {
   "display_name": "Python 3",
   "language": "python",
   "name": "python3"
  },
  "language_info": {
   "codemirror_mode": {
    "name": "ipython",
    "version": 3
   },
   "file_extension": ".py",
   "mimetype": "text/x-python",
   "name": "python",
   "nbconvert_exporter": "python",
   "pygments_lexer": "ipython3",
   "version": "3.6.3"
  }
 },
 "nbformat": 4,
 "nbformat_minor": 2
}
