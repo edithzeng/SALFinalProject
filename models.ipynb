{
 "cells": [
  {
   "cell_type": "code",
   "execution_count": 1,
   "metadata": {
    "collapsed": true
   },
   "outputs": [],
   "source": [
    "import pandas as pd\n",
    "import numpy as np\n",
    "import matplotlib.pyplot as plt\n",
    "import ast\n",
    "from sklearn.utils import resample\n",
    "from sklearn import linear_model, tree, svm\n",
    "from sklearn.ensemble import RandomForestClassifier\n",
    "from sklearn.model_selection import train_test_split, cross_val_score, cross_validate\n",
    "from sklearn.metrics import mean_squared_error, confusion_matrix, recall_score, precision_score\n",
    "from sklearn.neighbors import KNeighborsClassifier, KNeighborsRegressor\n",
    "from sklearn.discriminant_analysis import LinearDiscriminantAnalysis, QuadraticDiscriminantAnalysis\n",
    "from sklearn.linear_model import LogisticRegression\n",
    "from scipy import stats\n",
    "stats.chisqprob = lambda chisq, df: stats.chi2.sf(chisq, df)\n",
    "%matplotlib inline"
   ]
  },
  {
   "cell_type": "code",
   "execution_count": 2,
   "metadata": {
    "collapsed": true
   },
   "outputs": [],
   "source": [
    "df = pd.read_csv('aggregate.csv', encoding = \"ISO-8859-1\")"
   ]
  },
  {
   "cell_type": "code",
   "execution_count": 3,
   "metadata": {},
   "outputs": [
    {
     "data": {
      "text/html": [
       "<div>\n",
       "<style scoped>\n",
       "    .dataframe tbody tr th:only-of-type {\n",
       "        vertical-align: middle;\n",
       "    }\n",
       "\n",
       "    .dataframe tbody tr th {\n",
       "        vertical-align: top;\n",
       "    }\n",
       "\n",
       "    .dataframe thead th {\n",
       "        text-align: right;\n",
       "    }\n",
       "</style>\n",
       "<table border=\"1\" class=\"dataframe\">\n",
       "  <thead>\n",
       "    <tr style=\"text-align: right;\">\n",
       "      <th></th>\n",
       "      <th>business_id</th>\n",
       "      <th>address</th>\n",
       "      <th>name</th>\n",
       "      <th>yelp_star</th>\n",
       "      <th>mean_star</th>\n",
       "      <th>review_count</th>\n",
       "      <th>demerit</th>\n",
       "      <th>grade</th>\n",
       "      <th>keyword_count</th>\n",
       "      <th>inspection_fail_count</th>\n",
       "      <th>inspection_fail_indicator</th>\n",
       "      <th>one_star_count</th>\n",
       "      <th>prop_one_star</th>\n",
       "    </tr>\n",
       "  </thead>\n",
       "  <tbody>\n",
       "    <tr>\n",
       "      <th>9639</th>\n",
       "      <td>zzzaIBwimxVej4tY6qFOUQ</td>\n",
       "      <td>6728 W Cheyenne Ave</td>\n",
       "      <td>Guthrie's</td>\n",
       "      <td>3.5</td>\n",
       "      <td>3.432432</td>\n",
       "      <td>37</td>\n",
       "      <td>[8, 2, 3]</td>\n",
       "      <td>['A', 'A', 'A']</td>\n",
       "      <td>{'sick': 1, 'dirty': 1, 'disgusting': 1, 'vomi...</td>\n",
       "      <td>0</td>\n",
       "      <td>0</td>\n",
       "      <td>4</td>\n",
       "      <td>0.108108</td>\n",
       "    </tr>\n",
       "  </tbody>\n",
       "</table>\n",
       "</div>"
      ],
      "text/plain": [
       "                 business_id              address       name  yelp_star  \\\n",
       "9639  zzzaIBwimxVej4tY6qFOUQ  6728 W Cheyenne Ave  Guthrie's        3.5   \n",
       "\n",
       "      mean_star  review_count    demerit            grade  \\\n",
       "9639   3.432432            37  [8, 2, 3]  ['A', 'A', 'A']   \n",
       "\n",
       "                                          keyword_count  \\\n",
       "9639  {'sick': 1, 'dirty': 1, 'disgusting': 1, 'vomi...   \n",
       "\n",
       "      inspection_fail_count  inspection_fail_indicator  one_star_count  \\\n",
       "9639                      0                          0               4   \n",
       "\n",
       "      prop_one_star  \n",
       "9639       0.108108  "
      ]
     },
     "execution_count": 3,
     "metadata": {},
     "output_type": "execute_result"
    }
   ],
   "source": [
    "df.tail(1)"
   ]
  },
  {
   "cell_type": "code",
   "execution_count": 4,
   "metadata": {
    "collapsed": true
   },
   "outputs": [],
   "source": [
    "# create total keyword count column and split keyword_count into many columns\n",
    "for i in range(len(df)):\n",
    "    keywords = ast.literal_eval(df.at[i, 'keyword_count'])\n",
    "    df.at[i, \"keyword_total\"] = sum(keywords.values())\n",
    "    for word in keywords:\n",
    "        df.at[i, word] = keywords[word]"
   ]
  },
  {
   "cell_type": "code",
   "execution_count": 5,
   "metadata": {},
   "outputs": [
    {
     "data": {
      "text/html": [
       "<div>\n",
       "<style scoped>\n",
       "    .dataframe tbody tr th:only-of-type {\n",
       "        vertical-align: middle;\n",
       "    }\n",
       "\n",
       "    .dataframe tbody tr th {\n",
       "        vertical-align: top;\n",
       "    }\n",
       "\n",
       "    .dataframe thead th {\n",
       "        text-align: right;\n",
       "    }\n",
       "</style>\n",
       "<table border=\"1\" class=\"dataframe\">\n",
       "  <thead>\n",
       "    <tr style=\"text-align: right;\">\n",
       "      <th></th>\n",
       "      <th>business_id</th>\n",
       "      <th>address</th>\n",
       "      <th>name</th>\n",
       "      <th>yelp_star</th>\n",
       "      <th>mean_star</th>\n",
       "      <th>review_count</th>\n",
       "      <th>demerit</th>\n",
       "      <th>grade</th>\n",
       "      <th>keyword_count</th>\n",
       "      <th>inspection_fail_count</th>\n",
       "      <th>...</th>\n",
       "      <th>contaminate</th>\n",
       "      <th>bacteria</th>\n",
       "      <th>salmonella</th>\n",
       "      <th>e coli</th>\n",
       "      <th>infest</th>\n",
       "      <th>retch</th>\n",
       "      <th>gag</th>\n",
       "      <th>stench</th>\n",
       "      <th>e-coli</th>\n",
       "      <th>tainted</th>\n",
       "    </tr>\n",
       "  </thead>\n",
       "  <tbody>\n",
       "    <tr>\n",
       "      <th>9639</th>\n",
       "      <td>zzzaIBwimxVej4tY6qFOUQ</td>\n",
       "      <td>6728 W Cheyenne Ave</td>\n",
       "      <td>Guthrie's</td>\n",
       "      <td>3.5</td>\n",
       "      <td>3.432432</td>\n",
       "      <td>37</td>\n",
       "      <td>[8, 2, 3]</td>\n",
       "      <td>['A', 'A', 'A']</td>\n",
       "      <td>{'sick': 1, 'dirty': 1, 'disgusting': 1, 'vomi...</td>\n",
       "      <td>0</td>\n",
       "      <td>...</td>\n",
       "      <td>0.0</td>\n",
       "      <td>0.0</td>\n",
       "      <td>0.0</td>\n",
       "      <td>0.0</td>\n",
       "      <td>0.0</td>\n",
       "      <td>0.0</td>\n",
       "      <td>0.0</td>\n",
       "      <td>0.0</td>\n",
       "      <td>0.0</td>\n",
       "      <td>0.0</td>\n",
       "    </tr>\n",
       "  </tbody>\n",
       "</table>\n",
       "<p>1 rows × 46 columns</p>\n",
       "</div>"
      ],
      "text/plain": [
       "                 business_id              address       name  yelp_star  \\\n",
       "9639  zzzaIBwimxVej4tY6qFOUQ  6728 W Cheyenne Ave  Guthrie's        3.5   \n",
       "\n",
       "      mean_star  review_count    demerit            grade  \\\n",
       "9639   3.432432            37  [8, 2, 3]  ['A', 'A', 'A']   \n",
       "\n",
       "                                          keyword_count  \\\n",
       "9639  {'sick': 1, 'dirty': 1, 'disgusting': 1, 'vomi...   \n",
       "\n",
       "      inspection_fail_count   ...     contaminate  bacteria  salmonella  \\\n",
       "9639                      0   ...             0.0       0.0         0.0   \n",
       "\n",
       "      e coli  infest  retch   gag   stench  e-coli  tainted  \n",
       "9639     0.0     0.0    0.0    0.0     0.0     0.0      0.0  \n",
       "\n",
       "[1 rows x 46 columns]"
      ]
     },
     "execution_count": 5,
     "metadata": {},
     "output_type": "execute_result"
    }
   ],
   "source": [
    "df.tail(1)"
   ]
  },
  {
   "cell_type": "code",
   "execution_count": 6,
   "metadata": {
    "collapsed": true
   },
   "outputs": [],
   "source": [
    "#scatterMatrix = pd.plotting.scatter_matrix(df, alpha=0.2, figsize=(18, 18), diagonal='kde')"
   ]
  },
  {
   "cell_type": "code",
   "execution_count": 33,
   "metadata": {
    "collapsed": true
   },
   "outputs": [],
   "source": [
    "# Prep dataframes for models\n",
    "X = df.drop(['business_id', 'address', 'name', 'demerit', 'grade', 'inspection_fail_count', 'inspection_fail_indicator', 'keyword_count'], axis=1)\n",
    "Y_categorize = df[['inspection_fail_indicator']]\n",
    "Y_regression = df[['inspection_fail_count']]"
   ]
  },
  {
   "cell_type": "code",
   "execution_count": 72,
   "metadata": {},
   "outputs": [
    {
     "name": "stdout",
     "output_type": "stream",
     "text": [
      "1    7987\n",
      "0    1653\n",
      "Name: inspection_fail_indicator, dtype: int64\n",
      "0.8285269709543569\n"
     ]
    }
   ],
   "source": [
    "# Up-sample Minority Class for Y_categorize\n",
    "print(df.inspection_fail_indicator.value_counts())\n",
    "print(7987/9640)"
   ]
  },
  {
   "cell_type": "code",
   "execution_count": 13,
   "metadata": {},
   "outputs": [
    {
     "data": {
      "text/plain": [
       "1    7987\n",
       "0    7987\n",
       "Name: inspection_fail_indicator, dtype: int64"
      ]
     },
     "execution_count": 13,
     "metadata": {},
     "output_type": "execute_result"
    }
   ],
   "source": [
    "df_majority = df[df.inspection_fail_indicator==1]\n",
    "df_minority = df[df.inspection_fail_indicator==0]\n",
    "df_minority_upsampled = resample(df_minority, \n",
    "                                 replace=True,      # sample with replacement\n",
    "                                 n_samples=7987,    # to match majority class\n",
    "                                 random_state=23)   # reproducible results\n",
    "df_upsampled = pd.concat([df_majority, df_minority_upsampled])\n",
    "df_upsampled.inspection_fail_indicator.value_counts()"
   ]
  },
  {
   "cell_type": "code",
   "execution_count": 17,
   "metadata": {
    "collapsed": true
   },
   "outputs": [],
   "source": [
    "# Prep up-sampled dataframes for models\n",
    "Xup = df.drop(['business_id', 'address', 'name', 'demerit', 'grade', 'inspection_fail_count', 'inspection_fail_indicator', 'keyword_count'], axis=1)\n",
    "Yup_categorize = df[['inspection_fail_indicator']]\n",
    "Yup_regression = df[['inspection_fail_count']]"
   ]
  },
  {
   "cell_type": "code",
   "execution_count": null,
   "metadata": {
    "collapsed": true
   },
   "outputs": [],
   "source": []
  },
  {
   "cell_type": "code",
   "execution_count": null,
   "metadata": {
    "collapsed": true
   },
   "outputs": [],
   "source": []
  },
  {
   "cell_type": "code",
   "execution_count": 34,
   "metadata": {
    "collapsed": true
   },
   "outputs": [],
   "source": [
    "####################\n",
    "##   Regression   ##\n",
    "####################"
   ]
  },
  {
   "cell_type": "code",
   "execution_count": 35,
   "metadata": {},
   "outputs": [
    {
     "name": "stdout",
     "output_type": "stream",
     "text": [
      "Accuracy: 0.03 (+/- 0.05)\n"
     ]
    }
   ],
   "source": [
    "# Simple Linear Regression\n",
    "lm = linear_model.LinearRegression()\n",
    "scores = cross_val_score(lm, X, Y_regression, cv=10)\n",
    "print(\"Accuracy: %0.2f (+/- %0.2f)\" % (scores.mean(), scores.std() * 2))"
   ]
  },
  {
   "cell_type": "code",
   "execution_count": 36,
   "metadata": {},
   "outputs": [
    {
     "name": "stdout",
     "output_type": "stream",
     "text": [
      "[-841.56203183 -651.84139568 -556.3438208  -718.22362646 -637.9870307\n",
      " -705.73815275 -629.78390588 -545.68075627 -645.5441869  -476.86070423]\n",
      "Simple Linear Regression Test MSE: -640.9565611506198\n"
     ]
    }
   ],
   "source": [
    "scores = cross_validate(lm, X, Y_regression, cv=10, scoring=\"neg_mean_squared_error\")\n",
    "sorted(scores.keys()) \n",
    "print(scores[\"test_score\"])\n",
    "print(\"Simple Linear Regression Test MSE:\", scores[\"test_score\"].mean())"
   ]
  },
  {
   "cell_type": "code",
   "execution_count": 38,
   "metadata": {},
   "outputs": [
    {
     "name": "stdout",
     "output_type": "stream",
     "text": [
      "Lasso Test MSE: -640.9565611506198\n"
     ]
    }
   ],
   "source": [
    "# Lasso\n",
    "lasso = linear_model.Lasso()\n",
    "scores = cross_validate(lm, X, Y_regression, cv=10, scoring=\"neg_mean_squared_error\")\n",
    "sorted(scores.keys()) \n",
    "print(\"Lasso Test MSE:\", scores[\"test_score\"].mean())"
   ]
  },
  {
   "cell_type": "code",
   "execution_count": 39,
   "metadata": {},
   "outputs": [
    {
     "name": "stdout",
     "output_type": "stream",
     "text": [
      "10\n",
      "20\n"
     ]
    }
   ],
   "source": [
    "# K Nearest Neighbor Regression\n",
    "Klist = []\n",
    "for K in range(1,21):\n",
    "    knn = KNeighborsRegressor(n_neighbors=K)\n",
    "    Kscores = cross_val_score(knn, X, np.ravel(Y_regression), cv=10)\n",
    "    Klist.append(Kscores.mean())\n",
    "    if (K%10 == 0): \n",
    "        print(K)"
   ]
  },
  {
   "cell_type": "code",
   "execution_count": 40,
   "metadata": {},
   "outputs": [
    {
     "data": {
      "text/plain": [
       "<matplotlib.collections.PathCollection at 0x10d1f0978>"
      ]
     },
     "execution_count": 40,
     "metadata": {},
     "output_type": "execute_result"
    },
    {
     "data": {
      "image/png": "[encoded data removed]",
      "text/plain": [
       "<Figure size 432x288 with 1 Axes>"
      ]
     },
     "metadata": {},
     "output_type": "display_data"
    }
   ],
   "source": [
    "plt.scatter(range(1,21), Klist, alpha = 0.5)"
   ]
  },
  {
   "cell_type": "code",
   "execution_count": 42,
   "metadata": {},
   "outputs": [
    {
     "name": "stdout",
     "output_type": "stream",
     "text": [
      "KNN K=5 Test MSE: -770.4977095435686\n"
     ]
    }
   ],
   "source": [
    "knn = KNeighborsRegressor(n_neighbors=5)\n",
    "scores = cross_validate(knn, X, Y_regression, cv=10, scoring=\"neg_mean_squared_error\")\n",
    "sorted(scores.keys()) \n",
    "print(\"KNN K=5 Test MSE:\", scores[\"test_score\"].mean())"
   ]
  },
  {
   "cell_type": "code",
   "execution_count": 43,
   "metadata": {
    "collapsed": true
   },
   "outputs": [],
   "source": [
    "# Decision Trees"
   ]
  },
  {
   "cell_type": "code",
   "execution_count": 44,
   "metadata": {},
   "outputs": [
    {
     "name": "stdout",
     "output_type": "stream",
     "text": [
      "Accuracy: -0.74 (+/- 0.30)\n"
     ]
    }
   ],
   "source": [
    "dtree = tree.DecisionTreeRegressor()\n",
    "scores = cross_val_score(dtree, X, Y_regression, cv=10)\n",
    "print(\"Accuracy: %0.2f (+/- %0.2f)\" % (scores.mean(), scores.std() * 2))"
   ]
  },
  {
   "cell_type": "code",
   "execution_count": 46,
   "metadata": {},
   "outputs": [
    {
     "name": "stdout",
     "output_type": "stream",
     "text": [
      "Decision Tree Test MSE: -1118.1894010758035\n"
     ]
    }
   ],
   "source": [
    "scores = cross_validate(dtree, X, Y_regression, cv=10, scoring=\"neg_mean_squared_error\")\n",
    "sorted(scores.keys()) \n",
    "print(\"Decision Tree Test MSE:\", scores[\"test_score\"].mean())"
   ]
  },
  {
   "cell_type": "code",
   "execution_count": 47,
   "metadata": {},
   "outputs": [
    {
     "name": "stderr",
     "output_type": "stream",
     "text": [
      "/anaconda3/lib/python3.6/site-packages/sklearn/model_selection/_split.py:605: Warning: The least populated class in y has only 2 members, which is too few. The minimum number of members in any class cannot be less than n_splits=10.\n",
      "  % (min_groups, self.n_splits)), Warning)\n"
     ]
    },
    {
     "name": "stdout",
     "output_type": "stream",
     "text": [
      "Accuracy: 0.16 (+/- 0.02)\n"
     ]
    }
   ],
   "source": [
    "# Random Forest\n",
    "forest = RandomForestClassifier(min_samples_leaf=10, n_jobs=4)\n",
    "scores = cross_val_score(forest, X, np.ravel(Y_regression), cv=10)\n",
    "print(\"Accuracy: %0.2f (+/- %0.2f)\" % (scores.mean(), scores.std() * 2))"
   ]
  },
  {
   "cell_type": "code",
   "execution_count": 48,
   "metadata": {},
   "outputs": [
    {
     "name": "stderr",
     "output_type": "stream",
     "text": [
      "/anaconda3/lib/python3.6/site-packages/sklearn/model_selection/_split.py:605: Warning: The least populated class in y has only 2 members, which is too few. The minimum number of members in any class cannot be less than n_splits=10.\n",
      "  % (min_groups, self.n_splits)), Warning)\n"
     ]
    },
    {
     "name": "stdout",
     "output_type": "stream",
     "text": [
      "Random Forest Test MSE: -830.123836459208\n"
     ]
    }
   ],
   "source": [
    "scores = cross_validate(forest, X, np.ravel(Y_regression), cv=10, scoring=\"neg_mean_squared_error\")\n",
    "print(\"Random Forest Test MSE:\", scores[\"test_score\"].mean())"
   ]
  },
  {
   "cell_type": "code",
   "execution_count": 49,
   "metadata": {
    "collapsed": true
   },
   "outputs": [],
   "source": [
    "# SVM"
   ]
  },
  {
   "cell_type": "code",
   "execution_count": 50,
   "metadata": {},
   "outputs": [
    {
     "name": "stdout",
     "output_type": "stream",
     "text": [
      "Accuracy: -0.11 (+/- 0.01)\n"
     ]
    }
   ],
   "source": [
    "svr = svm.SVR()\n",
    "scores = cross_val_score(svr, X, np.ravel(Y_regression), cv=10)\n",
    "print(\"Accuracy: %0.2f (+/- %0.2f)\" % (scores.mean(), scores.std() * 2))"
   ]
  },
  {
   "cell_type": "code",
   "execution_count": null,
   "metadata": {
    "collapsed": true
   },
   "outputs": [],
   "source": []
  },
  {
   "cell_type": "code",
   "execution_count": 15,
   "metadata": {
    "collapsed": true
   },
   "outputs": [],
   "source": [
    "####################\n",
    "##   Regression   ##\n",
    "##   Up Sampled   ##\n",
    "####################"
   ]
  },
  {
   "cell_type": "code",
   "execution_count": 18,
   "metadata": {},
   "outputs": [
    {
     "name": "stdout",
     "output_type": "stream",
     "text": [
      "Accuracy: 0.03 (+/- 0.05)\n"
     ]
    }
   ],
   "source": [
    "# Simple Linear Regression\n",
    "lm = linear_model.LinearRegression()\n",
    "scores = cross_val_score(lm, Xup, Yup_regression, cv=10)\n",
    "print(\"Accuracy: %0.2f (+/- %0.2f)\" % (scores.mean(), scores.std() * 2))"
   ]
  },
  {
   "cell_type": "code",
   "execution_count": 19,
   "metadata": {},
   "outputs": [
    {
     "name": "stdout",
     "output_type": "stream",
     "text": [
      "Simple Linear Regression Test MSE: -640.9565611506198\n"
     ]
    }
   ],
   "source": [
    "scores = cross_validate(lm, Xup, Yup_regression, cv=10, scoring=\"neg_mean_squared_error\")\n",
    "sorted(scores.keys()) \n",
    "print(\"Simple Linear Regression Test MSE:\", scores[\"test_score\"].mean())"
   ]
  },
  {
   "cell_type": "code",
   "execution_count": 20,
   "metadata": {},
   "outputs": [
    {
     "name": "stdout",
     "output_type": "stream",
     "text": [
      "Lasso Test MSE: -640.9565611506198\n"
     ]
    }
   ],
   "source": [
    "# Lasso\n",
    "lasso = linear_model.Lasso()\n",
    "scores = cross_validate(lm, Xup, Yup_regression, cv=10, scoring=\"neg_mean_squared_error\")\n",
    "sorted(scores.keys()) \n",
    "print(\"Lasso Test MSE:\", scores[\"test_score\"].mean())"
   ]
  },
  {
   "cell_type": "code",
   "execution_count": 21,
   "metadata": {},
   "outputs": [
    {
     "name": "stdout",
     "output_type": "stream",
     "text": [
      "10\n",
      "20\n",
      "30\n",
      "40\n",
      "50\n"
     ]
    }
   ],
   "source": [
    "# K Nearest Neighbor Regression\n",
    "Klist = []\n",
    "for K in range(1,51):\n",
    "    knn = KNeighborsRegressor(n_neighbors=K)\n",
    "    Kscores = cross_val_score(knn, Xup, np.ravel(Yup_regression), cv=10)\n",
    "    Klist.append(Kscores.mean())\n",
    "    if (K%10 == 0): \n",
    "        print(K)"
   ]
  },
  {
   "cell_type": "code",
   "execution_count": 22,
   "metadata": {},
   "outputs": [
    {
     "data": {
      "text/plain": [
       "<matplotlib.collections.PathCollection at 0x10fda16d8>"
      ]
     },
     "execution_count": 22,
     "metadata": {},
     "output_type": "execute_result"
    },
    {
     "data": {
      "image/png": "[encoded data removed]",
      "text/plain": [
       "<Figure size 432x288 with 1 Axes>"
      ]
     },
     "metadata": {},
     "output_type": "display_data"
    }
   ],
   "source": [
    "plt.scatter(range(1,51), Klist, alpha = 0.5)"
   ]
  },
  {
   "cell_type": "code",
   "execution_count": 25,
   "metadata": {},
   "outputs": [
    {
     "name": "stdout",
     "output_type": "stream",
     "text": [
      "KNN K=7 Test MSE: -729.90323270387\n"
     ]
    }
   ],
   "source": [
    "knn = KNeighborsRegressor(n_neighbors=7)\n",
    "scores = cross_validate(knn, Xup, Yup_regression, cv=10, scoring=\"neg_mean_squared_error\")\n",
    "sorted(scores.keys()) \n",
    "print(\"KNN K=7 Test MSE:\", scores[\"test_score\"].mean())"
   ]
  },
  {
   "cell_type": "code",
   "execution_count": null,
   "metadata": {
    "collapsed": true
   },
   "outputs": [],
   "source": [
    "# Decision Trees"
   ]
  },
  {
   "cell_type": "code",
   "execution_count": 26,
   "metadata": {},
   "outputs": [
    {
     "name": "stdout",
     "output_type": "stream",
     "text": [
      "Accuracy: -0.74 (+/- 0.31)\n"
     ]
    }
   ],
   "source": [
    "dtree = tree.DecisionTreeRegressor()\n",
    "scores = cross_val_score(dtree, Xup, Yup_regression, cv=10)\n",
    "print(\"Accuracy: %0.2f (+/- %0.2f)\" % (scores.mean(), scores.std() * 2))"
   ]
  },
  {
   "cell_type": "code",
   "execution_count": 27,
   "metadata": {},
   "outputs": [
    {
     "name": "stderr",
     "output_type": "stream",
     "text": [
      "/anaconda3/lib/python3.6/site-packages/sklearn/model_selection/_split.py:605: Warning: The least populated class in y has only 2 members, which is too few. The minimum number of members in any class cannot be less than n_splits=10.\n",
      "  % (min_groups, self.n_splits)), Warning)\n"
     ]
    },
    {
     "name": "stdout",
     "output_type": "stream",
     "text": [
      "Accuracy: 0.16 (+/- 0.01)\n"
     ]
    }
   ],
   "source": [
    "# Random Forest\n",
    "forest = RandomForestClassifier(min_samples_leaf=10, n_jobs=4)\n",
    "scores = cross_val_score(forest, Xup, np.ravel(Yup_regression), cv=10)\n",
    "print(\"Accuracy: %0.2f (+/- %0.2f)\" % (scores.mean(), scores.std() * 2))"
   ]
  },
  {
   "cell_type": "code",
   "execution_count": 28,
   "metadata": {},
   "outputs": [
    {
     "name": "stderr",
     "output_type": "stream",
     "text": [
      "/anaconda3/lib/python3.6/site-packages/sklearn/model_selection/_split.py:605: Warning: The least populated class in y has only 2 members, which is too few. The minimum number of members in any class cannot be less than n_splits=10.\n",
      "  % (min_groups, self.n_splits)), Warning)\n"
     ]
    },
    {
     "name": "stdout",
     "output_type": "stream",
     "text": [
      "Random Forest Test MSE: -832.1145479434042\n"
     ]
    }
   ],
   "source": [
    "scores = cross_validate(forest, Xup, np.ravel(Yup_regression), cv=10, scoring=\"neg_mean_squared_error\")\n",
    "print(\"Random Forest Test MSE:\", scores[\"test_score\"].mean())"
   ]
  },
  {
   "cell_type": "code",
   "execution_count": 30,
   "metadata": {},
   "outputs": [
    {
     "name": "stdout",
     "output_type": "stream",
     "text": [
      "Accuracy: -0.11 (+/- 0.01)\n"
     ]
    }
   ],
   "source": [
    "# SVM\n",
    "svr = svm.SVR()\n",
    "scores = cross_val_score(svr, Xup, np.ravel(Yup_regression), cv=10)\n",
    "print(\"Accuracy: %0.2f (+/- %0.2f)\" % (scores.mean(), scores.std() * 2))"
   ]
  },
  {
   "cell_type": "code",
   "execution_count": 31,
   "metadata": {},
   "outputs": [
    {
     "name": "stdout",
     "output_type": "stream",
     "text": [
      "SVM Test MSE: -734.9396825784903\n"
     ]
    }
   ],
   "source": [
    "scores = cross_validate(svr, Xup, np.ravel(Yup_regression), cv=10, scoring=\"neg_mean_squared_error\")\n",
    "print(\"SVM Test MSE:\", scores[\"test_score\"].mean())"
   ]
  },
  {
   "cell_type": "code",
   "execution_count": null,
   "metadata": {
    "collapsed": true
   },
   "outputs": [],
   "source": []
  },
  {
   "cell_type": "code",
   "execution_count": null,
   "metadata": {
    "collapsed": true
   },
   "outputs": [],
   "source": [
    "########################\n",
    "##   Classification   ##\n",
    "########################"
   ]
  },
  {
   "cell_type": "code",
   "execution_count": 52,
   "metadata": {},
   "outputs": [
    {
     "name": "stdout",
     "output_type": "stream",
     "text": [
      "10\n",
      "20\n",
      "30\n",
      "40\n",
      "50\n",
      "60\n",
      "70\n",
      "80\n",
      "90\n",
      "100\n"
     ]
    }
   ],
   "source": [
    "# K Nearest Neighbor\n",
    "\n",
    "Klist = []\n",
    "for K in range(1,101):\n",
    "    knn = KNeighborsClassifier(n_neighbors=K)\n",
    "    Kscores = cross_val_score(knn, X, np.ravel(Y_categorize), cv=10)\n",
    "    Klist.append(Kscores.mean())\n",
    "    if (K%10 == 0): \n",
    "        print(K)"
   ]
  },
  {
   "cell_type": "code",
   "execution_count": 53,
   "metadata": {},
   "outputs": [
    {
     "data": {
      "text/plain": [
       "<matplotlib.collections.PathCollection at 0x10cf36ef0>"
      ]
     },
     "execution_count": 53,
     "metadata": {},
     "output_type": "execute_result"
    },
    {
     "data": {
      "image/png": "[encoded data removed]",
      "text/plain": [
       "<Figure size 432x288 with 1 Axes>"
      ]
     },
     "metadata": {},
     "output_type": "display_data"
    }
   ],
   "source": [
    "plt.scatter(range(1,101), Klist, alpha = 0.5)"
   ]
  },
  {
   "cell_type": "code",
   "execution_count": 54,
   "metadata": {},
   "outputs": [
    {
     "name": "stdout",
     "output_type": "stream",
     "text": [
      "Accuracy: 0.82 (+/- 0.00)\n",
      "Random Forest\n",
      "Accuracy: 0.8182571435326459 \n",
      "Precision: 0.8295865350366786 \n",
      "Recall: 0.9824711967653803 \n",
      "f1: 0.8995753448480144\n"
     ]
    }
   ],
   "source": [
    "# KNN K = 7\n",
    "knn = KNeighborsClassifier(n_neighbors=7)\n",
    "scores = cross_val_score(knn, X, np.ravel(Y_categorize), cv=10)\n",
    "print(\"KNN K=7\\nAccuracy: %0.2f (+/- %0.2f)\" % (scores.mean(), scores.std() * 2))\n",
    "scores = cross_validate(knn, X, np.ravel(Y_categorize), cv=10, scoring=(\"accuracy\", \"precision\", \"recall\", \"f1\"))\n",
    "print(\"Accuracy:\", scores[\"test_accuracy\"].mean(), \"\\nPrecision:\", scores[\"test_precision\"].mean(), \"\\nRecall:\", scores[\"test_recall\"].mean(), \"\\nf1:\", scores[\"test_f1\"].mean())"
   ]
  },
  {
   "cell_type": "code",
   "execution_count": 55,
   "metadata": {},
   "outputs": [
    {
     "name": "stdout",
     "output_type": "stream",
     "text": [
      "Accuracy: 0.83 (+/- 0.00)\n",
      "Random Forest\n",
      "Accuracy: 0.8282158718944999 \n",
      "Precision: 0.8284737875894574 \n",
      "Recall: 0.999624373825678 \n",
      "f1: 0.9060371472696435\n"
     ]
    }
   ],
   "source": [
    "# logistic regression\n",
    "logreg = LogisticRegression()\n",
    "scores = cross_val_score(logreg, X, np.ravel(Y_categorize), cv=10)\n",
    "print(\"Logistic Regression\\nAccuracy: %0.2f (+/- %0.2f)\" % (scores.mean(), scores.std() * 2))\n",
    "scores = cross_validate(logreg, X, np.ravel(Y_categorize), cv=10, scoring=(\"accuracy\", \"precision\", \"recall\", \"f1\"))\n",
    "print(\"Accuracy:\", scores[\"test_accuracy\"].mean(), \"\\nPrecision:\", scores[\"test_precision\"].mean(), \"\\nRecall:\", scores[\"test_recall\"].mean(), \"\\nf1:\", scores[\"test_f1\"].mean())"
   ]
  },
  {
   "cell_type": "code",
   "execution_count": 56,
   "metadata": {},
   "outputs": [
    {
     "name": "stderr",
     "output_type": "stream",
     "text": [
      "/anaconda3/lib/python3.6/site-packages/sklearn/discriminant_analysis.py:388: UserWarning: Variables are collinear.\n",
      "  warnings.warn(\"Variables are collinear.\")\n",
      "/anaconda3/lib/python3.6/site-packages/sklearn/discriminant_analysis.py:388: UserWarning: Variables are collinear.\n",
      "  warnings.warn(\"Variables are collinear.\")\n",
      "/anaconda3/lib/python3.6/site-packages/sklearn/discriminant_analysis.py:388: UserWarning: Variables are collinear.\n",
      "  warnings.warn(\"Variables are collinear.\")\n",
      "/anaconda3/lib/python3.6/site-packages/sklearn/discriminant_analysis.py:388: UserWarning: Variables are collinear.\n",
      "  warnings.warn(\"Variables are collinear.\")\n",
      "/anaconda3/lib/python3.6/site-packages/sklearn/discriminant_analysis.py:388: UserWarning: Variables are collinear.\n",
      "  warnings.warn(\"Variables are collinear.\")\n",
      "/anaconda3/lib/python3.6/site-packages/sklearn/discriminant_analysis.py:388: UserWarning: Variables are collinear.\n",
      "  warnings.warn(\"Variables are collinear.\")\n",
      "/anaconda3/lib/python3.6/site-packages/sklearn/discriminant_analysis.py:388: UserWarning: Variables are collinear.\n",
      "  warnings.warn(\"Variables are collinear.\")\n",
      "/anaconda3/lib/python3.6/site-packages/sklearn/discriminant_analysis.py:388: UserWarning: Variables are collinear.\n",
      "  warnings.warn(\"Variables are collinear.\")\n",
      "/anaconda3/lib/python3.6/site-packages/sklearn/discriminant_analysis.py:388: UserWarning: Variables are collinear.\n",
      "  warnings.warn(\"Variables are collinear.\")\n",
      "/anaconda3/lib/python3.6/site-packages/sklearn/discriminant_analysis.py:388: UserWarning: Variables are collinear.\n",
      "  warnings.warn(\"Variables are collinear.\")\n",
      "/anaconda3/lib/python3.6/site-packages/sklearn/discriminant_analysis.py:388: UserWarning: Variables are collinear.\n",
      "  warnings.warn(\"Variables are collinear.\")\n",
      "/anaconda3/lib/python3.6/site-packages/sklearn/discriminant_analysis.py:388: UserWarning: Variables are collinear.\n",
      "  warnings.warn(\"Variables are collinear.\")\n"
     ]
    },
    {
     "name": "stdout",
     "output_type": "stream",
     "text": [
      "Accuracy: 0.83 (+/- 0.00)\n"
     ]
    },
    {
     "name": "stderr",
     "output_type": "stream",
     "text": [
      "/anaconda3/lib/python3.6/site-packages/sklearn/discriminant_analysis.py:388: UserWarning: Variables are collinear.\n",
      "  warnings.warn(\"Variables are collinear.\")\n",
      "/anaconda3/lib/python3.6/site-packages/sklearn/discriminant_analysis.py:388: UserWarning: Variables are collinear.\n",
      "  warnings.warn(\"Variables are collinear.\")\n",
      "/anaconda3/lib/python3.6/site-packages/sklearn/discriminant_analysis.py:388: UserWarning: Variables are collinear.\n",
      "  warnings.warn(\"Variables are collinear.\")\n",
      "/anaconda3/lib/python3.6/site-packages/sklearn/discriminant_analysis.py:388: UserWarning: Variables are collinear.\n",
      "  warnings.warn(\"Variables are collinear.\")\n",
      "/anaconda3/lib/python3.6/site-packages/sklearn/discriminant_analysis.py:388: UserWarning: Variables are collinear.\n",
      "  warnings.warn(\"Variables are collinear.\")\n",
      "/anaconda3/lib/python3.6/site-packages/sklearn/discriminant_analysis.py:388: UserWarning: Variables are collinear.\n",
      "  warnings.warn(\"Variables are collinear.\")\n",
      "/anaconda3/lib/python3.6/site-packages/sklearn/discriminant_analysis.py:388: UserWarning: Variables are collinear.\n",
      "  warnings.warn(\"Variables are collinear.\")\n"
     ]
    },
    {
     "name": "stdout",
     "output_type": "stream",
     "text": [
      "Random Forest\n",
      "Accuracy: 0.8282159793913285 \n",
      "Precision: 0.8284737538813436 \n",
      "Recall: 0.999624373825678 \n",
      "f1: 0.9060372238170613\n"
     ]
    },
    {
     "name": "stderr",
     "output_type": "stream",
     "text": [
      "/anaconda3/lib/python3.6/site-packages/sklearn/discriminant_analysis.py:388: UserWarning: Variables are collinear.\n",
      "  warnings.warn(\"Variables are collinear.\")\n"
     ]
    }
   ],
   "source": [
    "# LDA\n",
    "lda = LinearDiscriminantAnalysis()\n",
    "scores = cross_val_score(lda, X, np.ravel(Y_categorize), cv=10)\n",
    "print(\"LDA\\nAccuracy: %0.2f (+/- %0.2f)\" % (scores.mean(), scores.std() * 2))\n",
    "scores = cross_validate(lda, X, np.ravel(Y_categorize), cv=10, scoring=(\"accuracy\", \"precision\", \"recall\", \"f1\"))\n",
    "print(\"Accuracy:\", scores[\"test_accuracy\"].mean(), \"\\nPrecision:\", scores[\"test_precision\"].mean(), \"\\nRecall:\", scores[\"test_recall\"].mean(), \"\\nf1:\", scores[\"test_f1\"].mean())"
   ]
  },
  {
   "cell_type": "code",
   "execution_count": 57,
   "metadata": {},
   "outputs": [
    {
     "name": "stderr",
     "output_type": "stream",
     "text": [
      "/anaconda3/lib/python3.6/site-packages/sklearn/discriminant_analysis.py:682: UserWarning: Variables are collinear\n",
      "  warnings.warn(\"Variables are collinear\")\n",
      "/anaconda3/lib/python3.6/site-packages/sklearn/discriminant_analysis.py:682: UserWarning: Variables are collinear\n",
      "  warnings.warn(\"Variables are collinear\")\n",
      "/anaconda3/lib/python3.6/site-packages/sklearn/discriminant_analysis.py:682: UserWarning: Variables are collinear\n",
      "  warnings.warn(\"Variables are collinear\")\n",
      "/anaconda3/lib/python3.6/site-packages/sklearn/discriminant_analysis.py:682: UserWarning: Variables are collinear\n",
      "  warnings.warn(\"Variables are collinear\")\n",
      "/anaconda3/lib/python3.6/site-packages/sklearn/discriminant_analysis.py:682: UserWarning: Variables are collinear\n",
      "  warnings.warn(\"Variables are collinear\")\n",
      "/anaconda3/lib/python3.6/site-packages/sklearn/discriminant_analysis.py:682: UserWarning: Variables are collinear\n",
      "  warnings.warn(\"Variables are collinear\")\n",
      "/anaconda3/lib/python3.6/site-packages/sklearn/discriminant_analysis.py:682: UserWarning: Variables are collinear\n",
      "  warnings.warn(\"Variables are collinear\")\n",
      "/anaconda3/lib/python3.6/site-packages/sklearn/discriminant_analysis.py:682: UserWarning: Variables are collinear\n",
      "  warnings.warn(\"Variables are collinear\")\n",
      "/anaconda3/lib/python3.6/site-packages/sklearn/discriminant_analysis.py:682: UserWarning: Variables are collinear\n",
      "  warnings.warn(\"Variables are collinear\")\n",
      "/anaconda3/lib/python3.6/site-packages/sklearn/discriminant_analysis.py:682: UserWarning: Variables are collinear\n",
      "  warnings.warn(\"Variables are collinear\")\n",
      "/anaconda3/lib/python3.6/site-packages/sklearn/discriminant_analysis.py:682: UserWarning: Variables are collinear\n",
      "  warnings.warn(\"Variables are collinear\")\n",
      "/anaconda3/lib/python3.6/site-packages/sklearn/discriminant_analysis.py:682: UserWarning: Variables are collinear\n",
      "  warnings.warn(\"Variables are collinear\")\n"
     ]
    },
    {
     "name": "stdout",
     "output_type": "stream",
     "text": [
      "Accuracy: 0.24 (+/- 0.03)\n"
     ]
    },
    {
     "name": "stderr",
     "output_type": "stream",
     "text": [
      "/anaconda3/lib/python3.6/site-packages/sklearn/discriminant_analysis.py:682: UserWarning: Variables are collinear\n",
      "  warnings.warn(\"Variables are collinear\")\n",
      "/anaconda3/lib/python3.6/site-packages/sklearn/discriminant_analysis.py:682: UserWarning: Variables are collinear\n",
      "  warnings.warn(\"Variables are collinear\")\n",
      "/anaconda3/lib/python3.6/site-packages/sklearn/discriminant_analysis.py:682: UserWarning: Variables are collinear\n",
      "  warnings.warn(\"Variables are collinear\")\n",
      "/anaconda3/lib/python3.6/site-packages/sklearn/discriminant_analysis.py:682: UserWarning: Variables are collinear\n",
      "  warnings.warn(\"Variables are collinear\")\n"
     ]
    },
    {
     "name": "stdout",
     "output_type": "stream",
     "text": [
      "Random Forest\n",
      "Accuracy: 0.23930797549000857 \n",
      "Precision: 0.8949612149814362 \n",
      "Recall: 0.09314650832337415 \n",
      "f1: 0.16770297461298356\n"
     ]
    },
    {
     "name": "stderr",
     "output_type": "stream",
     "text": [
      "/anaconda3/lib/python3.6/site-packages/sklearn/discriminant_analysis.py:682: UserWarning: Variables are collinear\n",
      "  warnings.warn(\"Variables are collinear\")\n",
      "/anaconda3/lib/python3.6/site-packages/sklearn/discriminant_analysis.py:682: UserWarning: Variables are collinear\n",
      "  warnings.warn(\"Variables are collinear\")\n",
      "/anaconda3/lib/python3.6/site-packages/sklearn/discriminant_analysis.py:682: UserWarning: Variables are collinear\n",
      "  warnings.warn(\"Variables are collinear\")\n",
      "/anaconda3/lib/python3.6/site-packages/sklearn/discriminant_analysis.py:682: UserWarning: Variables are collinear\n",
      "  warnings.warn(\"Variables are collinear\")\n"
     ]
    }
   ],
   "source": [
    "# QDA\n",
    "qda = QuadraticDiscriminantAnalysis()\n",
    "scores = cross_val_score(qda, X, np.ravel(Y_categorize), cv=10)\n",
    "print(\"QDA\\nAccuracy: %0.2f (+/- %0.2f)\" % (scores.mean(), scores.std() * 2))\n",
    "scores = cross_validate(qda, X, np.ravel(Y_categorize), cv=10, scoring=(\"accuracy\", \"precision\", \"recall\", \"f1\"))\n",
    "print(\"Accuracy:\", scores[\"test_accuracy\"].mean(), \"\\nPrecision:\", scores[\"test_precision\"].mean(), \"\\nRecall:\", scores[\"test_recall\"].mean(), \"\\nf1:\", scores[\"test_f1\"].mean())"
   ]
  },
  {
   "cell_type": "code",
   "execution_count": 58,
   "metadata": {},
   "outputs": [
    {
     "name": "stdout",
     "output_type": "stream",
     "text": [
      "Accuracy: 0.73 (+/- 0.02)\n",
      "Random Forest\n",
      "Accuracy: 0.7343381851128434 \n",
      "Precision: 0.8294194580233437 \n",
      "Recall: 0.8552650399465497 \n",
      "f1: 0.842083567865755\n"
     ]
    }
   ],
   "source": [
    "# Decision Trees\n",
    "dtree = tree.DecisionTreeClassifier()\n",
    "scores = cross_val_score(dtree, X, Y_categorize, cv=10)\n",
    "print(\"Decision Tree\\nAccuracy: %0.2f (+/- %0.2f)\" % (scores.mean(), scores.std() * 2))\n",
    "scores = cross_validate(dtree, X, np.ravel(Y_categorize), cv=10, scoring=(\"accuracy\", \"precision\", \"recall\", \"f1\"))\n",
    "print(\"Accuracy:\", scores[\"test_accuracy\"].mean(), \"\\nPrecision:\", scores[\"test_precision\"].mean(), \"\\nRecall:\", scores[\"test_recall\"].mean(), \"\\nf1:\", scores[\"test_f1\"].mean())"
   ]
  },
  {
   "cell_type": "code",
   "execution_count": 59,
   "metadata": {},
   "outputs": [
    {
     "name": "stdout",
     "output_type": "stream",
     "text": [
      "Accuracy: 0.59 (+/- 0.04)\n",
      "Random Forest\n",
      "Accuracy: 0.5910765287226727 \n",
      "Precision: 0.8312203795341533 \n",
      "Recall: 0.6355298446366228 \n",
      "f1: 0.719769361892679\n"
     ]
    }
   ],
   "source": [
    "# Random Forest\n",
    "forest = RandomForestClassifier(min_samples_leaf=10, n_jobs=4, class_weight=\"balanced\")\n",
    "scores = cross_val_score(forest, X, np.ravel(Y_categorize), cv=10)\n",
    "print(\"Random Forest\\nAccuracy: %0.2f (+/- %0.2f)\" % (scores.mean(), scores.std() * 2))\n",
    "scores = cross_validate(forest, X, np.ravel(Y_categorize), cv=10, scoring=(\"accuracy\", \"precision\", \"recall\", \"f1\"))\n",
    "print(\"Accuracy:\", scores[\"test_accuracy\"].mean(), \"\\nPrecision:\", scores[\"test_precision\"].mean(), \"\\nRecall:\", scores[\"test_recall\"].mean(), \"\\nf1:\", scores[\"test_f1\"].mean())"
   ]
  },
  {
   "cell_type": "code",
   "execution_count": 60,
   "metadata": {},
   "outputs": [
    {
     "name": "stdout",
     "output_type": "stream",
     "text": [
      "Accuracy: 0.83 (+/- 0.00)\n",
      "Random Forest\n",
      "Accuracy: 0.8282158718944999 \n",
      "Precision: 0.8284738245412531 \n",
      "Recall: 0.9996243738256781 \n",
      "f1: 0.9060372177583357\n"
     ]
    }
   ],
   "source": [
    "# SVM\n",
    "svmModel = svm.SVC()\n",
    "scores = cross_val_score(svmModel, X, np.ravel(Y_categorize), cv=10)\n",
    "print(\"SVM\\nAccuracy: %0.2f (+/- %0.2f)\" % (scores.mean(), scores.std() * 2))\n",
    "scores = cross_validate(svmModel, X, np.ravel(Y_categorize), cv=10, scoring=(\"accuracy\", \"precision\", \"recall\", \"f1\"))\n",
    "print(\"Accuracy:\", scores[\"test_accuracy\"].mean(), \"\\nPrecision:\", scores[\"test_precision\"].mean(), \"\\nRecall:\", scores[\"test_recall\"].mean(), \"\\nf1:\", scores[\"test_f1\"].mean())"
   ]
  },
  {
   "cell_type": "code",
   "execution_count": null,
   "metadata": {
    "collapsed": true
   },
   "outputs": [],
   "source": []
  },
  {
   "cell_type": "code",
   "execution_count": null,
   "metadata": {},
   "outputs": [],
   "source": []
  },
  {
   "cell_type": "code",
   "execution_count": 51,
   "metadata": {
    "collapsed": true
   },
   "outputs": [],
   "source": [
    "########################\n",
    "##   Classification   ##\n",
    "##   Up Sampled       ##\n",
    "########################"
   ]
  },
  {
   "cell_type": "code",
   "execution_count": 62,
   "metadata": {},
   "outputs": [
    {
     "name": "stdout",
     "output_type": "stream",
     "text": [
      "10\n",
      "20\n",
      "30\n",
      "40\n",
      "50\n"
     ]
    }
   ],
   "source": [
    "# K Nearest Neighbor\n",
    "\n",
    "Klist = []\n",
    "for K in range(1,51):\n",
    "    knn = KNeighborsClassifier(n_neighbors=K)\n",
    "    Kscores = cross_val_score(knn, Xup, np.ravel(Yup_categorize), cv=10)\n",
    "    Klist.append(Kscores.mean())\n",
    "    if (K%10 == 0): \n",
    "        print(K)"
   ]
  },
  {
   "cell_type": "code",
   "execution_count": 63,
   "metadata": {},
   "outputs": [
    {
     "data": {
      "text/plain": [
       "<matplotlib.collections.PathCollection at 0x10cfa6240>"
      ]
     },
     "execution_count": 63,
     "metadata": {},
     "output_type": "execute_result"
    },
    {
     "data": {
      "image/png": "[encoded data removed]",
      "text/plain": [
       "<Figure size 432x288 with 1 Axes>"
      ]
     },
     "metadata": {},
     "output_type": "display_data"
    }
   ],
   "source": [
    "plt.scatter(range(1,51), Klist, alpha = 0.5)"
   ]
  },
  {
   "cell_type": "code",
   "execution_count": 64,
   "metadata": {},
   "outputs": [
    {
     "name": "stdout",
     "output_type": "stream",
     "text": [
      "KNN K=7\n",
      "Accuracy: 0.82 (+/- 0.00)\n",
      "Accuracy: 0.8182571435326459 \n",
      "Precision: 0.8295865350366786 \n",
      "Recall: 0.9824711967653803 \n",
      "f1: 0.8995753448480144\n"
     ]
    }
   ],
   "source": [
    "# KNN K = 7\n",
    "knn = KNeighborsClassifier(n_neighbors=7)\n",
    "scores = cross_val_score(knn, Xup, np.ravel(Yup_categorize), cv=10)\n",
    "print(\"KNN K=7\\nAccuracy: %0.2f (+/- %0.2f)\" % (scores.mean(), scores.std() * 2))\n",
    "scores = cross_validate(knn, Xup, np.ravel(Yup_categorize), cv=10, scoring=(\"accuracy\", \"precision\", \"recall\", \"f1\"))\n",
    "print(\"Accuracy:\", scores[\"test_accuracy\"].mean(), \"\\nPrecision:\", scores[\"test_precision\"].mean(), \"\\nRecall:\", scores[\"test_recall\"].mean(), \"\\nf1:\", scores[\"test_f1\"].mean())"
   ]
  },
  {
   "cell_type": "code",
   "execution_count": 65,
   "metadata": {},
   "outputs": [
    {
     "name": "stdout",
     "output_type": "stream",
     "text": [
      "Logistic Regression\n",
      "Accuracy: 0.83 (+/- 0.00)\n",
      "Accuracy: 0.8282158718944999 \n",
      "Precision: 0.8284737875894574 \n",
      "Recall: 0.999624373825678 \n",
      "f1: 0.9060371472696435\n"
     ]
    }
   ],
   "source": [
    "# logistic regression\n",
    "logreg = LogisticRegression()\n",
    "scores = cross_val_score(logreg, Xup, np.ravel(Yup_categorize), cv=10)\n",
    "print(\"Logistic Regression\\nAccuracy: %0.2f (+/- %0.2f)\" % (scores.mean(), scores.std() * 2))\n",
    "scores = cross_validate(logreg, Xup, np.ravel(Yup_categorize), cv=10, scoring=(\"accuracy\", \"precision\", \"recall\", \"f1\"))\n",
    "print(\"Accuracy:\", scores[\"test_accuracy\"].mean(), \"\\nPrecision:\", scores[\"test_precision\"].mean(), \"\\nRecall:\", scores[\"test_recall\"].mean(), \"\\nf1:\", scores[\"test_f1\"].mean())"
   ]
  },
  {
   "cell_type": "code",
   "execution_count": 66,
   "metadata": {},
   "outputs": [
    {
     "name": "stderr",
     "output_type": "stream",
     "text": [
      "/anaconda3/lib/python3.6/site-packages/sklearn/discriminant_analysis.py:388: UserWarning: Variables are collinear.\n",
      "  warnings.warn(\"Variables are collinear.\")\n",
      "/anaconda3/lib/python3.6/site-packages/sklearn/discriminant_analysis.py:388: UserWarning: Variables are collinear.\n",
      "  warnings.warn(\"Variables are collinear.\")\n",
      "/anaconda3/lib/python3.6/site-packages/sklearn/discriminant_analysis.py:388: UserWarning: Variables are collinear.\n",
      "  warnings.warn(\"Variables are collinear.\")\n",
      "/anaconda3/lib/python3.6/site-packages/sklearn/discriminant_analysis.py:388: UserWarning: Variables are collinear.\n",
      "  warnings.warn(\"Variables are collinear.\")\n",
      "/anaconda3/lib/python3.6/site-packages/sklearn/discriminant_analysis.py:388: UserWarning: Variables are collinear.\n",
      "  warnings.warn(\"Variables are collinear.\")\n",
      "/anaconda3/lib/python3.6/site-packages/sklearn/discriminant_analysis.py:388: UserWarning: Variables are collinear.\n",
      "  warnings.warn(\"Variables are collinear.\")\n",
      "/anaconda3/lib/python3.6/site-packages/sklearn/discriminant_analysis.py:388: UserWarning: Variables are collinear.\n",
      "  warnings.warn(\"Variables are collinear.\")\n",
      "/anaconda3/lib/python3.6/site-packages/sklearn/discriminant_analysis.py:388: UserWarning: Variables are collinear.\n",
      "  warnings.warn(\"Variables are collinear.\")\n",
      "/anaconda3/lib/python3.6/site-packages/sklearn/discriminant_analysis.py:388: UserWarning: Variables are collinear.\n",
      "  warnings.warn(\"Variables are collinear.\")\n",
      "/anaconda3/lib/python3.6/site-packages/sklearn/discriminant_analysis.py:388: UserWarning: Variables are collinear.\n",
      "  warnings.warn(\"Variables are collinear.\")\n",
      "/anaconda3/lib/python3.6/site-packages/sklearn/discriminant_analysis.py:388: UserWarning: Variables are collinear.\n",
      "  warnings.warn(\"Variables are collinear.\")\n",
      "/anaconda3/lib/python3.6/site-packages/sklearn/discriminant_analysis.py:388: UserWarning: Variables are collinear.\n",
      "  warnings.warn(\"Variables are collinear.\")\n"
     ]
    },
    {
     "name": "stdout",
     "output_type": "stream",
     "text": [
      "LDA\n",
      "Accuracy: 0.83 (+/- 0.00)\n"
     ]
    },
    {
     "name": "stderr",
     "output_type": "stream",
     "text": [
      "/anaconda3/lib/python3.6/site-packages/sklearn/discriminant_analysis.py:388: UserWarning: Variables are collinear.\n",
      "  warnings.warn(\"Variables are collinear.\")\n",
      "/anaconda3/lib/python3.6/site-packages/sklearn/discriminant_analysis.py:388: UserWarning: Variables are collinear.\n",
      "  warnings.warn(\"Variables are collinear.\")\n",
      "/anaconda3/lib/python3.6/site-packages/sklearn/discriminant_analysis.py:388: UserWarning: Variables are collinear.\n",
      "  warnings.warn(\"Variables are collinear.\")\n",
      "/anaconda3/lib/python3.6/site-packages/sklearn/discriminant_analysis.py:388: UserWarning: Variables are collinear.\n",
      "  warnings.warn(\"Variables are collinear.\")\n",
      "/anaconda3/lib/python3.6/site-packages/sklearn/discriminant_analysis.py:388: UserWarning: Variables are collinear.\n",
      "  warnings.warn(\"Variables are collinear.\")\n",
      "/anaconda3/lib/python3.6/site-packages/sklearn/discriminant_analysis.py:388: UserWarning: Variables are collinear.\n",
      "  warnings.warn(\"Variables are collinear.\")\n",
      "/anaconda3/lib/python3.6/site-packages/sklearn/discriminant_analysis.py:388: UserWarning: Variables are collinear.\n",
      "  warnings.warn(\"Variables are collinear.\")\n"
     ]
    },
    {
     "name": "stdout",
     "output_type": "stream",
     "text": [
      "Accuracy: 0.8282159793913285 \n",
      "Precision: 0.8284737538813436 \n",
      "Recall: 0.999624373825678 \n",
      "f1: 0.9060372238170613\n"
     ]
    },
    {
     "name": "stderr",
     "output_type": "stream",
     "text": [
      "/anaconda3/lib/python3.6/site-packages/sklearn/discriminant_analysis.py:388: UserWarning: Variables are collinear.\n",
      "  warnings.warn(\"Variables are collinear.\")\n"
     ]
    }
   ],
   "source": [
    "# LDA\n",
    "lda = LinearDiscriminantAnalysis()\n",
    "scores = cross_val_score(lda, Xup, np.ravel(Yup_categorize), cv=10)\n",
    "print(\"LDA\\nAccuracy: %0.2f (+/- %0.2f)\" % (scores.mean(), scores.std() * 2))\n",
    "scores = cross_validate(lda, Xup, np.ravel(Yup_categorize), cv=10, scoring=(\"accuracy\", \"precision\", \"recall\", \"f1\"))\n",
    "print(\"Accuracy:\", scores[\"test_accuracy\"].mean(), \"\\nPrecision:\", scores[\"test_precision\"].mean(), \"\\nRecall:\", scores[\"test_recall\"].mean(), \"\\nf1:\", scores[\"test_f1\"].mean())"
   ]
  },
  {
   "cell_type": "code",
   "execution_count": 67,
   "metadata": {},
   "outputs": [
    {
     "name": "stderr",
     "output_type": "stream",
     "text": [
      "/anaconda3/lib/python3.6/site-packages/sklearn/discriminant_analysis.py:682: UserWarning: Variables are collinear\n",
      "  warnings.warn(\"Variables are collinear\")\n",
      "/anaconda3/lib/python3.6/site-packages/sklearn/discriminant_analysis.py:682: UserWarning: Variables are collinear\n",
      "  warnings.warn(\"Variables are collinear\")\n",
      "/anaconda3/lib/python3.6/site-packages/sklearn/discriminant_analysis.py:682: UserWarning: Variables are collinear\n",
      "  warnings.warn(\"Variables are collinear\")\n",
      "/anaconda3/lib/python3.6/site-packages/sklearn/discriminant_analysis.py:682: UserWarning: Variables are collinear\n",
      "  warnings.warn(\"Variables are collinear\")\n",
      "/anaconda3/lib/python3.6/site-packages/sklearn/discriminant_analysis.py:682: UserWarning: Variables are collinear\n",
      "  warnings.warn(\"Variables are collinear\")\n",
      "/anaconda3/lib/python3.6/site-packages/sklearn/discriminant_analysis.py:682: UserWarning: Variables are collinear\n",
      "  warnings.warn(\"Variables are collinear\")\n",
      "/anaconda3/lib/python3.6/site-packages/sklearn/discriminant_analysis.py:682: UserWarning: Variables are collinear\n",
      "  warnings.warn(\"Variables are collinear\")\n",
      "/anaconda3/lib/python3.6/site-packages/sklearn/discriminant_analysis.py:682: UserWarning: Variables are collinear\n",
      "  warnings.warn(\"Variables are collinear\")\n",
      "/anaconda3/lib/python3.6/site-packages/sklearn/discriminant_analysis.py:682: UserWarning: Variables are collinear\n",
      "  warnings.warn(\"Variables are collinear\")\n",
      "/anaconda3/lib/python3.6/site-packages/sklearn/discriminant_analysis.py:682: UserWarning: Variables are collinear\n",
      "  warnings.warn(\"Variables are collinear\")\n",
      "/anaconda3/lib/python3.6/site-packages/sklearn/discriminant_analysis.py:682: UserWarning: Variables are collinear\n",
      "  warnings.warn(\"Variables are collinear\")\n",
      "/anaconda3/lib/python3.6/site-packages/sklearn/discriminant_analysis.py:682: UserWarning: Variables are collinear\n",
      "  warnings.warn(\"Variables are collinear\")\n"
     ]
    },
    {
     "name": "stdout",
     "output_type": "stream",
     "text": [
      "QDA\n",
      "Accuracy: 0.24 (+/- 0.03)\n"
     ]
    },
    {
     "name": "stderr",
     "output_type": "stream",
     "text": [
      "/anaconda3/lib/python3.6/site-packages/sklearn/discriminant_analysis.py:682: UserWarning: Variables are collinear\n",
      "  warnings.warn(\"Variables are collinear\")\n",
      "/anaconda3/lib/python3.6/site-packages/sklearn/discriminant_analysis.py:682: UserWarning: Variables are collinear\n",
      "  warnings.warn(\"Variables are collinear\")\n",
      "/anaconda3/lib/python3.6/site-packages/sklearn/discriminant_analysis.py:682: UserWarning: Variables are collinear\n",
      "  warnings.warn(\"Variables are collinear\")\n",
      "/anaconda3/lib/python3.6/site-packages/sklearn/discriminant_analysis.py:682: UserWarning: Variables are collinear\n",
      "  warnings.warn(\"Variables are collinear\")\n",
      "/anaconda3/lib/python3.6/site-packages/sklearn/discriminant_analysis.py:682: UserWarning: Variables are collinear\n",
      "  warnings.warn(\"Variables are collinear\")\n",
      "/anaconda3/lib/python3.6/site-packages/sklearn/discriminant_analysis.py:682: UserWarning: Variables are collinear\n",
      "  warnings.warn(\"Variables are collinear\")\n",
      "/anaconda3/lib/python3.6/site-packages/sklearn/discriminant_analysis.py:682: UserWarning: Variables are collinear\n",
      "  warnings.warn(\"Variables are collinear\")\n",
      "/anaconda3/lib/python3.6/site-packages/sklearn/discriminant_analysis.py:682: UserWarning: Variables are collinear\n",
      "  warnings.warn(\"Variables are collinear\")\n"
     ]
    },
    {
     "name": "stdout",
     "output_type": "stream",
     "text": [
      "Accuracy: 0.23930797549000857 \n",
      "Precision: 0.8949612149814362 \n",
      "Recall: 0.09314650832337415 \n",
      "f1: 0.16770297461298356\n"
     ]
    }
   ],
   "source": [
    "# QDA\n",
    "qda = QuadraticDiscriminantAnalysis()\n",
    "scores = cross_val_score(qda, Xup, np.ravel(Yup_categorize), cv=10)\n",
    "print(\"QDA\\nAccuracy: %0.2f (+/- %0.2f)\" % (scores.mean(), scores.std() * 2))\n",
    "scores = cross_validate(qda, Xup, np.ravel(Yup_categorize), cv=10, scoring=(\"accuracy\", \"precision\", \"recall\", \"f1\"))\n",
    "print(\"Accuracy:\", scores[\"test_accuracy\"].mean(), \"\\nPrecision:\", scores[\"test_precision\"].mean(), \"\\nRecall:\", scores[\"test_recall\"].mean(), \"\\nf1:\", scores[\"test_f1\"].mean())"
   ]
  },
  {
   "cell_type": "code",
   "execution_count": 68,
   "metadata": {},
   "outputs": [
    {
     "name": "stdout",
     "output_type": "stream",
     "text": [
      "Decision Tree\n",
      "Accuracy: 0.73 (+/- 0.02)\n",
      "Accuracy: 0.734236066697507 \n",
      "Precision: 0.8295688909243346 \n",
      "Recall: 0.8548912958240406 \n",
      "f1: 0.8420001458024011\n"
     ]
    }
   ],
   "source": [
    "# Decision Trees\n",
    "dtree = tree.DecisionTreeClassifier()\n",
    "scores = cross_val_score(dtree, Xup, Yup_categorize, cv=10)\n",
    "print(\"Decision Tree\\nAccuracy: %0.2f (+/- %0.2f)\" % (scores.mean(), scores.std() * 2))\n",
    "scores = cross_validate(dtree, Xup, np.ravel(Yup_categorize), cv=10, scoring=(\"accuracy\", \"precision\", \"recall\", \"f1\"))\n",
    "print(\"Accuracy:\", scores[\"test_accuracy\"].mean(), \"\\nPrecision:\", scores[\"test_precision\"].mean(), \"\\nRecall:\", scores[\"test_recall\"].mean(), \"\\nf1:\", scores[\"test_f1\"].mean())"
   ]
  },
  {
   "cell_type": "code",
   "execution_count": 69,
   "metadata": {},
   "outputs": [
    {
     "name": "stdout",
     "output_type": "stream",
     "text": [
      "Random Forest\n",
      "Accuracy: 0.58 (+/- 0.04)\n",
      "Accuracy: 0.5805923473777772 \n",
      "Precision: 0.8319856656024193 \n",
      "Recall: 0.6186208637990471 \n",
      "f1: 0.7091838642775147\n"
     ]
    }
   ],
   "source": [
    "# Random Forest\n",
    "forest = RandomForestClassifier(min_samples_leaf=10, n_jobs=4, class_weight=\"balanced\")\n",
    "scores = cross_val_score(forest, Xup, np.ravel(Yup_categorize), cv=10)\n",
    "print(\"Random Forest\\nAccuracy: %0.2f (+/- %0.2f)\" % (scores.mean(), scores.std() * 2))\n",
    "scores = cross_validate(forest, Xup, np.ravel(Yup_categorize), cv=10, scoring=(\"accuracy\", \"precision\", \"recall\", \"f1\"))\n",
    "print(\"Accuracy:\", scores[\"test_accuracy\"].mean(), \"\\nPrecision:\", scores[\"test_precision\"].mean(), \"\\nRecall:\", scores[\"test_recall\"].mean(), \"\\nf1:\", scores[\"test_f1\"].mean())"
   ]
  },
  {
   "cell_type": "code",
   "execution_count": 70,
   "metadata": {},
   "outputs": [
    {
     "name": "stdout",
     "output_type": "stream",
     "text": [
      "SVM\n",
      "Accuracy: 0.83 (+/- 0.00)\n",
      "Accuracy: 0.8282158718944999 \n",
      "Precision: 0.8284738245412531 \n",
      "Recall: 0.9996243738256781 \n",
      "f1: 0.9060372177583357\n"
     ]
    }
   ],
   "source": [
    "# SVM\n",
    "svmModel = svm.SVC()\n",
    "scores = cross_val_score(svmModel, Xup, np.ravel(Yup_categorize), cv=10)\n",
    "print(\"SVM\\nAccuracy: %0.2f (+/- %0.2f)\" % (scores.mean(), scores.std() * 2))\n",
    "scores = cross_validate(svmModel, Xup, np.ravel(Yup_categorize), cv=10, scoring=(\"accuracy\", \"precision\", \"recall\", \"f1\"))\n",
    "print(\"Accuracy:\", scores[\"test_accuracy\"].mean(), \"\\nPrecision:\", scores[\"test_precision\"].mean(), \"\\nRecall:\", scores[\"test_recall\"].mean(), \"\\nf1:\", scores[\"test_f1\"].mean())"
   ]
  },
  {
   "cell_type": "code",
   "execution_count": null,
   "metadata": {
    "collapsed": true
   },
   "outputs": [],
   "source": []
  }
 ],
 "metadata": {
  "kernelspec": {
   "display_name": "Python 3",
   "language": "python",
   "name": "python3"
  },
  "language_info": {
   "codemirror_mode": {
    "name": "ipython",
    "version": 3
   },
   "file_extension": ".py",
   "mimetype": "text/x-python",
   "name": "python",
   "nbconvert_exporter": "python",
   "pygments_lexer": "ipython3",
   "version": "3.6.3"
  }
 },
 "nbformat": 4,
 "nbformat_minor": 2
}
