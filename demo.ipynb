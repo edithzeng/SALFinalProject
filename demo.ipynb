{
 "cells": [
  {
   "cell_type": "code",
   "execution_count": 2,
   "metadata": {},
   "outputs": [
    {
     "ename": "ModuleNotFoundError",
     "evalue": "No module named 'prettytable'",
     "output_type": "error",
     "traceback": [
      "\u001b[0;31m---------------------------------------------------------------------------\u001b[0m",
      "\u001b[0;31mModuleNotFoundError\u001b[0m                       Traceback (most recent call last)",
      "\u001b[0;32m<ipython-input-2-5bb2094f308f>\u001b[0m in \u001b[0;36m<module>\u001b[0;34m()\u001b[0m\n\u001b[1;32m     15\u001b[0m \u001b[0;32mfrom\u001b[0m \u001b[0msklearn\u001b[0m\u001b[0;34m.\u001b[0m\u001b[0mtree\u001b[0m \u001b[0;32mimport\u001b[0m \u001b[0mexport_graphviz\u001b[0m\u001b[0;34m\u001b[0m\u001b[0m\n\u001b[1;32m     16\u001b[0m \u001b[0;31m# import pydotplus\u001b[0m\u001b[0;34m\u001b[0m\u001b[0;34m\u001b[0m\u001b[0m\n\u001b[0;32m---> 17\u001b[0;31m \u001b[0;32mfrom\u001b[0m \u001b[0mprettytable\u001b[0m \u001b[0;32mimport\u001b[0m \u001b[0mPrettyTable\u001b[0m\u001b[0;34m\u001b[0m\u001b[0m\n\u001b[0m\u001b[1;32m     18\u001b[0m \u001b[0;32mfrom\u001b[0m \u001b[0mscipy\u001b[0m \u001b[0;32mimport\u001b[0m \u001b[0mstats\u001b[0m\u001b[0;34m\u001b[0m\u001b[0m\n\u001b[1;32m     19\u001b[0m \u001b[0mstats\u001b[0m\u001b[0;34m.\u001b[0m\u001b[0mchisqprob\u001b[0m \u001b[0;34m=\u001b[0m \u001b[0;32mlambda\u001b[0m \u001b[0mchisq\u001b[0m\u001b[0;34m,\u001b[0m \u001b[0mdf\u001b[0m\u001b[0;34m:\u001b[0m \u001b[0mstats\u001b[0m\u001b[0;34m.\u001b[0m\u001b[0mchi2\u001b[0m\u001b[0;34m.\u001b[0m\u001b[0msf\u001b[0m\u001b[0;34m(\u001b[0m\u001b[0mchisq\u001b[0m\u001b[0;34m,\u001b[0m \u001b[0mdf\u001b[0m\u001b[0;34m)\u001b[0m\u001b[0;34m\u001b[0m\u001b[0m\n",
      "\u001b[0;31mModuleNotFoundError\u001b[0m: No module named 'prettytable'"
     ]
    }
   ],
   "source": [
    "import pandas as pd\n",
    "import numpy as np\n",
    "import matplotlib.pyplot as plt\n",
    "import ast\n",
    "from sklearn.utils import resample\n",
    "from sklearn import linear_model, tree, svm\n",
    "from sklearn.ensemble import RandomForestClassifier\n",
    "from sklearn.model_selection import train_test_split, cross_val_score, cross_validate\n",
    "from sklearn.metrics import mean_squared_error, confusion_matrix, recall_score, precision_score, classification_report\n",
    "from sklearn.neighbors import KNeighborsClassifier, KNeighborsRegressor\n",
    "from sklearn.discriminant_analysis import LinearDiscriminantAnalysis, QuadraticDiscriminantAnalysis\n",
    "from sklearn.linear_model import LogisticRegression\n",
    "from sklearn.externals.six import StringIO\n",
    "from IPython.display import Image\n",
    "from sklearn.tree import export_graphviz\n",
    "import pydotplus\n",
    "from prettytable import PrettyTable\n",
    "from scipy import stats\n",
    "stats.chisqprob = lambda chisq, df: stats.chi2.sf(chisq, df)\n",
    "%matplotlib inline"
   ]
  },
  {
   "cell_type": "code",
   "execution_count": 3,
   "metadata": {
    "collapsed": true
   },
   "outputs": [],
   "source": [
    "df = pd.read_csv('aggregate.csv', encoding = \"ISO-8859-1\")"
   ]
  },
  {
   "cell_type": "code",
   "execution_count": 4,
   "metadata": {
    "collapsed": true
   },
   "outputs": [],
   "source": [
    "# create total keyword count column and split keyword_count into many columns\n",
    "for i in range(len(df)):\n",
    "    keywords = ast.literal_eval(df.at[i, 'keyword_count'])\n",
    "    df.at[i, \"keyword_total\"] = sum(keywords.values())\n",
    "    for word in keywords:\n",
    "        df.at[i, word] = keywords[word]"
   ]
  },
  {
   "cell_type": "code",
   "execution_count": 7,
   "metadata": {
    "collapsed": true
   },
   "outputs": [],
   "source": [
    "# Prep dataframes for models\n",
    "X = df.drop(['business_id', 'address', 'name', 'demerit', 'grade', 'inspection_fail_count', 'inspection_fail_indicator', 'keyword_count'], axis=1)\n",
    "Y_categorize = df[['inspection_fail_indicator']]\n",
    "Y_regression = df[['inspection_fail_count']]\n",
    "# Up-sample Minority Class for Y_categorize\n",
    "df_majority = df[df.inspection_fail_indicator==1]\n",
    "df_minority = df[df.inspection_fail_indicator==0]\n",
    "df_minority_upsampled = resample(df_minority, \n",
    "                                 replace=True,      # sample with replacement\n",
    "                                 n_samples=7987,    # to match majority class\n",
    "                                 random_state=23)   # reproducible results\n",
    "df_upsampled = pd.concat([df_majority, df_minority_upsampled])\n",
    "# Prep up-sampled dataframes for models\n",
    "Xup = df.drop(['business_id', 'address', 'name', 'demerit', 'grade', 'inspection_fail_count', 'inspection_fail_indicator', 'keyword_count'], axis=1)\n",
    "Yup_categorize = df[['inspection_fail_indicator']]\n",
    "Yup_regression = df[['inspection_fail_count']]"
   ]
  },
  {
   "cell_type": "code",
   "execution_count": 5,
   "metadata": {
    "collapsed": true
   },
   "outputs": [],
   "source": [
    "# Random Forest\n",
    "forest = RandomForestClassifier(min_samples_leaf=10, n_jobs=4, class_weight=\"balanced\", random_state=1123)"
   ]
  },
  {
   "cell_type": "code",
   "execution_count": 25,
   "metadata": {},
   "outputs": [
    {
     "name": "stdout",
     "output_type": "stream",
     "text": [
      "Explained variance ratio (3 principal components): [ 0.98817602  0.01047213  0.00112705]\n",
      "Reduced dimension shape: (9640, 3)\n"
     ]
    }
   ],
   "source": [
    "# PCA and clustering for exploratory visualization\n",
    "import pandas as pd\n",
    "import numpy as np\n",
    "import matplotlib.pyplot as plt\n",
    "from sklearn.cluster import KMeans\n",
    "from sklearn.decomposition import PCA\n",
    "from sklearn.preprocessing import StandardScaler\n",
    "import copy\n",
    "\n",
    "def pca_(X_train):\n",
    "    X = copy.deepcopy(X_train)\n",
    "    # standardize data prior to PCA\n",
    "    scaler = StandardScaler()\n",
    "    scaler.fit_transform(X)\n",
    "    # SVD-based PCA\n",
    "    pca = PCA(n_components=3)\n",
    "    pca_result = pca.fit_transform(X)\n",
    "    print(\"Explained variance ratio (3 principal components):\", pca.explained_variance_ratio_)\n",
    "    print(\"Reduced dimension shape:\", pca_result.shape)    \n",
    "    return pca_result\n",
    "X_transformed = pca_(X)"
   ]
  },
  {
   "cell_type": "code",
   "execution_count": 20,
   "metadata": {
    "scrolled": true
   },
   "outputs": [
    {
     "data": {
      "image/png": "[encoded data removed]",
      "text/plain": [
       "<matplotlib.figure.Figure at 0x109d67278>"
      ]
     },
     "metadata": {},
     "output_type": "display_data"
    }
   ],
   "source": [
    "def plot_explained_variance():\n",
    "    pca = PCA(38)\n",
    "    pca_full = pca.fit(X)\n",
    "    plt.plot(np.cumsum(pca_full.explained_variance_ratio_))\n",
    "    plt.xlabel(\"number of principal components\")\n",
    "    plt.ylabel(\"cumulative explained variance\")\n",
    "    plt.grid(color='grey',linestyle='-',alpha=0.2)\n",
    "    plt.show()\n",
    "plot_explained_variance()"
   ]
  },
  {
   "cell_type": "code",
   "execution_count": 36,
   "metadata": {},
   "outputs": [
    {
     "data": {
      "text/plain": [
       "<bound method DataFrame.dropna of       inspection_fail_indicator\n",
       "0                             1\n",
       "1                             1\n",
       "2                             1\n",
       "3                             1\n",
       "4                             1\n",
       "5                             1\n",
       "6                             1\n",
       "7                             1\n",
       "8                             1\n",
       "9                             1\n",
       "10                            0\n",
       "11                            1\n",
       "12                            1\n",
       "13                            1\n",
       "14                            1\n",
       "15                            0\n",
       "16                            1\n",
       "17                            1\n",
       "18                            1\n",
       "19                            0\n",
       "20                            1\n",
       "21                            1\n",
       "22                            1\n",
       "23                            1\n",
       "24                            1\n",
       "25                            1\n",
       "26                            1\n",
       "27                            1\n",
       "28                            1\n",
       "29                            1\n",
       "...                         ...\n",
       "9610                          1\n",
       "9611                          1\n",
       "9612                          1\n",
       "9613                          1\n",
       "9614                          1\n",
       "9615                          1\n",
       "9616                          1\n",
       "9617                          1\n",
       "9618                          1\n",
       "9619                          1\n",
       "9620                          1\n",
       "9621                          0\n",
       "9622                          1\n",
       "9623                          1\n",
       "9624                          1\n",
       "9625                          1\n",
       "9626                          1\n",
       "9627                          1\n",
       "9628                          1\n",
       "9629                          1\n",
       "9630                          1\n",
       "9631                          1\n",
       "9632                          0\n",
       "9633                          1\n",
       "9634                          1\n",
       "9635                          1\n",
       "9636                          1\n",
       "9637                          1\n",
       "9638                          1\n",
       "9639                          0\n",
       "\n",
       "[9640 rows x 1 columns]>"
      ]
     },
     "execution_count": 36,
     "metadata": {},
     "output_type": "execute_result"
    }
   ],
   "source": [
    "(copy.deepcopy(Y_categorize)).dropna"
   ]
  },
  {
   "cell_type": "code",
   "execution_count": null,
   "metadata": {
    "collapsed": true
   },
   "outputs": [],
   "source": []
  },
  {
   "cell_type": "code",
   "execution_count": 32,
   "metadata": {
    "scrolled": true
   },
   "outputs": [
    {
     "ename": "TypeError",
     "evalue": "'method' object is not subscriptable",
     "output_type": "error",
     "traceback": [
      "\u001b[0;31m---------------------------------------------------------------------------\u001b[0m",
      "\u001b[0;31mTypeError\u001b[0m                                 Traceback (most recent call last)",
      "\u001b[0;32m<ipython-input-32-aaef60bcc8e5>\u001b[0m in \u001b[0;36m<module>\u001b[0;34m()\u001b[0m\n\u001b[1;32m      9\u001b[0m     \u001b[0mplt\u001b[0m\u001b[0;34m.\u001b[0m\u001b[0mcolorbar\u001b[0m\u001b[0;34m(\u001b[0m\u001b[0;34m)\u001b[0m\u001b[0;34m\u001b[0m\u001b[0m\n\u001b[1;32m     10\u001b[0m \u001b[0;34m\u001b[0m\u001b[0m\n\u001b[0;32m---> 11\u001b[0;31m \u001b[0mplot_principal_components\u001b[0m\u001b[0;34m(\u001b[0m\u001b[0mX_transformed\u001b[0m\u001b[0;34m,\u001b[0m \u001b[0mcopy\u001b[0m\u001b[0;34m.\u001b[0m\u001b[0mdeepcopy\u001b[0m\u001b[0;34m(\u001b[0m\u001b[0mY_categorize\u001b[0m\u001b[0;34m)\u001b[0m\u001b[0;34m.\u001b[0m\u001b[0mdropna\u001b[0m\u001b[0;34m)\u001b[0m\u001b[0;34m\u001b[0m\u001b[0m\n\u001b[0m",
      "\u001b[0;32m<ipython-input-32-aaef60bcc8e5>\u001b[0m in \u001b[0;36mplot_principal_components\u001b[0;34m(pca_result, Y_train)\u001b[0m\n\u001b[1;32m      4\u001b[0m     plt.scatter(pca_result[:3000, 0],\n\u001b[1;32m      5\u001b[0m                 \u001b[0mpca_result\u001b[0m\u001b[0;34m[\u001b[0m\u001b[0;34m:\u001b[0m\u001b[0;36m3000\u001b[0m\u001b[0;34m,\u001b[0m \u001b[0;36m1\u001b[0m\u001b[0;34m]\u001b[0m\u001b[0;34m,\u001b[0m\u001b[0;34m\u001b[0m\u001b[0m\n\u001b[0;32m----> 6\u001b[0;31m                 \u001b[0mc\u001b[0m\u001b[0;34m=\u001b[0m\u001b[0mY_train\u001b[0m\u001b[0;34m[\u001b[0m\u001b[0;34m:\u001b[0m\u001b[0;36m3000\u001b[0m\u001b[0;34m]\u001b[0m\u001b[0;34m,\u001b[0m\u001b[0;34m\u001b[0m\u001b[0m\n\u001b[0m\u001b[1;32m      7\u001b[0m                 \u001b[0medgecolor\u001b[0m\u001b[0;34m=\u001b[0m\u001b[0;34m'none'\u001b[0m\u001b[0;34m,\u001b[0m \u001b[0malpha\u001b[0m\u001b[0;34m=\u001b[0m\u001b[0;36m0.5\u001b[0m\u001b[0;34m,\u001b[0m\u001b[0;34m\u001b[0m\u001b[0m\n\u001b[1;32m      8\u001b[0m                 cmap=plt.get_cmap('jet',10), s=5)\n",
      "\u001b[0;31mTypeError\u001b[0m: 'method' object is not subscriptable"
     ]
    }
   ],
   "source": [
    "# project data into the dimension of first 2 principal components\n",
    "def plot_principal_components(pca_result, Y_train):\n",
    "    plt.figure(figsize=(10,6))\n",
    "    plt.scatter(pca_result[:3000, 0],\n",
    "                pca_result[:3000, 1],\n",
    "                c=Y_train[:3000],\n",
    "                edgecolor='none', alpha=0.5,\n",
    "                cmap=plt.get_cmap('jet',10), s=5)\n",
    "    plt.colorbar()    \n",
    "Y_transformed = copy.deepcopy(Y_categorize).dropna\n",
    "plot_principal_components(X_transformed, copy.deepcopy(Y_categorize).dropna)\n"
   ]
  },
  {
   "cell_type": "code",
   "execution_count": 6,
   "metadata": {
    "collapsed": true
   },
   "outputs": [],
   "source": [
    "############\n",
    "##  Demo  ##\n",
    "############\n",
    "\n",
    "# demo data\n",
    "austin_df = pd.read_csv('austin.csv')\n",
    "Xaustin = austin_df.drop(['name', 'address', 'inspection_fail_indicator'], axis=1)\n",
    "Yaustin = austin_df[['inspection_fail_indicator']]"
   ]
  },
  {
   "cell_type": "code",
   "execution_count": 14,
   "metadata": {},
   "outputs": [
    {
     "name": "stdout",
     "output_type": "stream",
     "text": [
      "Random Forest Classification Report\n",
      "              precision    recall  f1-score   support\n",
      "\n",
      "          0       0.75      0.60      0.67         5\n",
      "          1       0.67      0.80      0.73         5\n",
      "\n",
      "avg / total       0.71      0.70      0.70        10\n",
      "\n"
     ]
    }
   ],
   "source": [
    "# Fit model and predict Austin Restaurants\n",
    "forest.fit(X, np.ravel(Y_categorize))\n",
    "predaustin = forest.predict(Xaustin)\n",
    "print(\"Random Forest Classification Report\\n\", classification_report(Yaustin, predaustin))"
   ]
  },
  {
   "cell_type": "code",
   "execution_count": 20,
   "metadata": {},
   "outputs": [
    {
     "ename": "IndexError",
     "evalue": "list assignment index out of range",
     "output_type": "error",
     "traceback": [
      "\u001b[0;31m---------------------------------------------------------------------------\u001b[0m",
      "\u001b[0;31mIndexError\u001b[0m                                Traceback (most recent call last)",
      "\u001b[0;32m<ipython-input-20-00944afe6464>\u001b[0m in \u001b[0;36m<module>\u001b[0;34m()\u001b[0m\n\u001b[1;32m      3\u001b[0m \u001b[0;32mfor\u001b[0m \u001b[0mi\u001b[0m \u001b[0;32min\u001b[0m \u001b[0mrange\u001b[0m\u001b[0;34m(\u001b[0m\u001b[0mlen\u001b[0m\u001b[0;34m(\u001b[0m\u001b[0mpredaustin\u001b[0m\u001b[0;34m)\u001b[0m\u001b[0;34m)\u001b[0m\u001b[0;34m:\u001b[0m\u001b[0;34m\u001b[0m\u001b[0m\n\u001b[1;32m      4\u001b[0m     \u001b[0;32mif\u001b[0m \u001b[0;34m(\u001b[0m\u001b[0mpredaustin\u001b[0m\u001b[0;34m[\u001b[0m\u001b[0mi\u001b[0m\u001b[0;34m]\u001b[0m \u001b[0;34m==\u001b[0m \u001b[0mnp\u001b[0m\u001b[0;34m.\u001b[0m\u001b[0mravel\u001b[0m\u001b[0;34m(\u001b[0m\u001b[0mYaustin\u001b[0m\u001b[0;34m)\u001b[0m\u001b[0;34m[\u001b[0m\u001b[0mi\u001b[0m\u001b[0;34m]\u001b[0m\u001b[0;34m)\u001b[0m\u001b[0;34m:\u001b[0m\u001b[0;34m\u001b[0m\u001b[0m\n\u001b[0;32m----> 5\u001b[0;31m         \u001b[0mwrong\u001b[0m\u001b[0;34m[\u001b[0m\u001b[0mi\u001b[0m\u001b[0;34m]\u001b[0m \u001b[0;34m=\u001b[0m \u001b[0;34m\"\"\u001b[0m\u001b[0;34m\u001b[0m\u001b[0m\n\u001b[0m\u001b[1;32m      6\u001b[0m     \u001b[0;32melse\u001b[0m\u001b[0;34m:\u001b[0m\u001b[0;34m\u001b[0m\u001b[0m\n\u001b[1;32m      7\u001b[0m         \u001b[0mwrong\u001b[0m\u001b[0;34m[\u001b[0m\u001b[0mi\u001b[0m\u001b[0;34m]\u001b[0m \u001b[0;34m=\u001b[0m \u001b[0;34m\"X\"\u001b[0m\u001b[0;34m\u001b[0m\u001b[0m\n",
      "\u001b[0;31mIndexError\u001b[0m: list assignment index out of range"
     ]
    }
   ],
   "source": [
    "# Results table\n",
    "wrong = []\n",
    "for i in range(len(predaustin)):\n",
    "    if (predaustin[i] == np.ravel(Yaustin)[i]):\n",
    "        wrong.append(\" \")\n",
    "    else:\n",
    "        wrong.append()\"X\"\n",
    "tabl = PrettyTable()\n",
    "tabl.add_column(\"Restaurant\", austin_df[\"name\"])\n",
    "tabl.add_column(\"Truth\", np.ravel(Yaustin))\n",
    "tabl.add_column(\"Pred\", predaustin)\n",
    "tabl.add_column(\"Wrong\", wrong)\n",
    "print(tabl, \"\\n*1 = Failed inspection\")"
   ]
  },
  {
   "cell_type": "code",
   "execution_count": null,
   "metadata": {
    "collapsed": true
   },
   "outputs": [],
   "source": []
  }
 ],
 "metadata": {
  "kernelspec": {
   "display_name": "Python 3",
   "language": "python",
   "name": "python3"
  },
  "language_info": {
   "codemirror_mode": {
    "name": "ipython",
    "version": 3
   },
   "file_extension": ".py",
   "mimetype": "text/x-python",
   "name": "python",
   "nbconvert_exporter": "python",
   "pygments_lexer": "ipython3",
   "version": "3.6.3"
  }
 },
 "nbformat": 4,
 "nbformat_minor": 2
}
