{
 "cells": [
  {
   "cell_type": "code",
   "execution_count": 114,
   "metadata": {
    "collapsed": true
   },
   "outputs": [],
   "source": [
    "import pandas as pd\n",
    "import numpy as np\n",
    "import matplotlib.pyplot as plt\n",
    "import ast\n",
    "from sklearn.utils import resample\n",
    "from sklearn import linear_model, tree, svm\n",
    "from sklearn.ensemble import RandomForestClassifier, AdaBoostClassifier\n",
    "from sklearn.model_selection import train_test_split, cross_val_score, cross_validate\n",
    "from sklearn.metrics import mean_squared_error, confusion_matrix, recall_score, precision_score\n",
    "from sklearn.neighbors import KNeighborsClassifier, KNeighborsRegressor\n",
    "from sklearn.discriminant_analysis import LinearDiscriminantAnalysis, QuadraticDiscriminantAnalysis\n",
    "from sklearn.tree import DecisionTreeClassifier\n",
    "from sklearn.linear_model import LogisticRegression\n",
    "from prettytable import PrettyTable\n",
    "from scipy import stats\n",
    "stats.chisqprob = lambda chisq, df: stats.chi2.sf(chisq, df)\n",
    "%matplotlib inline"
   ]
  },
  {
   "cell_type": "code",
   "execution_count": 54,
   "metadata": {
    "collapsed": true
   },
   "outputs": [],
   "source": [
    "df = pd.read_csv('aggregate.csv', encoding = \"ISO-8859-1\")"
   ]
  },
  {
   "cell_type": "code",
   "execution_count": 55,
   "metadata": {},
   "outputs": [
    {
     "data": {
      "text/html": [
       "<div>\n",
       "<style scoped>\n",
       "    .dataframe tbody tr th:only-of-type {\n",
       "        vertical-align: middle;\n",
       "    }\n",
       "\n",
       "    .dataframe tbody tr th {\n",
       "        vertical-align: top;\n",
       "    }\n",
       "\n",
       "    .dataframe thead th {\n",
       "        text-align: right;\n",
       "    }\n",
       "</style>\n",
       "<table border=\"1\" class=\"dataframe\">\n",
       "  <thead>\n",
       "    <tr style=\"text-align: right;\">\n",
       "      <th></th>\n",
       "      <th>business_id</th>\n",
       "      <th>address</th>\n",
       "      <th>name</th>\n",
       "      <th>yelp_star</th>\n",
       "      <th>mean_star</th>\n",
       "      <th>review_count</th>\n",
       "      <th>demerit</th>\n",
       "      <th>grade</th>\n",
       "      <th>keyword_count</th>\n",
       "      <th>inspection_fail_count</th>\n",
       "      <th>inspection_fail_indicator</th>\n",
       "      <th>one_star_count</th>\n",
       "      <th>prop_one_star</th>\n",
       "    </tr>\n",
       "  </thead>\n",
       "  <tbody>\n",
       "    <tr>\n",
       "      <th>9639</th>\n",
       "      <td>zzzaIBwimxVej4tY6qFOUQ</td>\n",
       "      <td>6728 W Cheyenne Ave</td>\n",
       "      <td>Guthrie's</td>\n",
       "      <td>3.5</td>\n",
       "      <td>3.432432</td>\n",
       "      <td>37</td>\n",
       "      <td>[8, 2, 3]</td>\n",
       "      <td>['A', 'A', 'A']</td>\n",
       "      <td>{'sick': 1, 'dirty': 1, 'disgusting': 1, 'vomi...</td>\n",
       "      <td>0</td>\n",
       "      <td>0</td>\n",
       "      <td>4</td>\n",
       "      <td>0.108108</td>\n",
       "    </tr>\n",
       "  </tbody>\n",
       "</table>\n",
       "</div>"
      ],
      "text/plain": [
       "                 business_id              address       name  yelp_star  \\\n",
       "9639  zzzaIBwimxVej4tY6qFOUQ  6728 W Cheyenne Ave  Guthrie's        3.5   \n",
       "\n",
       "      mean_star  review_count    demerit            grade  \\\n",
       "9639   3.432432            37  [8, 2, 3]  ['A', 'A', 'A']   \n",
       "\n",
       "                                          keyword_count  \\\n",
       "9639  {'sick': 1, 'dirty': 1, 'disgusting': 1, 'vomi...   \n",
       "\n",
       "      inspection_fail_count  inspection_fail_indicator  one_star_count  \\\n",
       "9639                      0                          0               4   \n",
       "\n",
       "      prop_one_star  \n",
       "9639       0.108108  "
      ]
     },
     "execution_count": 55,
     "metadata": {},
     "output_type": "execute_result"
    }
   ],
   "source": [
    "df.tail(1)"
   ]
  },
  {
   "cell_type": "code",
   "execution_count": 56,
   "metadata": {
    "collapsed": true
   },
   "outputs": [],
   "source": [
    "# create total keyword count column and split keyword_count into many columns\n",
    "for i in range(len(df)):\n",
    "    keywords = ast.literal_eval(df.at[i, 'keyword_count'])\n",
    "    df.at[i, \"keyword_total\"] = sum(keywords.values())\n",
    "    for word in keywords:\n",
    "        df.at[i, word] = keywords[word]"
   ]
  },
  {
   "cell_type": "code",
   "execution_count": 57,
   "metadata": {},
   "outputs": [
    {
     "data": {
      "text/html": [
       "<div>\n",
       "<style scoped>\n",
       "    .dataframe tbody tr th:only-of-type {\n",
       "        vertical-align: middle;\n",
       "    }\n",
       "\n",
       "    .dataframe tbody tr th {\n",
       "        vertical-align: top;\n",
       "    }\n",
       "\n",
       "    .dataframe thead th {\n",
       "        text-align: right;\n",
       "    }\n",
       "</style>\n",
       "<table border=\"1\" class=\"dataframe\">\n",
       "  <thead>\n",
       "    <tr style=\"text-align: right;\">\n",
       "      <th></th>\n",
       "      <th>business_id</th>\n",
       "      <th>address</th>\n",
       "      <th>name</th>\n",
       "      <th>yelp_star</th>\n",
       "      <th>mean_star</th>\n",
       "      <th>review_count</th>\n",
       "      <th>demerit</th>\n",
       "      <th>grade</th>\n",
       "      <th>keyword_count</th>\n",
       "      <th>inspection_fail_count</th>\n",
       "      <th>...</th>\n",
       "      <th>contaminate</th>\n",
       "      <th>bacteria</th>\n",
       "      <th>salmonella</th>\n",
       "      <th>e coli</th>\n",
       "      <th>infest</th>\n",
       "      <th>retch</th>\n",
       "      <th>gag</th>\n",
       "      <th>stench</th>\n",
       "      <th>e-coli</th>\n",
       "      <th>tainted</th>\n",
       "    </tr>\n",
       "  </thead>\n",
       "  <tbody>\n",
       "    <tr>\n",
       "      <th>9639</th>\n",
       "      <td>zzzaIBwimxVej4tY6qFOUQ</td>\n",
       "      <td>6728 W Cheyenne Ave</td>\n",
       "      <td>Guthrie's</td>\n",
       "      <td>3.5</td>\n",
       "      <td>3.432432</td>\n",
       "      <td>37</td>\n",
       "      <td>[8, 2, 3]</td>\n",
       "      <td>['A', 'A', 'A']</td>\n",
       "      <td>{'sick': 1, 'dirty': 1, 'disgusting': 1, 'vomi...</td>\n",
       "      <td>0</td>\n",
       "      <td>...</td>\n",
       "      <td>0.0</td>\n",
       "      <td>0.0</td>\n",
       "      <td>0.0</td>\n",
       "      <td>0.0</td>\n",
       "      <td>0.0</td>\n",
       "      <td>0.0</td>\n",
       "      <td>0.0</td>\n",
       "      <td>0.0</td>\n",
       "      <td>0.0</td>\n",
       "      <td>0.0</td>\n",
       "    </tr>\n",
       "  </tbody>\n",
       "</table>\n",
       "<p>1 rows × 46 columns</p>\n",
       "</div>"
      ],
      "text/plain": [
       "                 business_id              address       name  yelp_star  \\\n",
       "9639  zzzaIBwimxVej4tY6qFOUQ  6728 W Cheyenne Ave  Guthrie's        3.5   \n",
       "\n",
       "      mean_star  review_count    demerit            grade  \\\n",
       "9639   3.432432            37  [8, 2, 3]  ['A', 'A', 'A']   \n",
       "\n",
       "                                          keyword_count  \\\n",
       "9639  {'sick': 1, 'dirty': 1, 'disgusting': 1, 'vomi...   \n",
       "\n",
       "      inspection_fail_count   ...     contaminate  bacteria  salmonella  \\\n",
       "9639                      0   ...             0.0       0.0         0.0   \n",
       "\n",
       "      e coli  infest  retch   gag   stench  e-coli  tainted  \n",
       "9639     0.0     0.0    0.0    0.0     0.0     0.0      0.0  \n",
       "\n",
       "[1 rows x 46 columns]"
      ]
     },
     "execution_count": 57,
     "metadata": {},
     "output_type": "execute_result"
    }
   ],
   "source": [
    "df.tail(1)"
   ]
  },
  {
   "cell_type": "code",
   "execution_count": 58,
   "metadata": {
    "collapsed": true
   },
   "outputs": [],
   "source": [
    "#scatterMatrix = pd.plotting.scatter_matrix(df, alpha=0.2, figsize=(18, 18), diagonal='kde')"
   ]
  },
  {
   "cell_type": "code",
   "execution_count": 59,
   "metadata": {},
   "outputs": [
    {
     "data": {
      "text/html": [
       "<div>\n",
       "<style scoped>\n",
       "    .dataframe tbody tr th:only-of-type {\n",
       "        vertical-align: middle;\n",
       "    }\n",
       "\n",
       "    .dataframe tbody tr th {\n",
       "        vertical-align: top;\n",
       "    }\n",
       "\n",
       "    .dataframe thead th {\n",
       "        text-align: right;\n",
       "    }\n",
       "</style>\n",
       "<table border=\"1\" class=\"dataframe\">\n",
       "  <thead>\n",
       "    <tr style=\"text-align: right;\">\n",
       "      <th></th>\n",
       "      <th>yelp_star</th>\n",
       "      <th>mean_star</th>\n",
       "      <th>review_count</th>\n",
       "      <th>one_star_count</th>\n",
       "      <th>prop_one_star</th>\n",
       "      <th>keyword_total</th>\n",
       "      <th>sick</th>\n",
       "      <th>dirty</th>\n",
       "      <th>disgusting</th>\n",
       "      <th>vomit</th>\n",
       "      <th>...</th>\n",
       "      <th>contaminate</th>\n",
       "      <th>bacteria</th>\n",
       "      <th>salmonella</th>\n",
       "      <th>e coli</th>\n",
       "      <th>infest</th>\n",
       "      <th>retch</th>\n",
       "      <th>gag</th>\n",
       "      <th>stench</th>\n",
       "      <th>e-coli</th>\n",
       "      <th>tainted</th>\n",
       "    </tr>\n",
       "  </thead>\n",
       "  <tbody>\n",
       "    <tr>\n",
       "      <th>9639</th>\n",
       "      <td>3.5</td>\n",
       "      <td>3.432432</td>\n",
       "      <td>37</td>\n",
       "      <td>4</td>\n",
       "      <td>0.108108</td>\n",
       "      <td>5.0</td>\n",
       "      <td>1.0</td>\n",
       "      <td>1.0</td>\n",
       "      <td>1.0</td>\n",
       "      <td>0.0</td>\n",
       "      <td>...</td>\n",
       "      <td>0.0</td>\n",
       "      <td>0.0</td>\n",
       "      <td>0.0</td>\n",
       "      <td>0.0</td>\n",
       "      <td>0.0</td>\n",
       "      <td>0.0</td>\n",
       "      <td>0.0</td>\n",
       "      <td>0.0</td>\n",
       "      <td>0.0</td>\n",
       "      <td>0.0</td>\n",
       "    </tr>\n",
       "  </tbody>\n",
       "</table>\n",
       "<p>1 rows × 38 columns</p>\n",
       "</div>"
      ],
      "text/plain": [
       "      yelp_star  mean_star  review_count  one_star_count  prop_one_star  \\\n",
       "9639        3.5   3.432432            37               4       0.108108   \n",
       "\n",
       "      keyword_total  sick  dirty  disgusting  vomit   ...     contaminate  \\\n",
       "9639            5.0   1.0    1.0         1.0    0.0   ...             0.0   \n",
       "\n",
       "      bacteria  salmonella  e coli  infest  retch   gag   stench  e-coli  \\\n",
       "9639       0.0         0.0     0.0     0.0    0.0    0.0     0.0     0.0   \n",
       "\n",
       "      tainted  \n",
       "9639      0.0  \n",
       "\n",
       "[1 rows x 38 columns]"
      ]
     },
     "execution_count": 59,
     "metadata": {},
     "output_type": "execute_result"
    }
   ],
   "source": [
    "# Prep dataframes for models\n",
    "X = df.drop(['business_id', 'address', 'name', 'demerit', 'grade', 'inspection_fail_count', 'inspection_fail_indicator', 'keyword_count'], axis=1)\n",
    "Y_categorize = df[['inspection_fail_indicator']]\n",
    "Y_regression = df[['inspection_fail_count']]\n",
    "X_lasso = df[['review_count', 'one_star_count', 'dirty']]\n",
    "X.tail(1)"
   ]
  },
  {
   "cell_type": "code",
   "execution_count": 100,
   "metadata": {},
   "outputs": [
    {
     "data": {
      "image/png": "[encoded data removed]",
      "text/plain": [
       "<matplotlib.figure.Figure at 0x122c650b8>"
      ]
     },
     "metadata": {},
     "output_type": "display_data"
    }
   ],
   "source": [
    "# Plot some variables against one another\n",
    "plt.scatter(df.yelp_star, df.review_count, alpha = 0.1)\n",
    "plt.ylabel(\"review_count\")\n",
    "plt.xlabel(\"yelp_star\")\n",
    "plt.show()\n",
    "\n",
    "# X.groupby('yelp_star').count()[\"review_count\"]"
   ]
  },
  {
   "cell_type": "code",
   "execution_count": 98,
   "metadata": {},
   "outputs": [
    {
     "data": {
      "text/html": [
       "<div>\n",
       "<style scoped>\n",
       "    .dataframe tbody tr th:only-of-type {\n",
       "        vertical-align: middle;\n",
       "    }\n",
       "\n",
       "    .dataframe tbody tr th {\n",
       "        vertical-align: top;\n",
       "    }\n",
       "\n",
       "    .dataframe thead th {\n",
       "        text-align: right;\n",
       "    }\n",
       "</style>\n",
       "<table border=\"1\" class=\"dataframe\">\n",
       "  <thead>\n",
       "    <tr style=\"text-align: right;\">\n",
       "      <th></th>\n",
       "      <th>yelp_star</th>\n",
       "      <th>mean_star</th>\n",
       "      <th>review_count</th>\n",
       "      <th>inspection_fail_count</th>\n",
       "      <th>inspection_fail_indicator</th>\n",
       "      <th>one_star_count</th>\n",
       "      <th>prop_one_star</th>\n",
       "      <th>keyword_total</th>\n",
       "      <th>sick</th>\n",
       "      <th>dirty</th>\n",
       "      <th>...</th>\n",
       "      <th>contaminate</th>\n",
       "      <th>bacteria</th>\n",
       "      <th>salmonella</th>\n",
       "      <th>e coli</th>\n",
       "      <th>infest</th>\n",
       "      <th>retch</th>\n",
       "      <th>gag</th>\n",
       "      <th>stench</th>\n",
       "      <th>e-coli</th>\n",
       "      <th>tainted</th>\n",
       "    </tr>\n",
       "  </thead>\n",
       "  <tbody>\n",
       "    <tr>\n",
       "      <th>yelp_star</th>\n",
       "      <td>1.000000</td>\n",
       "      <td>0.987644</td>\n",
       "      <td>0.056935</td>\n",
       "      <td>-0.057948</td>\n",
       "      <td>0.001135</td>\n",
       "      <td>-0.177226</td>\n",
       "      <td>-0.862140</td>\n",
       "      <td>-0.065720</td>\n",
       "      <td>-0.027116</td>\n",
       "      <td>-0.071395</td>\n",
       "      <td>...</td>\n",
       "      <td>-0.017378</td>\n",
       "      <td>-0.019669</td>\n",
       "      <td>0.004359</td>\n",
       "      <td>-0.003644</td>\n",
       "      <td>-0.047584</td>\n",
       "      <td>0.027006</td>\n",
       "      <td>0.010972</td>\n",
       "      <td>-0.031048</td>\n",
       "      <td>0.004705</td>\n",
       "      <td>0.001037</td>\n",
       "    </tr>\n",
       "    <tr>\n",
       "      <th>mean_star</th>\n",
       "      <td>0.987644</td>\n",
       "      <td>1.000000</td>\n",
       "      <td>0.054959</td>\n",
       "      <td>-0.058359</td>\n",
       "      <td>0.000113</td>\n",
       "      <td>-0.180594</td>\n",
       "      <td>-0.874760</td>\n",
       "      <td>-0.069431</td>\n",
       "      <td>-0.030550</td>\n",
       "      <td>-0.074778</td>\n",
       "      <td>...</td>\n",
       "      <td>-0.017704</td>\n",
       "      <td>-0.019887</td>\n",
       "      <td>0.001798</td>\n",
       "      <td>-0.002811</td>\n",
       "      <td>-0.048071</td>\n",
       "      <td>0.025095</td>\n",
       "      <td>0.011993</td>\n",
       "      <td>-0.033420</td>\n",
       "      <td>0.003221</td>\n",
       "      <td>-0.000664</td>\n",
       "    </tr>\n",
       "    <tr>\n",
       "      <th>review_count</th>\n",
       "      <td>0.056935</td>\n",
       "      <td>0.054959</td>\n",
       "      <td>1.000000</td>\n",
       "      <td>0.127381</td>\n",
       "      <td>0.056918</td>\n",
       "      <td>0.705520</td>\n",
       "      <td>-0.117472</td>\n",
       "      <td>0.748436</td>\n",
       "      <td>0.799252</td>\n",
       "      <td>0.590361</td>\n",
       "      <td>...</td>\n",
       "      <td>0.355872</td>\n",
       "      <td>0.243706</td>\n",
       "      <td>0.124986</td>\n",
       "      <td>0.021169</td>\n",
       "      <td>0.326036</td>\n",
       "      <td>0.586329</td>\n",
       "      <td>0.158779</td>\n",
       "      <td>0.374330</td>\n",
       "      <td>0.066785</td>\n",
       "      <td>0.332503</td>\n",
       "    </tr>\n",
       "    <tr>\n",
       "      <th>inspection_fail_count</th>\n",
       "      <td>-0.057948</td>\n",
       "      <td>-0.058359</td>\n",
       "      <td>0.127381</td>\n",
       "      <td>1.000000</td>\n",
       "      <td>0.224136</td>\n",
       "      <td>0.139637</td>\n",
       "      <td>0.000104</td>\n",
       "      <td>0.117128</td>\n",
       "      <td>0.122559</td>\n",
       "      <td>0.084332</td>\n",
       "      <td>...</td>\n",
       "      <td>0.033861</td>\n",
       "      <td>0.045134</td>\n",
       "      <td>0.000414</td>\n",
       "      <td>0.002239</td>\n",
       "      <td>0.048003</td>\n",
       "      <td>0.106035</td>\n",
       "      <td>0.055574</td>\n",
       "      <td>0.047071</td>\n",
       "      <td>0.011227</td>\n",
       "      <td>0.070156</td>\n",
       "    </tr>\n",
       "    <tr>\n",
       "      <th>inspection_fail_indicator</th>\n",
       "      <td>0.001135</td>\n",
       "      <td>0.000113</td>\n",
       "      <td>0.056918</td>\n",
       "      <td>0.224136</td>\n",
       "      <td>1.000000</td>\n",
       "      <td>0.043688</td>\n",
       "      <td>-0.022723</td>\n",
       "      <td>0.047617</td>\n",
       "      <td>0.045743</td>\n",
       "      <td>0.038983</td>\n",
       "      <td>...</td>\n",
       "      <td>0.005783</td>\n",
       "      <td>0.017980</td>\n",
       "      <td>0.008842</td>\n",
       "      <td>-0.013812</td>\n",
       "      <td>0.016754</td>\n",
       "      <td>0.026868</td>\n",
       "      <td>0.022557</td>\n",
       "      <td>0.019885</td>\n",
       "      <td>0.003178</td>\n",
       "      <td>0.020863</td>\n",
       "    </tr>\n",
       "    <tr>\n",
       "      <th>one_star_count</th>\n",
       "      <td>-0.177226</td>\n",
       "      <td>-0.180594</td>\n",
       "      <td>0.705520</td>\n",
       "      <td>0.139637</td>\n",
       "      <td>0.043688</td>\n",
       "      <td>1.000000</td>\n",
       "      <td>0.123241</td>\n",
       "      <td>0.851386</td>\n",
       "      <td>0.709797</td>\n",
       "      <td>0.769255</td>\n",
       "      <td>...</td>\n",
       "      <td>0.318842</td>\n",
       "      <td>0.338318</td>\n",
       "      <td>0.045088</td>\n",
       "      <td>0.016819</td>\n",
       "      <td>0.517891</td>\n",
       "      <td>0.489108</td>\n",
       "      <td>0.139705</td>\n",
       "      <td>0.524349</td>\n",
       "      <td>0.032094</td>\n",
       "      <td>0.296734</td>\n",
       "    </tr>\n",
       "    <tr>\n",
       "      <th>prop_one_star</th>\n",
       "      <td>-0.862140</td>\n",
       "      <td>-0.874760</td>\n",
       "      <td>-0.117472</td>\n",
       "      <td>0.000104</td>\n",
       "      <td>-0.022723</td>\n",
       "      <td>0.123241</td>\n",
       "      <td>1.000000</td>\n",
       "      <td>-0.001205</td>\n",
       "      <td>-0.034821</td>\n",
       "      <td>0.018902</td>\n",
       "      <td>...</td>\n",
       "      <td>-0.009675</td>\n",
       "      <td>-0.000530</td>\n",
       "      <td>-0.011983</td>\n",
       "      <td>-0.005218</td>\n",
       "      <td>0.018674</td>\n",
       "      <td>-0.056260</td>\n",
       "      <td>-0.029130</td>\n",
       "      <td>-0.001376</td>\n",
       "      <td>-0.008962</td>\n",
       "      <td>-0.027552</td>\n",
       "    </tr>\n",
       "    <tr>\n",
       "      <th>keyword_total</th>\n",
       "      <td>-0.065720</td>\n",
       "      <td>-0.069431</td>\n",
       "      <td>0.748436</td>\n",
       "      <td>0.117128</td>\n",
       "      <td>0.047617</td>\n",
       "      <td>0.851386</td>\n",
       "      <td>-0.001205</td>\n",
       "      <td>1.000000</td>\n",
       "      <td>0.784368</td>\n",
       "      <td>0.925821</td>\n",
       "      <td>...</td>\n",
       "      <td>0.395479</td>\n",
       "      <td>0.351094</td>\n",
       "      <td>0.086903</td>\n",
       "      <td>0.014959</td>\n",
       "      <td>0.609481</td>\n",
       "      <td>0.592228</td>\n",
       "      <td>0.169019</td>\n",
       "      <td>0.646678</td>\n",
       "      <td>0.030467</td>\n",
       "      <td>0.317874</td>\n",
       "    </tr>\n",
       "    <tr>\n",
       "      <th>sick</th>\n",
       "      <td>-0.027116</td>\n",
       "      <td>-0.030550</td>\n",
       "      <td>0.799252</td>\n",
       "      <td>0.122559</td>\n",
       "      <td>0.045743</td>\n",
       "      <td>0.709797</td>\n",
       "      <td>-0.034821</td>\n",
       "      <td>0.784368</td>\n",
       "      <td>1.000000</td>\n",
       "      <td>0.576582</td>\n",
       "      <td>...</td>\n",
       "      <td>0.394478</td>\n",
       "      <td>0.257452</td>\n",
       "      <td>0.127713</td>\n",
       "      <td>0.028175</td>\n",
       "      <td>0.291128</td>\n",
       "      <td>0.586075</td>\n",
       "      <td>0.131365</td>\n",
       "      <td>0.335311</td>\n",
       "      <td>0.049848</td>\n",
       "      <td>0.281161</td>\n",
       "    </tr>\n",
       "    <tr>\n",
       "      <th>dirty</th>\n",
       "      <td>-0.071395</td>\n",
       "      <td>-0.074778</td>\n",
       "      <td>0.590361</td>\n",
       "      <td>0.084332</td>\n",
       "      <td>0.038983</td>\n",
       "      <td>0.769255</td>\n",
       "      <td>0.018902</td>\n",
       "      <td>0.925821</td>\n",
       "      <td>0.576582</td>\n",
       "      <td>1.000000</td>\n",
       "      <td>...</td>\n",
       "      <td>0.305994</td>\n",
       "      <td>0.312282</td>\n",
       "      <td>0.040739</td>\n",
       "      <td>0.007196</td>\n",
       "      <td>0.625314</td>\n",
       "      <td>0.448170</td>\n",
       "      <td>0.138195</td>\n",
       "      <td>0.670245</td>\n",
       "      <td>0.005507</td>\n",
       "      <td>0.256089</td>\n",
       "    </tr>\n",
       "    <tr>\n",
       "      <th>disgusting</th>\n",
       "      <td>-0.099715</td>\n",
       "      <td>-0.103293</td>\n",
       "      <td>0.646564</td>\n",
       "      <td>0.107704</td>\n",
       "      <td>0.046861</td>\n",
       "      <td>0.809673</td>\n",
       "      <td>0.030278</td>\n",
       "      <td>0.913376</td>\n",
       "      <td>0.677252</td>\n",
       "      <td>0.823057</td>\n",
       "      <td>...</td>\n",
       "      <td>0.342837</td>\n",
       "      <td>0.300104</td>\n",
       "      <td>0.040300</td>\n",
       "      <td>0.016742</td>\n",
       "      <td>0.570713</td>\n",
       "      <td>0.489706</td>\n",
       "      <td>0.151503</td>\n",
       "      <td>0.613822</td>\n",
       "      <td>0.037993</td>\n",
       "      <td>0.286333</td>\n",
       "    </tr>\n",
       "    <tr>\n",
       "      <th>vomit</th>\n",
       "      <td>-0.044618</td>\n",
       "      <td>-0.047225</td>\n",
       "      <td>0.567851</td>\n",
       "      <td>0.094776</td>\n",
       "      <td>0.028920</td>\n",
       "      <td>0.682126</td>\n",
       "      <td>0.004514</td>\n",
       "      <td>0.806064</td>\n",
       "      <td>0.623482</td>\n",
       "      <td>0.721219</td>\n",
       "      <td>...</td>\n",
       "      <td>0.321711</td>\n",
       "      <td>0.314170</td>\n",
       "      <td>0.064681</td>\n",
       "      <td>-0.003309</td>\n",
       "      <td>0.489534</td>\n",
       "      <td>0.474306</td>\n",
       "      <td>0.159542</td>\n",
       "      <td>0.506731</td>\n",
       "      <td>0.043116</td>\n",
       "      <td>0.262597</td>\n",
       "    </tr>\n",
       "    <tr>\n",
       "      <th>threw up</th>\n",
       "      <td>-0.036928</td>\n",
       "      <td>-0.038016</td>\n",
       "      <td>0.446560</td>\n",
       "      <td>0.054449</td>\n",
       "      <td>0.025877</td>\n",
       "      <td>0.464811</td>\n",
       "      <td>-0.005063</td>\n",
       "      <td>0.534190</td>\n",
       "      <td>0.479811</td>\n",
       "      <td>0.447959</td>\n",
       "      <td>...</td>\n",
       "      <td>0.220988</td>\n",
       "      <td>0.174447</td>\n",
       "      <td>0.030331</td>\n",
       "      <td>0.059162</td>\n",
       "      <td>0.265226</td>\n",
       "      <td>0.304213</td>\n",
       "      <td>0.103380</td>\n",
       "      <td>0.268370</td>\n",
       "      <td>0.040376</td>\n",
       "      <td>0.166798</td>\n",
       "    </tr>\n",
       "    <tr>\n",
       "      <th>food poison</th>\n",
       "      <td>-0.026043</td>\n",
       "      <td>-0.027779</td>\n",
       "      <td>0.620963</td>\n",
       "      <td>0.105716</td>\n",
       "      <td>0.043739</td>\n",
       "      <td>0.488041</td>\n",
       "      <td>-0.024847</td>\n",
       "      <td>0.586703</td>\n",
       "      <td>0.719707</td>\n",
       "      <td>0.391599</td>\n",
       "      <td>...</td>\n",
       "      <td>0.406215</td>\n",
       "      <td>0.146984</td>\n",
       "      <td>0.246162</td>\n",
       "      <td>0.025686</td>\n",
       "      <td>0.139565</td>\n",
       "      <td>0.497472</td>\n",
       "      <td>0.090468</td>\n",
       "      <td>0.166641</td>\n",
       "      <td>0.058552</td>\n",
       "      <td>0.203581</td>\n",
       "    </tr>\n",
       "    <tr>\n",
       "      <th>diarrhea</th>\n",
       "      <td>-0.023041</td>\n",
       "      <td>-0.025725</td>\n",
       "      <td>0.479592</td>\n",
       "      <td>0.082418</td>\n",
       "      <td>0.029075</td>\n",
       "      <td>0.396932</td>\n",
       "      <td>-0.013574</td>\n",
       "      <td>0.470121</td>\n",
       "      <td>0.538294</td>\n",
       "      <td>0.311609</td>\n",
       "      <td>...</td>\n",
       "      <td>0.285065</td>\n",
       "      <td>0.142764</td>\n",
       "      <td>0.131034</td>\n",
       "      <td>-0.003208</td>\n",
       "      <td>0.134775</td>\n",
       "      <td>0.353928</td>\n",
       "      <td>0.080396</td>\n",
       "      <td>0.137792</td>\n",
       "      <td>0.040251</td>\n",
       "      <td>0.138137</td>\n",
       "    </tr>\n",
       "    <tr>\n",
       "      <th>filthy</th>\n",
       "      <td>-0.092033</td>\n",
       "      <td>-0.095015</td>\n",
       "      <td>0.392898</td>\n",
       "      <td>0.057898</td>\n",
       "      <td>0.031546</td>\n",
       "      <td>0.674796</td>\n",
       "      <td>0.051763</td>\n",
       "      <td>0.776865</td>\n",
       "      <td>0.381223</td>\n",
       "      <td>0.844033</td>\n",
       "      <td>...</td>\n",
       "      <td>0.258124</td>\n",
       "      <td>0.367353</td>\n",
       "      <td>0.025668</td>\n",
       "      <td>0.009527</td>\n",
       "      <td>0.638188</td>\n",
       "      <td>0.283336</td>\n",
       "      <td>0.127212</td>\n",
       "      <td>0.629451</td>\n",
       "      <td>0.002101</td>\n",
       "      <td>0.187886</td>\n",
       "    </tr>\n",
       "    <tr>\n",
       "      <th>gross</th>\n",
       "      <td>-0.058706</td>\n",
       "      <td>-0.061800</td>\n",
       "      <td>0.745078</td>\n",
       "      <td>0.128145</td>\n",
       "      <td>0.044236</td>\n",
       "      <td>0.801933</td>\n",
       "      <td>-0.015608</td>\n",
       "      <td>0.922712</td>\n",
       "      <td>0.754289</td>\n",
       "      <td>0.793479</td>\n",
       "      <td>...</td>\n",
       "      <td>0.363318</td>\n",
       "      <td>0.325256</td>\n",
       "      <td>0.064813</td>\n",
       "      <td>0.010204</td>\n",
       "      <td>0.516932</td>\n",
       "      <td>0.562681</td>\n",
       "      <td>0.166242</td>\n",
       "      <td>0.566984</td>\n",
       "      <td>0.032878</td>\n",
       "      <td>0.313498</td>\n",
       "    </tr>\n",
       "    <tr>\n",
       "      <th>throw up</th>\n",
       "      <td>-0.026446</td>\n",
       "      <td>-0.029352</td>\n",
       "      <td>0.485183</td>\n",
       "      <td>0.113563</td>\n",
       "      <td>0.035268</td>\n",
       "      <td>0.473555</td>\n",
       "      <td>-0.012791</td>\n",
       "      <td>0.564425</td>\n",
       "      <td>0.553586</td>\n",
       "      <td>0.460204</td>\n",
       "      <td>...</td>\n",
       "      <td>0.257733</td>\n",
       "      <td>0.166137</td>\n",
       "      <td>0.021385</td>\n",
       "      <td>-0.003148</td>\n",
       "      <td>0.260461</td>\n",
       "      <td>0.393493</td>\n",
       "      <td>0.097251</td>\n",
       "      <td>0.277439</td>\n",
       "      <td>0.057966</td>\n",
       "      <td>0.154731</td>\n",
       "    </tr>\n",
       "    <tr>\n",
       "      <th>throwing up</th>\n",
       "      <td>-0.020985</td>\n",
       "      <td>-0.022670</td>\n",
       "      <td>0.474942</td>\n",
       "      <td>0.081872</td>\n",
       "      <td>0.027177</td>\n",
       "      <td>0.441568</td>\n",
       "      <td>-0.011095</td>\n",
       "      <td>0.507649</td>\n",
       "      <td>0.577108</td>\n",
       "      <td>0.380280</td>\n",
       "      <td>...</td>\n",
       "      <td>0.229825</td>\n",
       "      <td>0.132590</td>\n",
       "      <td>0.051244</td>\n",
       "      <td>-0.002988</td>\n",
       "      <td>0.193773</td>\n",
       "      <td>0.408779</td>\n",
       "      <td>0.079505</td>\n",
       "      <td>0.176288</td>\n",
       "      <td>-0.003381</td>\n",
       "      <td>0.208498</td>\n",
       "    </tr>\n",
       "    <tr>\n",
       "      <th>indigestion</th>\n",
       "      <td>-0.002897</td>\n",
       "      <td>-0.004529</td>\n",
       "      <td>0.381314</td>\n",
       "      <td>0.051228</td>\n",
       "      <td>0.014943</td>\n",
       "      <td>0.282748</td>\n",
       "      <td>-0.018947</td>\n",
       "      <td>0.338180</td>\n",
       "      <td>0.404165</td>\n",
       "      <td>0.210711</td>\n",
       "      <td>...</td>\n",
       "      <td>0.220989</td>\n",
       "      <td>0.086503</td>\n",
       "      <td>0.002383</td>\n",
       "      <td>-0.001728</td>\n",
       "      <td>0.082628</td>\n",
       "      <td>0.340660</td>\n",
       "      <td>0.064261</td>\n",
       "      <td>0.055541</td>\n",
       "      <td>-0.001955</td>\n",
       "      <td>0.117974</td>\n",
       "    </tr>\n",
       "    <tr>\n",
       "      <th>nausea</th>\n",
       "      <td>-0.004799</td>\n",
       "      <td>-0.007058</td>\n",
       "      <td>0.345674</td>\n",
       "      <td>0.068502</td>\n",
       "      <td>0.017356</td>\n",
       "      <td>0.343803</td>\n",
       "      <td>-0.021549</td>\n",
       "      <td>0.413865</td>\n",
       "      <td>0.376762</td>\n",
       "      <td>0.338878</td>\n",
       "      <td>...</td>\n",
       "      <td>0.133323</td>\n",
       "      <td>0.093613</td>\n",
       "      <td>0.005131</td>\n",
       "      <td>-0.002793</td>\n",
       "      <td>0.216833</td>\n",
       "      <td>0.265999</td>\n",
       "      <td>0.049062</td>\n",
       "      <td>0.293646</td>\n",
       "      <td>0.041811</td>\n",
       "      <td>0.164376</td>\n",
       "    </tr>\n",
       "    <tr>\n",
       "      <th>nauseous</th>\n",
       "      <td>-0.008142</td>\n",
       "      <td>-0.006843</td>\n",
       "      <td>0.393011</td>\n",
       "      <td>0.086271</td>\n",
       "      <td>0.019849</td>\n",
       "      <td>0.337691</td>\n",
       "      <td>-0.026242</td>\n",
       "      <td>0.383961</td>\n",
       "      <td>0.414369</td>\n",
       "      <td>0.289653</td>\n",
       "      <td>...</td>\n",
       "      <td>0.192991</td>\n",
       "      <td>0.110774</td>\n",
       "      <td>0.010658</td>\n",
       "      <td>0.023203</td>\n",
       "      <td>0.116442</td>\n",
       "      <td>0.298894</td>\n",
       "      <td>0.033368</td>\n",
       "      <td>0.197911</td>\n",
       "      <td>-0.003364</td>\n",
       "      <td>0.139060</td>\n",
       "    </tr>\n",
       "    <tr>\n",
       "      <th>upset stomach</th>\n",
       "      <td>-0.011433</td>\n",
       "      <td>-0.011408</td>\n",
       "      <td>0.289412</td>\n",
       "      <td>0.046492</td>\n",
       "      <td>0.014099</td>\n",
       "      <td>0.213146</td>\n",
       "      <td>-0.020291</td>\n",
       "      <td>0.235223</td>\n",
       "      <td>0.290758</td>\n",
       "      <td>0.141468</td>\n",
       "      <td>...</td>\n",
       "      <td>0.075259</td>\n",
       "      <td>0.069375</td>\n",
       "      <td>-0.000898</td>\n",
       "      <td>-0.002512</td>\n",
       "      <td>0.046023</td>\n",
       "      <td>0.141490</td>\n",
       "      <td>0.055557</td>\n",
       "      <td>0.057924</td>\n",
       "      <td>-0.002843</td>\n",
       "      <td>0.059533</td>\n",
       "    </tr>\n",
       "    <tr>\n",
       "      <th>the runs</th>\n",
       "      <td>-0.011868</td>\n",
       "      <td>-0.009432</td>\n",
       "      <td>0.264662</td>\n",
       "      <td>0.030097</td>\n",
       "      <td>0.032557</td>\n",
       "      <td>0.213127</td>\n",
       "      <td>-0.019938</td>\n",
       "      <td>0.262946</td>\n",
       "      <td>0.306162</td>\n",
       "      <td>0.187440</td>\n",
       "      <td>...</td>\n",
       "      <td>0.154246</td>\n",
       "      <td>0.046353</td>\n",
       "      <td>0.022204</td>\n",
       "      <td>-0.002133</td>\n",
       "      <td>0.043453</td>\n",
       "      <td>0.212973</td>\n",
       "      <td>0.021511</td>\n",
       "      <td>0.066192</td>\n",
       "      <td>-0.002413</td>\n",
       "      <td>0.079093</td>\n",
       "    </tr>\n",
       "    <tr>\n",
       "      <th>bug</th>\n",
       "      <td>-0.027008</td>\n",
       "      <td>-0.030430</td>\n",
       "      <td>0.349639</td>\n",
       "      <td>0.050105</td>\n",
       "      <td>0.021176</td>\n",
       "      <td>0.511137</td>\n",
       "      <td>0.004826</td>\n",
       "      <td>0.619251</td>\n",
       "      <td>0.319595</td>\n",
       "      <td>0.628992</td>\n",
       "      <td>...</td>\n",
       "      <td>0.184758</td>\n",
       "      <td>0.203750</td>\n",
       "      <td>0.023100</td>\n",
       "      <td>-0.002575</td>\n",
       "      <td>0.718013</td>\n",
       "      <td>0.228031</td>\n",
       "      <td>0.087870</td>\n",
       "      <td>0.572851</td>\n",
       "      <td>0.007204</td>\n",
       "      <td>0.156444</td>\n",
       "    </tr>\n",
       "    <tr>\n",
       "      <th>rat</th>\n",
       "      <td>0.000869</td>\n",
       "      <td>0.000112</td>\n",
       "      <td>0.174099</td>\n",
       "      <td>0.019618</td>\n",
       "      <td>0.022020</td>\n",
       "      <td>0.170660</td>\n",
       "      <td>-0.016023</td>\n",
       "      <td>0.208473</td>\n",
       "      <td>0.157491</td>\n",
       "      <td>0.174568</td>\n",
       "      <td>...</td>\n",
       "      <td>0.060201</td>\n",
       "      <td>0.054351</td>\n",
       "      <td>0.042332</td>\n",
       "      <td>-0.001709</td>\n",
       "      <td>0.154919</td>\n",
       "      <td>0.143546</td>\n",
       "      <td>0.037693</td>\n",
       "      <td>0.134998</td>\n",
       "      <td>-0.001934</td>\n",
       "      <td>0.139737</td>\n",
       "    </tr>\n",
       "    <tr>\n",
       "      <th>mice</th>\n",
       "      <td>0.000813</td>\n",
       "      <td>-0.000071</td>\n",
       "      <td>0.112675</td>\n",
       "      <td>0.005985</td>\n",
       "      <td>0.016866</td>\n",
       "      <td>0.090309</td>\n",
       "      <td>-0.022383</td>\n",
       "      <td>0.182296</td>\n",
       "      <td>0.129399</td>\n",
       "      <td>0.088710</td>\n",
       "      <td>...</td>\n",
       "      <td>0.032336</td>\n",
       "      <td>0.019581</td>\n",
       "      <td>0.005612</td>\n",
       "      <td>-0.001556</td>\n",
       "      <td>0.074041</td>\n",
       "      <td>0.034227</td>\n",
       "      <td>0.001333</td>\n",
       "      <td>0.057362</td>\n",
       "      <td>0.000799</td>\n",
       "      <td>0.066059</td>\n",
       "    </tr>\n",
       "    <tr>\n",
       "      <th>mouse</th>\n",
       "      <td>0.011635</td>\n",
       "      <td>0.008867</td>\n",
       "      <td>0.338781</td>\n",
       "      <td>0.059702</td>\n",
       "      <td>0.003586</td>\n",
       "      <td>0.239684</td>\n",
       "      <td>-0.032936</td>\n",
       "      <td>0.272491</td>\n",
       "      <td>0.285298</td>\n",
       "      <td>0.183263</td>\n",
       "      <td>...</td>\n",
       "      <td>0.146959</td>\n",
       "      <td>0.122238</td>\n",
       "      <td>-0.000216</td>\n",
       "      <td>-0.002417</td>\n",
       "      <td>0.097489</td>\n",
       "      <td>0.238293</td>\n",
       "      <td>0.050477</td>\n",
       "      <td>0.099913</td>\n",
       "      <td>-0.002734</td>\n",
       "      <td>0.064488</td>\n",
       "    </tr>\n",
       "    <tr>\n",
       "      <th>expired</th>\n",
       "      <td>-0.041774</td>\n",
       "      <td>-0.043144</td>\n",
       "      <td>0.164195</td>\n",
       "      <td>0.021541</td>\n",
       "      <td>-0.003303</td>\n",
       "      <td>0.241624</td>\n",
       "      <td>0.019192</td>\n",
       "      <td>0.202436</td>\n",
       "      <td>0.184078</td>\n",
       "      <td>0.150460</td>\n",
       "      <td>...</td>\n",
       "      <td>0.083975</td>\n",
       "      <td>0.120029</td>\n",
       "      <td>0.011940</td>\n",
       "      <td>-0.003602</td>\n",
       "      <td>0.098165</td>\n",
       "      <td>0.129501</td>\n",
       "      <td>0.017514</td>\n",
       "      <td>0.096957</td>\n",
       "      <td>-0.004075</td>\n",
       "      <td>0.064371</td>\n",
       "    </tr>\n",
       "    <tr>\n",
       "      <th>listeria</th>\n",
       "      <td>-0.006045</td>\n",
       "      <td>-0.005189</td>\n",
       "      <td>0.013729</td>\n",
       "      <td>-0.002747</td>\n",
       "      <td>0.008027</td>\n",
       "      <td>0.018286</td>\n",
       "      <td>-0.000972</td>\n",
       "      <td>0.021998</td>\n",
       "      <td>0.033750</td>\n",
       "      <td>0.009510</td>\n",
       "      <td>...</td>\n",
       "      <td>-0.002008</td>\n",
       "      <td>0.033382</td>\n",
       "      <td>-0.000823</td>\n",
       "      <td>-0.000402</td>\n",
       "      <td>-0.001813</td>\n",
       "      <td>-0.003270</td>\n",
       "      <td>-0.001326</td>\n",
       "      <td>0.015019</td>\n",
       "      <td>-0.000455</td>\n",
       "      <td>-0.001810</td>\n",
       "    </tr>\n",
       "    <tr>\n",
       "      <th>contaminate</th>\n",
       "      <td>-0.017378</td>\n",
       "      <td>-0.017704</td>\n",
       "      <td>0.355872</td>\n",
       "      <td>0.033861</td>\n",
       "      <td>0.005783</td>\n",
       "      <td>0.318842</td>\n",
       "      <td>-0.009675</td>\n",
       "      <td>0.395479</td>\n",
       "      <td>0.394478</td>\n",
       "      <td>0.305994</td>\n",
       "      <td>...</td>\n",
       "      <td>1.000000</td>\n",
       "      <td>0.213801</td>\n",
       "      <td>0.121733</td>\n",
       "      <td>0.063609</td>\n",
       "      <td>0.194798</td>\n",
       "      <td>0.278336</td>\n",
       "      <td>0.059695</td>\n",
       "      <td>0.205917</td>\n",
       "      <td>0.020474</td>\n",
       "      <td>0.103989</td>\n",
       "    </tr>\n",
       "    <tr>\n",
       "      <th>bacteria</th>\n",
       "      <td>-0.019669</td>\n",
       "      <td>-0.019887</td>\n",
       "      <td>0.243706</td>\n",
       "      <td>0.045134</td>\n",
       "      <td>0.017980</td>\n",
       "      <td>0.338318</td>\n",
       "      <td>-0.000530</td>\n",
       "      <td>0.351094</td>\n",
       "      <td>0.257452</td>\n",
       "      <td>0.312282</td>\n",
       "      <td>...</td>\n",
       "      <td>0.213801</td>\n",
       "      <td>1.000000</td>\n",
       "      <td>0.050840</td>\n",
       "      <td>-0.002558</td>\n",
       "      <td>0.266427</td>\n",
       "      <td>0.182901</td>\n",
       "      <td>0.096996</td>\n",
       "      <td>0.238068</td>\n",
       "      <td>0.016479</td>\n",
       "      <td>0.163980</td>\n",
       "    </tr>\n",
       "    <tr>\n",
       "      <th>salmonella</th>\n",
       "      <td>0.004359</td>\n",
       "      <td>0.001798</td>\n",
       "      <td>0.124986</td>\n",
       "      <td>0.000414</td>\n",
       "      <td>0.008842</td>\n",
       "      <td>0.045088</td>\n",
       "      <td>-0.011983</td>\n",
       "      <td>0.086903</td>\n",
       "      <td>0.127713</td>\n",
       "      <td>0.040739</td>\n",
       "      <td>...</td>\n",
       "      <td>0.121733</td>\n",
       "      <td>0.050840</td>\n",
       "      <td>1.000000</td>\n",
       "      <td>-0.001062</td>\n",
       "      <td>0.020223</td>\n",
       "      <td>0.028645</td>\n",
       "      <td>0.000015</td>\n",
       "      <td>0.011949</td>\n",
       "      <td>0.053108</td>\n",
       "      <td>0.020064</td>\n",
       "    </tr>\n",
       "    <tr>\n",
       "      <th>e coli</th>\n",
       "      <td>-0.003644</td>\n",
       "      <td>-0.002811</td>\n",
       "      <td>0.021169</td>\n",
       "      <td>0.002239</td>\n",
       "      <td>-0.013812</td>\n",
       "      <td>0.016819</td>\n",
       "      <td>-0.005218</td>\n",
       "      <td>0.014959</td>\n",
       "      <td>0.028175</td>\n",
       "      <td>0.007196</td>\n",
       "      <td>...</td>\n",
       "      <td>0.063609</td>\n",
       "      <td>-0.002558</td>\n",
       "      <td>-0.001062</td>\n",
       "      <td>1.000000</td>\n",
       "      <td>-0.002340</td>\n",
       "      <td>0.000891</td>\n",
       "      <td>-0.001712</td>\n",
       "      <td>-0.002295</td>\n",
       "      <td>-0.000587</td>\n",
       "      <td>0.036509</td>\n",
       "    </tr>\n",
       "    <tr>\n",
       "      <th>infest</th>\n",
       "      <td>-0.047584</td>\n",
       "      <td>-0.048071</td>\n",
       "      <td>0.326036</td>\n",
       "      <td>0.048003</td>\n",
       "      <td>0.016754</td>\n",
       "      <td>0.517891</td>\n",
       "      <td>0.018674</td>\n",
       "      <td>0.609481</td>\n",
       "      <td>0.291128</td>\n",
       "      <td>0.625314</td>\n",
       "      <td>...</td>\n",
       "      <td>0.194798</td>\n",
       "      <td>0.266427</td>\n",
       "      <td>0.020223</td>\n",
       "      <td>-0.002340</td>\n",
       "      <td>1.000000</td>\n",
       "      <td>0.220391</td>\n",
       "      <td>0.101844</td>\n",
       "      <td>0.550975</td>\n",
       "      <td>-0.002648</td>\n",
       "      <td>0.179238</td>\n",
       "    </tr>\n",
       "    <tr>\n",
       "      <th>retch</th>\n",
       "      <td>0.027006</td>\n",
       "      <td>0.025095</td>\n",
       "      <td>0.586329</td>\n",
       "      <td>0.106035</td>\n",
       "      <td>0.026868</td>\n",
       "      <td>0.489108</td>\n",
       "      <td>-0.056260</td>\n",
       "      <td>0.592228</td>\n",
       "      <td>0.586075</td>\n",
       "      <td>0.448170</td>\n",
       "      <td>...</td>\n",
       "      <td>0.278336</td>\n",
       "      <td>0.182901</td>\n",
       "      <td>0.028645</td>\n",
       "      <td>0.000891</td>\n",
       "      <td>0.220391</td>\n",
       "      <td>1.000000</td>\n",
       "      <td>0.086579</td>\n",
       "      <td>0.293867</td>\n",
       "      <td>0.013303</td>\n",
       "      <td>0.213267</td>\n",
       "    </tr>\n",
       "    <tr>\n",
       "      <th>gag</th>\n",
       "      <td>0.010972</td>\n",
       "      <td>0.011993</td>\n",
       "      <td>0.158779</td>\n",
       "      <td>0.055574</td>\n",
       "      <td>0.022557</td>\n",
       "      <td>0.139705</td>\n",
       "      <td>-0.029130</td>\n",
       "      <td>0.169019</td>\n",
       "      <td>0.131365</td>\n",
       "      <td>0.138195</td>\n",
       "      <td>...</td>\n",
       "      <td>0.059695</td>\n",
       "      <td>0.096996</td>\n",
       "      <td>0.000015</td>\n",
       "      <td>-0.001712</td>\n",
       "      <td>0.101844</td>\n",
       "      <td>0.086579</td>\n",
       "      <td>1.000000</td>\n",
       "      <td>0.081852</td>\n",
       "      <td>0.017513</td>\n",
       "      <td>0.056364</td>\n",
       "    </tr>\n",
       "    <tr>\n",
       "      <th>stench</th>\n",
       "      <td>-0.031048</td>\n",
       "      <td>-0.033420</td>\n",
       "      <td>0.374330</td>\n",
       "      <td>0.047071</td>\n",
       "      <td>0.019885</td>\n",
       "      <td>0.524349</td>\n",
       "      <td>-0.001376</td>\n",
       "      <td>0.646678</td>\n",
       "      <td>0.335311</td>\n",
       "      <td>0.670245</td>\n",
       "      <td>...</td>\n",
       "      <td>0.205917</td>\n",
       "      <td>0.238068</td>\n",
       "      <td>0.011949</td>\n",
       "      <td>-0.002295</td>\n",
       "      <td>0.550975</td>\n",
       "      <td>0.293867</td>\n",
       "      <td>0.081852</td>\n",
       "      <td>1.000000</td>\n",
       "      <td>0.006605</td>\n",
       "      <td>0.232150</td>\n",
       "    </tr>\n",
       "    <tr>\n",
       "      <th>e-coli</th>\n",
       "      <td>0.004705</td>\n",
       "      <td>0.003221</td>\n",
       "      <td>0.066785</td>\n",
       "      <td>0.011227</td>\n",
       "      <td>0.003178</td>\n",
       "      <td>0.032094</td>\n",
       "      <td>-0.008962</td>\n",
       "      <td>0.030467</td>\n",
       "      <td>0.049848</td>\n",
       "      <td>0.005507</td>\n",
       "      <td>...</td>\n",
       "      <td>0.020474</td>\n",
       "      <td>0.016479</td>\n",
       "      <td>0.053108</td>\n",
       "      <td>-0.000587</td>\n",
       "      <td>-0.002648</td>\n",
       "      <td>0.013303</td>\n",
       "      <td>0.017513</td>\n",
       "      <td>0.006605</td>\n",
       "      <td>1.000000</td>\n",
       "      <td>-0.002644</td>\n",
       "    </tr>\n",
       "    <tr>\n",
       "      <th>tainted</th>\n",
       "      <td>0.001037</td>\n",
       "      <td>-0.000664</td>\n",
       "      <td>0.332503</td>\n",
       "      <td>0.070156</td>\n",
       "      <td>0.020863</td>\n",
       "      <td>0.296734</td>\n",
       "      <td>-0.027552</td>\n",
       "      <td>0.317874</td>\n",
       "      <td>0.281161</td>\n",
       "      <td>0.256089</td>\n",
       "      <td>...</td>\n",
       "      <td>0.103989</td>\n",
       "      <td>0.163980</td>\n",
       "      <td>0.020064</td>\n",
       "      <td>0.036509</td>\n",
       "      <td>0.179238</td>\n",
       "      <td>0.213267</td>\n",
       "      <td>0.056364</td>\n",
       "      <td>0.232150</td>\n",
       "      <td>-0.002644</td>\n",
       "      <td>1.000000</td>\n",
       "    </tr>\n",
       "  </tbody>\n",
       "</table>\n",
       "<p>40 rows × 40 columns</p>\n",
       "</div>"
      ],
      "text/plain": [
       "                           yelp_star  mean_star  review_count  \\\n",
       "yelp_star                   1.000000   0.987644      0.056935   \n",
       "mean_star                   0.987644   1.000000      0.054959   \n",
       "review_count                0.056935   0.054959      1.000000   \n",
       "inspection_fail_count      -0.057948  -0.058359      0.127381   \n",
       "inspection_fail_indicator   0.001135   0.000113      0.056918   \n",
       "one_star_count             -0.177226  -0.180594      0.705520   \n",
       "prop_one_star              -0.862140  -0.874760     -0.117472   \n",
       "keyword_total              -0.065720  -0.069431      0.748436   \n",
       "sick                       -0.027116  -0.030550      0.799252   \n",
       "dirty                      -0.071395  -0.074778      0.590361   \n",
       "disgusting                 -0.099715  -0.103293      0.646564   \n",
       "vomit                      -0.044618  -0.047225      0.567851   \n",
       "threw up                   -0.036928  -0.038016      0.446560   \n",
       "food poison                -0.026043  -0.027779      0.620963   \n",
       "diarrhea                   -0.023041  -0.025725      0.479592   \n",
       "filthy                     -0.092033  -0.095015      0.392898   \n",
       "gross                      -0.058706  -0.061800      0.745078   \n",
       "throw up                   -0.026446  -0.029352      0.485183   \n",
       "throwing up                -0.020985  -0.022670      0.474942   \n",
       "indigestion                -0.002897  -0.004529      0.381314   \n",
       "nausea                     -0.004799  -0.007058      0.345674   \n",
       "nauseous                   -0.008142  -0.006843      0.393011   \n",
       "upset stomach              -0.011433  -0.011408      0.289412   \n",
       "the runs                   -0.011868  -0.009432      0.264662   \n",
       " bug                       -0.027008  -0.030430      0.349639   \n",
       " rat                        0.000869   0.000112      0.174099   \n",
       "mice                        0.000813  -0.000071      0.112675   \n",
       "mouse                       0.011635   0.008867      0.338781   \n",
       "expired                    -0.041774  -0.043144      0.164195   \n",
       "listeria                   -0.006045  -0.005189      0.013729   \n",
       "contaminate                -0.017378  -0.017704      0.355872   \n",
       "bacteria                   -0.019669  -0.019887      0.243706   \n",
       "salmonella                  0.004359   0.001798      0.124986   \n",
       "e coli                     -0.003644  -0.002811      0.021169   \n",
       "infest                     -0.047584  -0.048071      0.326036   \n",
       "retch                       0.027006   0.025095      0.586329   \n",
       " gag                        0.010972   0.011993      0.158779   \n",
       "stench                     -0.031048  -0.033420      0.374330   \n",
       "e-coli                      0.004705   0.003221      0.066785   \n",
       "tainted                     0.001037  -0.000664      0.332503   \n",
       "\n",
       "                           inspection_fail_count  inspection_fail_indicator  \\\n",
       "yelp_star                              -0.057948                   0.001135   \n",
       "mean_star                              -0.058359                   0.000113   \n",
       "review_count                            0.127381                   0.056918   \n",
       "inspection_fail_count                   1.000000                   0.224136   \n",
       "inspection_fail_indicator               0.224136                   1.000000   \n",
       "one_star_count                          0.139637                   0.043688   \n",
       "prop_one_star                           0.000104                  -0.022723   \n",
       "keyword_total                           0.117128                   0.047617   \n",
       "sick                                    0.122559                   0.045743   \n",
       "dirty                                   0.084332                   0.038983   \n",
       "disgusting                              0.107704                   0.046861   \n",
       "vomit                                   0.094776                   0.028920   \n",
       "threw up                                0.054449                   0.025877   \n",
       "food poison                             0.105716                   0.043739   \n",
       "diarrhea                                0.082418                   0.029075   \n",
       "filthy                                  0.057898                   0.031546   \n",
       "gross                                   0.128145                   0.044236   \n",
       "throw up                                0.113563                   0.035268   \n",
       "throwing up                             0.081872                   0.027177   \n",
       "indigestion                             0.051228                   0.014943   \n",
       "nausea                                  0.068502                   0.017356   \n",
       "nauseous                                0.086271                   0.019849   \n",
       "upset stomach                           0.046492                   0.014099   \n",
       "the runs                                0.030097                   0.032557   \n",
       " bug                                    0.050105                   0.021176   \n",
       " rat                                    0.019618                   0.022020   \n",
       "mice                                    0.005985                   0.016866   \n",
       "mouse                                   0.059702                   0.003586   \n",
       "expired                                 0.021541                  -0.003303   \n",
       "listeria                               -0.002747                   0.008027   \n",
       "contaminate                             0.033861                   0.005783   \n",
       "bacteria                                0.045134                   0.017980   \n",
       "salmonella                              0.000414                   0.008842   \n",
       "e coli                                  0.002239                  -0.013812   \n",
       "infest                                  0.048003                   0.016754   \n",
       "retch                                   0.106035                   0.026868   \n",
       " gag                                    0.055574                   0.022557   \n",
       "stench                                  0.047071                   0.019885   \n",
       "e-coli                                  0.011227                   0.003178   \n",
       "tainted                                 0.070156                   0.020863   \n",
       "\n",
       "                           one_star_count  prop_one_star  keyword_total  \\\n",
       "yelp_star                       -0.177226      -0.862140      -0.065720   \n",
       "mean_star                       -0.180594      -0.874760      -0.069431   \n",
       "review_count                     0.705520      -0.117472       0.748436   \n",
       "inspection_fail_count            0.139637       0.000104       0.117128   \n",
       "inspection_fail_indicator        0.043688      -0.022723       0.047617   \n",
       "one_star_count                   1.000000       0.123241       0.851386   \n",
       "prop_one_star                    0.123241       1.000000      -0.001205   \n",
       "keyword_total                    0.851386      -0.001205       1.000000   \n",
       "sick                             0.709797      -0.034821       0.784368   \n",
       "dirty                            0.769255       0.018902       0.925821   \n",
       "disgusting                       0.809673       0.030278       0.913376   \n",
       "vomit                            0.682126       0.004514       0.806064   \n",
       "threw up                         0.464811      -0.005063       0.534190   \n",
       "food poison                      0.488041      -0.024847       0.586703   \n",
       "diarrhea                         0.396932      -0.013574       0.470121   \n",
       "filthy                           0.674796       0.051763       0.776865   \n",
       "gross                            0.801933      -0.015608       0.922712   \n",
       "throw up                         0.473555      -0.012791       0.564425   \n",
       "throwing up                      0.441568      -0.011095       0.507649   \n",
       "indigestion                      0.282748      -0.018947       0.338180   \n",
       "nausea                           0.343803      -0.021549       0.413865   \n",
       "nauseous                         0.337691      -0.026242       0.383961   \n",
       "upset stomach                    0.213146      -0.020291       0.235223   \n",
       "the runs                         0.213127      -0.019938       0.262946   \n",
       " bug                             0.511137       0.004826       0.619251   \n",
       " rat                             0.170660      -0.016023       0.208473   \n",
       "mice                             0.090309      -0.022383       0.182296   \n",
       "mouse                            0.239684      -0.032936       0.272491   \n",
       "expired                          0.241624       0.019192       0.202436   \n",
       "listeria                         0.018286      -0.000972       0.021998   \n",
       "contaminate                      0.318842      -0.009675       0.395479   \n",
       "bacteria                         0.338318      -0.000530       0.351094   \n",
       "salmonella                       0.045088      -0.011983       0.086903   \n",
       "e coli                           0.016819      -0.005218       0.014959   \n",
       "infest                           0.517891       0.018674       0.609481   \n",
       "retch                            0.489108      -0.056260       0.592228   \n",
       " gag                             0.139705      -0.029130       0.169019   \n",
       "stench                           0.524349      -0.001376       0.646678   \n",
       "e-coli                           0.032094      -0.008962       0.030467   \n",
       "tainted                          0.296734      -0.027552       0.317874   \n",
       "\n",
       "                               sick     dirty    ...     contaminate  \\\n",
       "yelp_star                 -0.027116 -0.071395    ...       -0.017378   \n",
       "mean_star                 -0.030550 -0.074778    ...       -0.017704   \n",
       "review_count               0.799252  0.590361    ...        0.355872   \n",
       "inspection_fail_count      0.122559  0.084332    ...        0.033861   \n",
       "inspection_fail_indicator  0.045743  0.038983    ...        0.005783   \n",
       "one_star_count             0.709797  0.769255    ...        0.318842   \n",
       "prop_one_star             -0.034821  0.018902    ...       -0.009675   \n",
       "keyword_total              0.784368  0.925821    ...        0.395479   \n",
       "sick                       1.000000  0.576582    ...        0.394478   \n",
       "dirty                      0.576582  1.000000    ...        0.305994   \n",
       "disgusting                 0.677252  0.823057    ...        0.342837   \n",
       "vomit                      0.623482  0.721219    ...        0.321711   \n",
       "threw up                   0.479811  0.447959    ...        0.220988   \n",
       "food poison                0.719707  0.391599    ...        0.406215   \n",
       "diarrhea                   0.538294  0.311609    ...        0.285065   \n",
       "filthy                     0.381223  0.844033    ...        0.258124   \n",
       "gross                      0.754289  0.793479    ...        0.363318   \n",
       "throw up                   0.553586  0.460204    ...        0.257733   \n",
       "throwing up                0.577108  0.380280    ...        0.229825   \n",
       "indigestion                0.404165  0.210711    ...        0.220989   \n",
       "nausea                     0.376762  0.338878    ...        0.133323   \n",
       "nauseous                   0.414369  0.289653    ...        0.192991   \n",
       "upset stomach              0.290758  0.141468    ...        0.075259   \n",
       "the runs                   0.306162  0.187440    ...        0.154246   \n",
       " bug                       0.319595  0.628992    ...        0.184758   \n",
       " rat                       0.157491  0.174568    ...        0.060201   \n",
       "mice                       0.129399  0.088710    ...        0.032336   \n",
       "mouse                      0.285298  0.183263    ...        0.146959   \n",
       "expired                    0.184078  0.150460    ...        0.083975   \n",
       "listeria                   0.033750  0.009510    ...       -0.002008   \n",
       "contaminate                0.394478  0.305994    ...        1.000000   \n",
       "bacteria                   0.257452  0.312282    ...        0.213801   \n",
       "salmonella                 0.127713  0.040739    ...        0.121733   \n",
       "e coli                     0.028175  0.007196    ...        0.063609   \n",
       "infest                     0.291128  0.625314    ...        0.194798   \n",
       "retch                      0.586075  0.448170    ...        0.278336   \n",
       " gag                       0.131365  0.138195    ...        0.059695   \n",
       "stench                     0.335311  0.670245    ...        0.205917   \n",
       "e-coli                     0.049848  0.005507    ...        0.020474   \n",
       "tainted                    0.281161  0.256089    ...        0.103989   \n",
       "\n",
       "                           bacteria  salmonella    e coli    infest     retch  \\\n",
       "yelp_star                 -0.019669    0.004359 -0.003644 -0.047584  0.027006   \n",
       "mean_star                 -0.019887    0.001798 -0.002811 -0.048071  0.025095   \n",
       "review_count               0.243706    0.124986  0.021169  0.326036  0.586329   \n",
       "inspection_fail_count      0.045134    0.000414  0.002239  0.048003  0.106035   \n",
       "inspection_fail_indicator  0.017980    0.008842 -0.013812  0.016754  0.026868   \n",
       "one_star_count             0.338318    0.045088  0.016819  0.517891  0.489108   \n",
       "prop_one_star             -0.000530   -0.011983 -0.005218  0.018674 -0.056260   \n",
       "keyword_total              0.351094    0.086903  0.014959  0.609481  0.592228   \n",
       "sick                       0.257452    0.127713  0.028175  0.291128  0.586075   \n",
       "dirty                      0.312282    0.040739  0.007196  0.625314  0.448170   \n",
       "disgusting                 0.300104    0.040300  0.016742  0.570713  0.489706   \n",
       "vomit                      0.314170    0.064681 -0.003309  0.489534  0.474306   \n",
       "threw up                   0.174447    0.030331  0.059162  0.265226  0.304213   \n",
       "food poison                0.146984    0.246162  0.025686  0.139565  0.497472   \n",
       "diarrhea                   0.142764    0.131034 -0.003208  0.134775  0.353928   \n",
       "filthy                     0.367353    0.025668  0.009527  0.638188  0.283336   \n",
       "gross                      0.325256    0.064813  0.010204  0.516932  0.562681   \n",
       "throw up                   0.166137    0.021385 -0.003148  0.260461  0.393493   \n",
       "throwing up                0.132590    0.051244 -0.002988  0.193773  0.408779   \n",
       "indigestion                0.086503    0.002383 -0.001728  0.082628  0.340660   \n",
       "nausea                     0.093613    0.005131 -0.002793  0.216833  0.265999   \n",
       "nauseous                   0.110774    0.010658  0.023203  0.116442  0.298894   \n",
       "upset stomach              0.069375   -0.000898 -0.002512  0.046023  0.141490   \n",
       "the runs                   0.046353    0.022204 -0.002133  0.043453  0.212973   \n",
       " bug                       0.203750    0.023100 -0.002575  0.718013  0.228031   \n",
       " rat                       0.054351    0.042332 -0.001709  0.154919  0.143546   \n",
       "mice                       0.019581    0.005612 -0.001556  0.074041  0.034227   \n",
       "mouse                      0.122238   -0.000216 -0.002417  0.097489  0.238293   \n",
       "expired                    0.120029    0.011940 -0.003602  0.098165  0.129501   \n",
       "listeria                   0.033382   -0.000823 -0.000402 -0.001813 -0.003270   \n",
       "contaminate                0.213801    0.121733  0.063609  0.194798  0.278336   \n",
       "bacteria                   1.000000    0.050840 -0.002558  0.266427  0.182901   \n",
       "salmonella                 0.050840    1.000000 -0.001062  0.020223  0.028645   \n",
       "e coli                    -0.002558   -0.001062  1.000000 -0.002340  0.000891   \n",
       "infest                     0.266427    0.020223 -0.002340  1.000000  0.220391   \n",
       "retch                      0.182901    0.028645  0.000891  0.220391  1.000000   \n",
       " gag                       0.096996    0.000015 -0.001712  0.101844  0.086579   \n",
       "stench                     0.238068    0.011949 -0.002295  0.550975  0.293867   \n",
       "e-coli                     0.016479    0.053108 -0.000587 -0.002648  0.013303   \n",
       "tainted                    0.163980    0.020064  0.036509  0.179238  0.213267   \n",
       "\n",
       "                               gag     stench    e-coli   tainted  \n",
       "yelp_star                  0.010972 -0.031048  0.004705  0.001037  \n",
       "mean_star                  0.011993 -0.033420  0.003221 -0.000664  \n",
       "review_count               0.158779  0.374330  0.066785  0.332503  \n",
       "inspection_fail_count      0.055574  0.047071  0.011227  0.070156  \n",
       "inspection_fail_indicator  0.022557  0.019885  0.003178  0.020863  \n",
       "one_star_count             0.139705  0.524349  0.032094  0.296734  \n",
       "prop_one_star             -0.029130 -0.001376 -0.008962 -0.027552  \n",
       "keyword_total              0.169019  0.646678  0.030467  0.317874  \n",
       "sick                       0.131365  0.335311  0.049848  0.281161  \n",
       "dirty                      0.138195  0.670245  0.005507  0.256089  \n",
       "disgusting                 0.151503  0.613822  0.037993  0.286333  \n",
       "vomit                      0.159542  0.506731  0.043116  0.262597  \n",
       "threw up                   0.103380  0.268370  0.040376  0.166798  \n",
       "food poison                0.090468  0.166641  0.058552  0.203581  \n",
       "diarrhea                   0.080396  0.137792  0.040251  0.138137  \n",
       "filthy                     0.127212  0.629451  0.002101  0.187886  \n",
       "gross                      0.166242  0.566984  0.032878  0.313498  \n",
       "throw up                   0.097251  0.277439  0.057966  0.154731  \n",
       "throwing up                0.079505  0.176288 -0.003381  0.208498  \n",
       "indigestion                0.064261  0.055541 -0.001955  0.117974  \n",
       "nausea                     0.049062  0.293646  0.041811  0.164376  \n",
       "nauseous                   0.033368  0.197911 -0.003364  0.139060  \n",
       "upset stomach              0.055557  0.057924 -0.002843  0.059533  \n",
       "the runs                   0.021511  0.066192 -0.002413  0.079093  \n",
       " bug                       0.087870  0.572851  0.007204  0.156444  \n",
       " rat                       0.037693  0.134998 -0.001934  0.139737  \n",
       "mice                       0.001333  0.057362  0.000799  0.066059  \n",
       "mouse                      0.050477  0.099913 -0.002734  0.064488  \n",
       "expired                    0.017514  0.096957 -0.004075  0.064371  \n",
       "listeria                  -0.001326  0.015019 -0.000455 -0.001810  \n",
       "contaminate                0.059695  0.205917  0.020474  0.103989  \n",
       "bacteria                   0.096996  0.238068  0.016479  0.163980  \n",
       "salmonella                 0.000015  0.011949  0.053108  0.020064  \n",
       "e coli                    -0.001712 -0.002295 -0.000587  0.036509  \n",
       "infest                     0.101844  0.550975 -0.002648  0.179238  \n",
       "retch                      0.086579  0.293867  0.013303  0.213267  \n",
       " gag                       1.000000  0.081852  0.017513  0.056364  \n",
       "stench                     0.081852  1.000000  0.006605  0.232150  \n",
       "e-coli                     0.017513  0.006605  1.000000 -0.002644  \n",
       "tainted                    0.056364  0.232150 -0.002644  1.000000  \n",
       "\n",
       "[40 rows x 40 columns]"
      ]
     },
     "execution_count": 98,
     "metadata": {},
     "output_type": "execute_result"
    }
   ],
   "source": [
    "df.corr()"
   ]
  },
  {
   "cell_type": "code",
   "execution_count": null,
   "metadata": {
    "collapsed": true
   },
   "outputs": [],
   "source": []
  },
  {
   "cell_type": "code",
   "execution_count": 8,
   "metadata": {},
   "outputs": [
    {
     "name": "stdout",
     "output_type": "stream",
     "text": [
      "1    7987\n",
      "0    1653\n",
      "Name: inspection_fail_indicator, dtype: int64\n",
      "0.8285269709543569\n"
     ]
    }
   ],
   "source": [
    "# Up-sample Minority Class for Y_categorize\n",
    "print(df.inspection_fail_indicator.value_counts())\n",
    "print(7987/9640)"
   ]
  },
  {
   "cell_type": "code",
   "execution_count": 9,
   "metadata": {},
   "outputs": [
    {
     "data": {
      "text/plain": [
       "1    7987\n",
       "0    7987\n",
       "Name: inspection_fail_indicator, dtype: int64"
      ]
     },
     "execution_count": 9,
     "metadata": {},
     "output_type": "execute_result"
    }
   ],
   "source": [
    "df_majority = df[df.inspection_fail_indicator==1]\n",
    "df_minority = df[df.inspection_fail_indicator==0]\n",
    "df_minority_upsampled = resample(df_minority, \n",
    "                                 replace=True,      # sample with replacement\n",
    "                                 n_samples=7987,    # to match majority class\n",
    "                                 random_state=23)   # reproducible results\n",
    "df_upsampled = pd.concat([df_majority, df_minority_upsampled])\n",
    "df_upsampled.inspection_fail_indicator.value_counts()"
   ]
  },
  {
   "cell_type": "code",
   "execution_count": 10,
   "metadata": {
    "collapsed": true
   },
   "outputs": [],
   "source": [
    "# Prep up-sampled dataframes for models\n",
    "Xup = df.drop(['business_id', 'address', 'name', 'demerit', 'grade', 'inspection_fail_count', 'inspection_fail_indicator', 'keyword_count'], axis=1)\n",
    "Yup_categorize = df[['inspection_fail_indicator']]\n",
    "Yup_regression = df[['inspection_fail_count']]"
   ]
  },
  {
   "cell_type": "code",
   "execution_count": 11,
   "metadata": {
    "collapsed": true
   },
   "outputs": [],
   "source": [
    "# Normalize the dataset\n",
    "X = (X - X.mean()) / X.std()\n",
    "Xup = (Xup - Xup.mean()) / Xup.std()"
   ]
  },
  {
   "cell_type": "code",
   "execution_count": null,
   "metadata": {
    "collapsed": true
   },
   "outputs": [],
   "source": []
  },
  {
   "cell_type": "code",
   "execution_count": 12,
   "metadata": {
    "collapsed": true
   },
   "outputs": [],
   "source": [
    "####################\n",
    "##   Regression   ##\n",
    "####################"
   ]
  },
  {
   "cell_type": "code",
   "execution_count": 13,
   "metadata": {},
   "outputs": [
    {
     "name": "stdout",
     "output_type": "stream",
     "text": [
      "Accuracy: 0.03 (+/- 0.05)\n"
     ]
    },
    {
     "name": "stderr",
     "output_type": "stream",
     "text": [
      "/Users/philip/homebrew/lib/python3.6/site-packages/scipy/linalg/basic.py:1226: RuntimeWarning: internal gelsd driver lwork query error, required iwork dimension not returned. This is likely the result of LAPACK bug 0038, fixed in LAPACK 3.2.2 (released July 21, 2010). Falling back to 'gelss' driver.\n",
      "  warnings.warn(mesg, RuntimeWarning)\n"
     ]
    }
   ],
   "source": [
    "# Simple Linear Regression\n",
    "lm = linear_model.LinearRegression()\n",
    "scores = cross_val_score(lm, X, Y_regression, cv=10)\n",
    "print(\"Accuracy: %0.2f (+/- %0.2f)\" % (scores.mean(), scores.std() * 2))"
   ]
  },
  {
   "cell_type": "code",
   "execution_count": 16,
   "metadata": {},
   "outputs": [
    {
     "name": "stdout",
     "output_type": "stream",
     "text": [
      "[-841.52277072 -651.84139568 -556.40532041 -717.89101819 -638.05139889\n",
      " -705.83798936 -629.62850308 -545.67935926 -645.3786017  -477.02011181]\n",
      "Simple Linear Regression Test MSE: -640.9256469104048\n"
     ]
    }
   ],
   "source": [
    "scores = cross_validate(lm, X, Y_regression, cv=10, scoring=\"neg_mean_squared_error\")\n",
    "sorted(scores.keys()) \n",
    "print(scores[\"test_score\"])\n",
    "print(\"Simple Linear Regression Test MSE:\", scores[\"test_score\"].mean())"
   ]
  },
  {
   "cell_type": "code",
   "execution_count": 17,
   "metadata": {},
   "outputs": [
    {
     "name": "stdout",
     "output_type": "stream",
     "text": [
      "Lasso Test MSE: -640.9256477900678\n"
     ]
    }
   ],
   "source": [
    "# Lasso\n",
    "lasso = linear_model.Lasso()\n",
    "scores = cross_validate(lm, X, Y_regression, cv=10, scoring=\"neg_mean_squared_error\")\n",
    "sorted(scores.keys()) \n",
    "print(\"Lasso Test MSE:\", scores[\"test_score\"].mean())"
   ]
  },
  {
   "cell_type": "code",
   "execution_count": 47,
   "metadata": {},
   "outputs": [
    {
     "name": "stdout",
     "output_type": "stream",
     "text": [
      "10\n",
      "20\n",
      "30\n",
      "40\n",
      "50\n"
     ]
    }
   ],
   "source": [
    "# K Nearest Neighbor Regression\n",
    "Klist = []\n",
    "for K in range(1,51):\n",
    "    knn = KNeighborsRegressor(n_neighbors=K)\n",
    "    Kscores = cross_val_score(knn, X, np.ravel(Y_regression), cv=10)\n",
    "    Klist.append(Kscores.mean())\n",
    "    if (K%10 == 0): \n",
    "        print(K)"
   ]
  },
  {
   "cell_type": "code",
   "execution_count": 48,
   "metadata": {},
   "outputs": [
    {
     "data": {
      "text/plain": [
       "<matplotlib.collections.PathCollection at 0x116f85278>"
      ]
     },
     "execution_count": 48,
     "metadata": {},
     "output_type": "execute_result"
    },
    {
     "data": {
      "image/png": "[encoded data removed]",
      "text/plain": [
       "<matplotlib.figure.Figure at 0x116f4b2b0>"
      ]
     },
     "metadata": {},
     "output_type": "display_data"
    }
   ],
   "source": [
    "plt.scatter(range(1,51), Klist, alpha = 0.5)"
   ]
  },
  {
   "cell_type": "code",
   "execution_count": 20,
   "metadata": {},
   "outputs": [
    {
     "name": "stdout",
     "output_type": "stream",
     "text": [
      "KNN K=5 Test MSE: -771.5726182572614\n"
     ]
    }
   ],
   "source": [
    "knn = KNeighborsRegressor(n_neighbors=5)\n",
    "scores = cross_validate(knn, X, Y_regression, cv=10, scoring=\"neg_mean_squared_error\")\n",
    "sorted(scores.keys()) \n",
    "print(\"KNN K=5 Test MSE:\", scores[\"test_score\"].mean())"
   ]
  },
  {
   "cell_type": "code",
   "execution_count": 21,
   "metadata": {
    "collapsed": true
   },
   "outputs": [],
   "source": [
    "# Decision Trees"
   ]
  },
  {
   "cell_type": "code",
   "execution_count": 22,
   "metadata": {},
   "outputs": [
    {
     "name": "stdout",
     "output_type": "stream",
     "text": [
      "Accuracy: -0.73 (+/- 0.28)\n"
     ]
    }
   ],
   "source": [
    "dtree = tree.DecisionTreeRegressor()\n",
    "scores = cross_val_score(dtree, X, Y_regression, cv=10)\n",
    "print(\"Accuracy: %0.2f (+/- %0.2f)\" % (scores.mean(), scores.std() * 2))"
   ]
  },
  {
   "cell_type": "code",
   "execution_count": 23,
   "metadata": {},
   "outputs": [
    {
     "name": "stdout",
     "output_type": "stream",
     "text": [
      "Decision Tree Test MSE: -1133.8951056219848\n"
     ]
    }
   ],
   "source": [
    "scores = cross_validate(dtree, X, Y_regression, cv=10, scoring=\"neg_mean_squared_error\")\n",
    "sorted(scores.keys()) \n",
    "print(\"Decision Tree Test MSE:\", scores[\"test_score\"].mean())"
   ]
  },
  {
   "cell_type": "code",
   "execution_count": 24,
   "metadata": {},
   "outputs": [
    {
     "name": "stderr",
     "output_type": "stream",
     "text": [
      "/Users/philip/homebrew/lib/python3.6/site-packages/sklearn/model_selection/_split.py:605: Warning: The least populated class in y has only 2 members, which is too few. The minimum number of members in any class cannot be less than n_splits=10.\n",
      "  % (min_groups, self.n_splits)), Warning)\n"
     ]
    },
    {
     "name": "stdout",
     "output_type": "stream",
     "text": [
      "Accuracy: 0.16 (+/- 0.01)\n"
     ]
    }
   ],
   "source": [
    "# Random Forest\n",
    "forest = RandomForestClassifier(min_samples_leaf=10, n_jobs=4)\n",
    "scores = cross_val_score(forest, X, np.ravel(Y_regression), cv=10)\n",
    "print(\"Accuracy: %0.2f (+/- %0.2f)\" % (scores.mean(), scores.std() * 2))"
   ]
  },
  {
   "cell_type": "code",
   "execution_count": 25,
   "metadata": {},
   "outputs": [
    {
     "name": "stderr",
     "output_type": "stream",
     "text": [
      "/Users/philip/homebrew/lib/python3.6/site-packages/sklearn/model_selection/_split.py:605: Warning: The least populated class in y has only 2 members, which is too few. The minimum number of members in any class cannot be less than n_splits=10.\n",
      "  % (min_groups, self.n_splits)), Warning)\n"
     ]
    },
    {
     "name": "stdout",
     "output_type": "stream",
     "text": [
      "Random Forest Test MSE: -818.9614717666561\n"
     ]
    }
   ],
   "source": [
    "scores = cross_validate(forest, X, np.ravel(Y_regression), cv=10, scoring=\"neg_mean_squared_error\")\n",
    "print(\"Random Forest Test MSE:\", scores[\"test_score\"].mean())"
   ]
  },
  {
   "cell_type": "code",
   "execution_count": 26,
   "metadata": {
    "collapsed": true
   },
   "outputs": [],
   "source": [
    "# SVM"
   ]
  },
  {
   "cell_type": "code",
   "execution_count": 27,
   "metadata": {},
   "outputs": [
    {
     "name": "stdout",
     "output_type": "stream",
     "text": [
      "Accuracy: -0.10 (+/- 0.01)\n"
     ]
    }
   ],
   "source": [
    "svr = svm.SVR()\n",
    "scores = cross_val_score(svr, X, np.ravel(Y_regression), cv=10)\n",
    "print(\"Accuracy: %0.2f (+/- %0.2f)\" % (scores.mean(), scores.std() * 2))"
   ]
  },
  {
   "cell_type": "code",
   "execution_count": 28,
   "metadata": {},
   "outputs": [
    {
     "name": "stdout",
     "output_type": "stream",
     "text": [
      "Random Forest Test MSE: -730.2457373093201\n"
     ]
    }
   ],
   "source": [
    "scores = cross_validate(svr, X, np.ravel(Y_regression), cv=10, scoring=\"neg_mean_squared_error\")\n",
    "print(\"Random Forest Test MSE:\", scores[\"test_score\"].mean())"
   ]
  },
  {
   "cell_type": "code",
   "execution_count": null,
   "metadata": {
    "collapsed": true
   },
   "outputs": [],
   "source": []
  },
  {
   "cell_type": "code",
   "execution_count": 29,
   "metadata": {
    "collapsed": true
   },
   "outputs": [],
   "source": [
    "####################\n",
    "##   Regression   ##\n",
    "##   Up Sampled   ##\n",
    "####################"
   ]
  },
  {
   "cell_type": "code",
   "execution_count": 30,
   "metadata": {},
   "outputs": [
    {
     "name": "stdout",
     "output_type": "stream",
     "text": [
      "Accuracy: 0.03 (+/- 0.05)\n"
     ]
    }
   ],
   "source": [
    "# Simple Linear Regression\n",
    "lm = linear_model.LinearRegression()\n",
    "scores = cross_val_score(lm, Xup, Yup_regression, cv=10)\n",
    "print(\"Accuracy: %0.2f (+/- %0.2f)\" % (scores.mean(), scores.std() * 2))"
   ]
  },
  {
   "cell_type": "code",
   "execution_count": 31,
   "metadata": {},
   "outputs": [
    {
     "name": "stdout",
     "output_type": "stream",
     "text": [
      "Simple Linear Regression Test MSE: -640.9256460397999\n"
     ]
    }
   ],
   "source": [
    "scores = cross_validate(lm, Xup, Yup_regression, cv=10, scoring=\"neg_mean_squared_error\")\n",
    "sorted(scores.keys()) \n",
    "print(\"Simple Linear Regression Test MSE:\", scores[\"test_score\"].mean())"
   ]
  },
  {
   "cell_type": "code",
   "execution_count": 34,
   "metadata": {},
   "outputs": [
    {
     "name": "stdout",
     "output_type": "stream",
     "text": [
      "Lasso Test MSE: -640.9256472098258\n"
     ]
    }
   ],
   "source": [
    "# Lasso\n",
    "lasso = linear_model.Lasso()\n",
    "scores = cross_validate(lm, Xup, Yup_regression, cv=10, scoring=\"neg_mean_squared_error\")\n",
    "sorted(scores.keys()) \n",
    "print(\"Lasso Test MSE:\", scores[\"test_score\"].mean())"
   ]
  },
  {
   "cell_type": "code",
   "execution_count": 35,
   "metadata": {},
   "outputs": [
    {
     "name": "stdout",
     "output_type": "stream",
     "text": [
      "10\n",
      "20\n",
      "30\n",
      "40\n",
      "50\n"
     ]
    }
   ],
   "source": [
    "# K Nearest Neighbor Regression\n",
    "Klist = []\n",
    "for K in range(1,51):\n",
    "    knn = KNeighborsRegressor(n_neighbors=K)\n",
    "    Kscores = cross_val_score(knn, Xup, np.ravel(Yup_regression), cv=10)\n",
    "    Klist.append(Kscores.mean())\n",
    "    if (K%10 == 0): \n",
    "        print(K)"
   ]
  },
  {
   "cell_type": "code",
   "execution_count": 36,
   "metadata": {},
   "outputs": [
    {
     "data": {
      "text/plain": [
       "<matplotlib.collections.PathCollection at 0x110e3bfd0>"
      ]
     },
     "execution_count": 36,
     "metadata": {},
     "output_type": "execute_result"
    },
    {
     "data": {
      "image/png": "[encoded data removed]",
      "text/plain": [
       "<matplotlib.figure.Figure at 0x116de4e10>"
      ]
     },
     "metadata": {},
     "output_type": "display_data"
    }
   ],
   "source": [
    "plt.scatter(range(1,51), Klist, alpha = 0.5)"
   ]
  },
  {
   "cell_type": "code",
   "execution_count": 37,
   "metadata": {},
   "outputs": [
    {
     "name": "stdout",
     "output_type": "stream",
     "text": [
      "KNN K=7 Test MSE: -730.6193136590737\n"
     ]
    }
   ],
   "source": [
    "knn = KNeighborsRegressor(n_neighbors=7)\n",
    "scores = cross_validate(knn, Xup, Yup_regression, cv=10, scoring=\"neg_mean_squared_error\")\n",
    "sorted(scores.keys()) \n",
    "print(\"KNN K=7 Test MSE:\", scores[\"test_score\"].mean())"
   ]
  },
  {
   "cell_type": "code",
   "execution_count": 38,
   "metadata": {
    "collapsed": true
   },
   "outputs": [],
   "source": [
    "# Decision Trees"
   ]
  },
  {
   "cell_type": "code",
   "execution_count": 39,
   "metadata": {},
   "outputs": [
    {
     "name": "stdout",
     "output_type": "stream",
     "text": [
      "Accuracy: -0.73 (+/- 0.23)\n"
     ]
    }
   ],
   "source": [
    "dtree = tree.DecisionTreeRegressor()\n",
    "scores = cross_val_score(dtree, Xup, Yup_regression, cv=10)\n",
    "print(\"Accuracy: %0.2f (+/- %0.2f)\" % (scores.mean(), scores.std() * 2))"
   ]
  },
  {
   "cell_type": "code",
   "execution_count": 40,
   "metadata": {},
   "outputs": [
    {
     "name": "stderr",
     "output_type": "stream",
     "text": [
      "/Users/philip/homebrew/lib/python3.6/site-packages/sklearn/model_selection/_split.py:605: Warning: The least populated class in y has only 2 members, which is too few. The minimum number of members in any class cannot be less than n_splits=10.\n",
      "  % (min_groups, self.n_splits)), Warning)\n"
     ]
    },
    {
     "name": "stdout",
     "output_type": "stream",
     "text": [
      "Accuracy: 0.16 (+/- 0.02)\n"
     ]
    }
   ],
   "source": [
    "# Random Forest\n",
    "forest = RandomForestClassifier(min_samples_leaf=10, n_jobs=4)\n",
    "scores = cross_val_score(forest, Xup, np.ravel(Yup_regression), cv=10)\n",
    "print(\"Accuracy: %0.2f (+/- %0.2f)\" % (scores.mean(), scores.std() * 2))"
   ]
  },
  {
   "cell_type": "code",
   "execution_count": 41,
   "metadata": {},
   "outputs": [
    {
     "name": "stderr",
     "output_type": "stream",
     "text": [
      "/Users/philip/homebrew/lib/python3.6/site-packages/sklearn/model_selection/_split.py:605: Warning: The least populated class in y has only 2 members, which is too few. The minimum number of members in any class cannot be less than n_splits=10.\n",
      "  % (min_groups, self.n_splits)), Warning)\n"
     ]
    },
    {
     "name": "stdout",
     "output_type": "stream",
     "text": [
      "Random Forest Test MSE: -814.0794442122499\n"
     ]
    }
   ],
   "source": [
    "scores = cross_validate(forest, Xup, np.ravel(Yup_regression), cv=10, scoring=\"neg_mean_squared_error\")\n",
    "print(\"Random Forest Test MSE:\", scores[\"test_score\"].mean())"
   ]
  },
  {
   "cell_type": "code",
   "execution_count": 42,
   "metadata": {},
   "outputs": [
    {
     "name": "stdout",
     "output_type": "stream",
     "text": [
      "Accuracy: -0.10 (+/- 0.01)\n"
     ]
    }
   ],
   "source": [
    "# SVM\n",
    "svr = svm.SVR()\n",
    "scores = cross_val_score(svr, Xup, np.ravel(Yup_regression), cv=10)\n",
    "print(\"Accuracy: %0.2f (+/- %0.2f)\" % (scores.mean(), scores.std() * 2))"
   ]
  },
  {
   "cell_type": "code",
   "execution_count": 43,
   "metadata": {},
   "outputs": [
    {
     "name": "stdout",
     "output_type": "stream",
     "text": [
      "SVM Test MSE: -730.2457373093201\n"
     ]
    }
   ],
   "source": [
    "scores = cross_validate(svr, Xup, np.ravel(Yup_regression), cv=10, scoring=\"neg_mean_squared_error\")\n",
    "print(\"SVM Test MSE:\", scores[\"test_score\"].mean())"
   ]
  },
  {
   "cell_type": "code",
   "execution_count": null,
   "metadata": {
    "collapsed": true
   },
   "outputs": [],
   "source": []
  },
  {
   "cell_type": "code",
   "execution_count": 18,
   "metadata": {
    "collapsed": true
   },
   "outputs": [],
   "source": [
    "########################\n",
    "##   Classification   ##\n",
    "########################"
   ]
  },
  {
   "cell_type": "code",
   "execution_count": 49,
   "metadata": {},
   "outputs": [
    {
     "name": "stdout",
     "output_type": "stream",
     "text": [
      "10\n",
      "20\n",
      "30\n",
      "40\n",
      "50\n"
     ]
    }
   ],
   "source": [
    "# K Nearest Neighbor\n",
    "\n",
    "Klist = []\n",
    "for K in range(1,51):\n",
    "    knn = KNeighborsClassifier(n_neighbors=K)\n",
    "    Kscores = cross_val_score(knn, X, np.ravel(Y_categorize), cv=10)\n",
    "    Klist.append(Kscores.mean())\n",
    "    if (K%10 == 0): \n",
    "        print(K)"
   ]
  },
  {
   "cell_type": "code",
   "execution_count": 50,
   "metadata": {},
   "outputs": [
    {
     "data": {
      "text/plain": [
       "[0.7160770424302597,\n",
       " 0.60269081485253,\n",
       " 0.7662863691185698,\n",
       " 0.7207446633517458,\n",
       " 0.7890009997093456,\n",
       " 0.7699140659410775,\n",
       " 0.8178414526257457,\n",
       " 0.8079863520999131,\n",
       " 0.8226125936631702,\n",
       " 0.8185665180665334,\n",
       " 0.8270737165252587,\n",
       " 0.825310122434981,\n",
       " 0.8279042381411742,\n",
       " 0.8263480054337359,\n",
       " 0.8275935725290704,\n",
       " 0.8271785270496513,\n",
       " 0.8281122449514946,\n",
       " 0.8275936800258993,\n",
       " 0.8284235559910795,\n",
       " 0.8282160871114115,\n",
       " 0.8284235559910795,\n",
       " 0.8284235559910795,\n",
       " 0.8285271829340848,\n",
       " 0.8285271829340848,\n",
       " 0.8285271829340848,\n",
       " 0.8285271829340848,\n",
       " 0.8285271829340848,\n",
       " 0.8285271829340848,\n",
       " 0.8285271829340848,\n",
       " 0.8285271829340848,\n",
       " 0.8285271829340848,\n",
       " 0.8285271829340848,\n",
       " 0.8285271829340848,\n",
       " 0.8285271829340848,\n",
       " 0.8285271829340848,\n",
       " 0.8285271829340848,\n",
       " 0.8285271829340848,\n",
       " 0.8285271829340848,\n",
       " 0.8285271829340848,\n",
       " 0.8285271829340848,\n",
       " 0.8285271829340848,\n",
       " 0.8285271829340848,\n",
       " 0.8285271829340848,\n",
       " 0.8285271829340848,\n",
       " 0.8285271829340848,\n",
       " 0.8285271829340848,\n",
       " 0.8285271829340848,\n",
       " 0.8285271829340848,\n",
       " 0.8285271829340848,\n",
       " 0.8285271829340848]"
      ]
     },
     "execution_count": 50,
     "metadata": {},
     "output_type": "execute_result"
    }
   ],
   "source": [
    "Kliststist"
   ]
  },
  {
   "cell_type": "code",
   "execution_count": 45,
   "metadata": {},
   "outputs": [
    {
     "data": {
      "text/plain": [
       "<matplotlib.collections.PathCollection at 0x116f58ef0>"
      ]
     },
     "execution_count": 45,
     "metadata": {},
     "output_type": "execute_result"
    },
    {
     "data": {
      "image/png": "[encoded data removed]",
      "text/plain": [
       "<matplotlib.figure.Figure at 0x116f08f28>"
      ]
     },
     "metadata": {},
     "output_type": "display_data"
    }
   ],
   "source": [
    "plt.scatter(range(1,51), Klist, alpha = 0.5)"
   ]
  },
  {
   "cell_type": "code",
   "execution_count": 46,
   "metadata": {},
   "outputs": [
    {
     "name": "stdout",
     "output_type": "stream",
     "text": [
      "KNN K=7\n",
      "Accuracy: 0.82 (+/- 0.01)\n",
      "Accuracy: 0.8178414526257457 \n",
      "Precision: 0.8296491427717667 \n",
      "Recall: 0.9817196307414344 \n",
      "f1: 0.8992907952987569\n"
     ]
    }
   ],
   "source": [
    "# KNN K = 7\n",
    "knn = KNeighborsClassifier(n_neighbors=7)\n",
    "scores = cross_val_score(knn, X, np.ravel(Y_categorize), cv=10)\n",
    "print(\"KNN K=7\\nAccuracy: %0.2f (+/- %0.2f)\" % (scores.mean(), scores.std() * 2))\n",
    "scores = cross_validate(knn, X, np.ravel(Y_categorize), cv=10, scoring=(\"accuracy\", \"precision\", \"recall\", \"f1\"))\n",
    "print(\"Accuracy:\", scores[\"test_accuracy\"].mean(), \"\\nPrecision:\", scores[\"test_precision\"].mean(), \"\\nRecall:\", scores[\"test_recall\"].mean(), \"\\nf1:\", scores[\"test_f1\"].mean())"
   ]
  },
  {
   "cell_type": "code",
   "execution_count": 24,
   "metadata": {},
   "outputs": [
    {
     "name": "stdout",
     "output_type": "stream",
     "text": [
      "Logistic Regression\n",
      "Accuracy: 0.83 (+/- 0.00)\n",
      "Accuracy: 0.828215979391 \n",
      "Precision: 0.828473753881 \n",
      "Recall: 0.999624373826 \n",
      "f1: 0.906037223817\n"
     ]
    }
   ],
   "source": [
    "# logistic regression\n",
    "logreg = LogisticRegression()\n",
    "scores = cross_val_score(logreg, X, np.ravel(Y_categorize), cv=10)\n",
    "print(\"Logistic Regression\\nAccuracy: %0.2f (+/- %0.2f)\" % (scores.mean(), scores.std() * 2))\n",
    "scores = cross_validate(logreg, X, np.ravel(Y_categorize), cv=10, scoring=(\"accuracy\", \"precision\", \"recall\", \"f1\"))\n",
    "print(\"Accuracy:\", scores[\"test_accuracy\"].mean(), \"\\nPrecision:\", scores[\"test_precision\"].mean(), \"\\nRecall:\", scores[\"test_recall\"].mean(), \"\\nf1:\", scores[\"test_f1\"].mean())"
   ]
  },
  {
   "cell_type": "code",
   "execution_count": 25,
   "metadata": {},
   "outputs": [
    {
     "name": "stderr",
     "output_type": "stream",
     "text": [
      "/usr/lib/python3/dist-packages/sklearn/discriminant_analysis.py:388: UserWarning: Variables are collinear.\n",
      "  warnings.warn(\"Variables are collinear.\")\n",
      "/usr/lib/python3/dist-packages/sklearn/discriminant_analysis.py:388: UserWarning: Variables are collinear.\n",
      "  warnings.warn(\"Variables are collinear.\")\n",
      "/usr/lib/python3/dist-packages/sklearn/discriminant_analysis.py:388: UserWarning: Variables are collinear.\n",
      "  warnings.warn(\"Variables are collinear.\")\n",
      "/usr/lib/python3/dist-packages/sklearn/discriminant_analysis.py:388: UserWarning: Variables are collinear.\n",
      "  warnings.warn(\"Variables are collinear.\")\n",
      "/usr/lib/python3/dist-packages/sklearn/discriminant_analysis.py:388: UserWarning: Variables are collinear.\n",
      "  warnings.warn(\"Variables are collinear.\")\n",
      "/usr/lib/python3/dist-packages/sklearn/discriminant_analysis.py:388: UserWarning: Variables are collinear.\n",
      "  warnings.warn(\"Variables are collinear.\")\n",
      "/usr/lib/python3/dist-packages/sklearn/discriminant_analysis.py:388: UserWarning: Variables are collinear.\n",
      "  warnings.warn(\"Variables are collinear.\")\n",
      "/usr/lib/python3/dist-packages/sklearn/discriminant_analysis.py:388: UserWarning: Variables are collinear.\n",
      "  warnings.warn(\"Variables are collinear.\")\n",
      "/usr/lib/python3/dist-packages/sklearn/discriminant_analysis.py:388: UserWarning: Variables are collinear.\n",
      "  warnings.warn(\"Variables are collinear.\")\n",
      "/usr/lib/python3/dist-packages/sklearn/discriminant_analysis.py:388: UserWarning: Variables are collinear.\n",
      "  warnings.warn(\"Variables are collinear.\")\n",
      "/usr/lib/python3/dist-packages/sklearn/discriminant_analysis.py:388: UserWarning: Variables are collinear.\n",
      "  warnings.warn(\"Variables are collinear.\")\n",
      "/usr/lib/python3/dist-packages/sklearn/discriminant_analysis.py:388: UserWarning: Variables are collinear.\n",
      "  warnings.warn(\"Variables are collinear.\")\n"
     ]
    },
    {
     "name": "stdout",
     "output_type": "stream",
     "text": [
      "LDA\n",
      "Accuracy: 0.83 (+/- 0.00)\n"
     ]
    },
    {
     "name": "stderr",
     "output_type": "stream",
     "text": [
      "/usr/lib/python3/dist-packages/sklearn/discriminant_analysis.py:388: UserWarning: Variables are collinear.\n",
      "  warnings.warn(\"Variables are collinear.\")\n",
      "/usr/lib/python3/dist-packages/sklearn/discriminant_analysis.py:388: UserWarning: Variables are collinear.\n",
      "  warnings.warn(\"Variables are collinear.\")\n",
      "/usr/lib/python3/dist-packages/sklearn/discriminant_analysis.py:388: UserWarning: Variables are collinear.\n",
      "  warnings.warn(\"Variables are collinear.\")\n",
      "/usr/lib/python3/dist-packages/sklearn/discriminant_analysis.py:388: UserWarning: Variables are collinear.\n",
      "  warnings.warn(\"Variables are collinear.\")\n",
      "/usr/lib/python3/dist-packages/sklearn/discriminant_analysis.py:388: UserWarning: Variables are collinear.\n",
      "  warnings.warn(\"Variables are collinear.\")\n"
     ]
    },
    {
     "name": "stdout",
     "output_type": "stream",
     "text": [
      "Accuracy: 0.828215979391 \n",
      "Precision: 0.828473753881 \n",
      "Recall: 0.999624373826 \n",
      "f1: 0.906037223817\n"
     ]
    },
    {
     "name": "stderr",
     "output_type": "stream",
     "text": [
      "/usr/lib/python3/dist-packages/sklearn/discriminant_analysis.py:388: UserWarning: Variables are collinear.\n",
      "  warnings.warn(\"Variables are collinear.\")\n",
      "/usr/lib/python3/dist-packages/sklearn/discriminant_analysis.py:388: UserWarning: Variables are collinear.\n",
      "  warnings.warn(\"Variables are collinear.\")\n",
      "/usr/lib/python3/dist-packages/sklearn/discriminant_analysis.py:388: UserWarning: Variables are collinear.\n",
      "  warnings.warn(\"Variables are collinear.\")\n"
     ]
    }
   ],
   "source": [
    "# LDA\n",
    "lda = LinearDiscriminantAnalysis()\n",
    "scores = cross_val_score(lda, X, np.ravel(Y_categorize), cv=10)\n",
    "print(\"LDA\\nAccuracy: %0.2f (+/- %0.2f)\" % (scores.mean(), scores.std() * 2))\n",
    "scores = cross_validate(lda, X, np.ravel(Y_categorize), cv=10, scoring=(\"accuracy\", \"precision\", \"recall\", \"f1\"))\n",
    "print(\"Accuracy:\", scores[\"test_accuracy\"].mean(), \"\\nPrecision:\", scores[\"test_precision\"].mean(), \"\\nRecall:\", scores[\"test_recall\"].mean(), \"\\nf1:\", scores[\"test_f1\"].mean())"
   ]
  },
  {
   "cell_type": "code",
   "execution_count": 26,
   "metadata": {},
   "outputs": [
    {
     "name": "stderr",
     "output_type": "stream",
     "text": [
      "/usr/lib/python3/dist-packages/sklearn/discriminant_analysis.py:682: UserWarning: Variables are collinear\n",
      "  warnings.warn(\"Variables are collinear\")\n",
      "/usr/lib/python3/dist-packages/sklearn/discriminant_analysis.py:682: UserWarning: Variables are collinear\n",
      "  warnings.warn(\"Variables are collinear\")\n",
      "/usr/lib/python3/dist-packages/sklearn/discriminant_analysis.py:682: UserWarning: Variables are collinear\n",
      "  warnings.warn(\"Variables are collinear\")\n",
      "/usr/lib/python3/dist-packages/sklearn/discriminant_analysis.py:682: UserWarning: Variables are collinear\n",
      "  warnings.warn(\"Variables are collinear\")\n",
      "/usr/lib/python3/dist-packages/sklearn/discriminant_analysis.py:682: UserWarning: Variables are collinear\n",
      "  warnings.warn(\"Variables are collinear\")\n",
      "/usr/lib/python3/dist-packages/sklearn/discriminant_analysis.py:682: UserWarning: Variables are collinear\n",
      "  warnings.warn(\"Variables are collinear\")\n",
      "/usr/lib/python3/dist-packages/sklearn/discriminant_analysis.py:682: UserWarning: Variables are collinear\n",
      "  warnings.warn(\"Variables are collinear\")\n",
      "/usr/lib/python3/dist-packages/sklearn/discriminant_analysis.py:682: UserWarning: Variables are collinear\n",
      "  warnings.warn(\"Variables are collinear\")\n",
      "/usr/lib/python3/dist-packages/sklearn/discriminant_analysis.py:682: UserWarning: Variables are collinear\n",
      "  warnings.warn(\"Variables are collinear\")\n",
      "/usr/lib/python3/dist-packages/sklearn/discriminant_analysis.py:682: UserWarning: Variables are collinear\n",
      "  warnings.warn(\"Variables are collinear\")\n"
     ]
    },
    {
     "name": "stdout",
     "output_type": "stream",
     "text": [
      "QDA\n",
      "Accuracy: 0.24 (+/- 0.02)\n"
     ]
    },
    {
     "name": "stderr",
     "output_type": "stream",
     "text": [
      "/usr/lib/python3/dist-packages/sklearn/discriminant_analysis.py:682: UserWarning: Variables are collinear\n",
      "  warnings.warn(\"Variables are collinear\")\n",
      "/usr/lib/python3/dist-packages/sklearn/discriminant_analysis.py:682: UserWarning: Variables are collinear\n",
      "  warnings.warn(\"Variables are collinear\")\n",
      "/usr/lib/python3/dist-packages/sklearn/discriminant_analysis.py:682: UserWarning: Variables are collinear\n",
      "  warnings.warn(\"Variables are collinear\")\n",
      "/usr/lib/python3/dist-packages/sklearn/discriminant_analysis.py:682: UserWarning: Variables are collinear\n",
      "  warnings.warn(\"Variables are collinear\")\n",
      "/usr/lib/python3/dist-packages/sklearn/discriminant_analysis.py:682: UserWarning: Variables are collinear\n",
      "  warnings.warn(\"Variables are collinear\")\n",
      "/usr/lib/python3/dist-packages/sklearn/discriminant_analysis.py:682: UserWarning: Variables are collinear\n",
      "  warnings.warn(\"Variables are collinear\")\n",
      "/usr/lib/python3/dist-packages/sklearn/discriminant_analysis.py:682: UserWarning: Variables are collinear\n",
      "  warnings.warn(\"Variables are collinear\")\n",
      "/usr/lib/python3/dist-packages/sklearn/discriminant_analysis.py:682: UserWarning: Variables are collinear\n",
      "  warnings.warn(\"Variables are collinear\")\n",
      "/usr/lib/python3/dist-packages/sklearn/discriminant_analysis.py:682: UserWarning: Variables are collinear\n",
      "  warnings.warn(\"Variables are collinear\")\n"
     ]
    },
    {
     "name": "stdout",
     "output_type": "stream",
     "text": [
      "Accuracy: 0.243253758108 \n",
      "Precision: 0.886389630652 \n",
      "Recall: 0.0994074673542 \n",
      "f1: 0.178359332092\n"
     ]
    },
    {
     "name": "stderr",
     "output_type": "stream",
     "text": [
      "/usr/lib/python3/dist-packages/sklearn/discriminant_analysis.py:682: UserWarning: Variables are collinear\n",
      "  warnings.warn(\"Variables are collinear\")\n"
     ]
    }
   ],
   "source": [
    "# QDA\n",
    "qda = QuadraticDiscriminantAnalysis()\n",
    "scores = cross_val_score(qda, X, np.ravel(Y_categorize), cv=10)\n",
    "print(\"QDA\\nAccuracy: %0.2f (+/- %0.2f)\" % (scores.mean(), scores.std() * 2))\n",
    "scores = cross_validate(qda, X, np.ravel(Y_categorize), cv=10, scoring=(\"accuracy\", \"precision\", \"recall\", \"f1\"))\n",
    "print(\"Accuracy:\", scores[\"test_accuracy\"].mean(), \"\\nPrecision:\", scores[\"test_precision\"].mean(), \"\\nRecall:\", scores[\"test_recall\"].mean(), \"\\nf1:\", scores[\"test_f1\"].mean())"
   ]
  },
  {
   "cell_type": "code",
   "execution_count": 27,
   "metadata": {},
   "outputs": [
    {
     "name": "stdout",
     "output_type": "stream",
     "text": [
      "Decision Tree\n",
      "Accuracy: 0.74 (+/- 0.02)\n",
      "Accuracy: 0.734858687214 \n",
      "Precision: 0.829184656068 \n",
      "Recall: 0.856392702658 \n",
      "f1: 0.842528760247\n"
     ]
    }
   ],
   "source": [
    "# Decision Trees\n",
    "dtree = tree.DecisionTreeClassifier()\n",
    "scores = cross_val_score(dtree, X, Y_categorize, cv=10)\n",
    "print(\"Decision Tree\\nAccuracy: %0.2f (+/- %0.2f)\" % (scores.mean(), scores.std() * 2))\n",
    "scores = cross_validate(dtree, X, np.ravel(Y_categorize), cv=10, scoring=(\"accuracy\", \"precision\", \"recall\", \"f1\"))\n",
    "print(\"Accuracy:\", scores[\"test_accuracy\"].mean(), \"\\nPrecision:\", scores[\"test_precision\"].mean(), \"\\nRecall:\", scores[\"test_recall\"].mean(), \"\\nf1:\", scores[\"test_f1\"].mean())"
   ]
  },
  {
   "cell_type": "code",
   "execution_count": 16,
   "metadata": {},
   "outputs": [
    {
     "name": "stdout",
     "output_type": "stream",
     "text": [
      "Random Forest\n",
      "Accuracy: 0.58 (+/- 0.04)\n",
      "Accuracy: 0.5845316775071023 \n",
      "Precision: 0.833645462238931 \n",
      "Recall: 0.6227529085542391 \n",
      "f1: 0.7122758479020495\n"
     ]
    }
   ],
   "source": [
    "# Random Forest\n",
    "forest = RandomForestClassifier(min_samples_leaf=10, n_jobs=4, class_weight=\"balanced\")\n",
    "scores = cross_val_score(forest, X, np.ravel(Y_categorize), cv=10)\n",
    "print(\"Random Forest\\nAccuracy: %0.2f (+/- %0.2f)\" % (scores.mean(), scores.std() * 2))\n",
    "scores = cross_validate(forest, X, np.ravel(Y_categorize), cv=10, scoring=(\"accuracy\", \"precision\", \"recall\", \"f1\"))\n",
    "print(\"Accuracy:\", scores[\"test_accuracy\"].mean(), \"\\nPrecision:\", scores[\"test_precision\"].mean(), \"\\nRecall:\", scores[\"test_recall\"].mean(), \"\\nf1:\", scores[\"test_f1\"].mean())"
   ]
  },
  {
   "cell_type": "code",
   "execution_count": 29,
   "metadata": {},
   "outputs": [
    {
     "name": "stdout",
     "output_type": "stream",
     "text": [
      "SVM\n",
      "Accuracy: 0.83 (+/- 0.00)\n",
      "Accuracy: 0.828527182934 \n",
      "Precision: 0.828527182934 \n",
      "Recall: 1.0 \n",
      "f1: 0.906223490207\n"
     ]
    }
   ],
   "source": [
    "# SVM\n",
    "svmModel = svm.SVC()\n",
    "scores = cross_val_score(svmModel, X, np.ravel(Y_categorize), cv=10)\n",
    "print(\"SVM\\nAccuracy: %0.2f (+/- %0.2f)\" % (scores.mean(), scores.std() * 2))\n",
    "scores = cross_validate(svmModel, X, np.ravel(Y_categorize), cv=10, scoring=(\"accuracy\", \"precision\", \"recall\", \"f1\"))\n",
    "print(\"Accuracy:\", scores[\"test_accuracy\"].mean(), \"\\nPrecision:\", scores[\"test_precision\"].mean(), \"\\nRecall:\", scores[\"test_recall\"].mean(), \"\\nf1:\", scores[\"test_f1\"].mean())"
   ]
  },
  {
   "cell_type": "code",
   "execution_count": null,
   "metadata": {
    "collapsed": true
   },
   "outputs": [],
   "source": []
  },
  {
   "cell_type": "code",
   "execution_count": null,
   "metadata": {
    "collapsed": true
   },
   "outputs": [],
   "source": []
  },
  {
   "cell_type": "code",
   "execution_count": 51,
   "metadata": {
    "collapsed": true
   },
   "outputs": [],
   "source": [
    "########################\n",
    "##   Classification   ##\n",
    "##   Up Sampled       ##\n",
    "########################"
   ]
  },
  {
   "cell_type": "code",
   "execution_count": 62,
   "metadata": {},
   "outputs": [
    {
     "name": "stdout",
     "output_type": "stream",
     "text": [
      "10\n",
      "20\n",
      "30\n",
      "40\n",
      "50\n"
     ]
    }
   ],
   "source": [
    "# K Nearest Neighbor\n",
    "\n",
    "Klist = []\n",
    "for K in range(1,51):\n",
    "    knn = KNeighborsClassifier(n_neighbors=K)\n",
    "    Kscores = cross_val_score(knn, Xup, np.ravel(Yup_categorize), cv=10)\n",
    "    Klist.append(Kscores.mean())\n",
    "    if (K%10 == 0): \n",
    "        print(K)"
   ]
  },
  {
   "cell_type": "code",
   "execution_count": 63,
   "metadata": {},
   "outputs": [
    {
     "data": {
      "text/plain": [
       "<matplotlib.collections.PathCollection at 0x10cfa6240>"
      ]
     },
     "execution_count": 63,
     "metadata": {},
     "output_type": "execute_result"
    },
    {
     "data": {
      "image/png": "[encoded data removed]",
      "text/plain": [
       "<Figure size 432x288 with 1 Axes>"
      ]
     },
     "metadata": {},
     "output_type": "display_data"
    }
   ],
   "source": [
    "plt.scatter(range(1,51), Klist, alpha = 0.5)"
   ]
  },
  {
   "cell_type": "code",
   "execution_count": 52,
   "metadata": {},
   "outputs": [
    {
     "name": "stdout",
     "output_type": "stream",
     "text": [
      "KNN K=7\n",
      "Accuracy: 0.82 (+/- 0.01)\n",
      "Accuracy: 0.8178414526257457 \n",
      "Precision: 0.8296491427717667 \n",
      "Recall: 0.9817196307414344 \n",
      "f1: 0.8992907952987569\n"
     ]
    }
   ],
   "source": [
    "# KNN K = 7\n",
    "knn = KNeighborsClassifier(n_neighbors=7)\n",
    "scores = cross_val_score(knn, Xup, np.ravel(Yup_categorize), cv=10)\n",
    "print(\"KNN K=7\\nAccuracy: %0.2f (+/- %0.2f)\" % (scores.mean(), scores.std() * 2))\n",
    "scores = cross_validate(knn, Xup, np.ravel(Yup_categorize), cv=10, scoring=(\"accuracy\", \"precision\", \"recall\", \"f1\"))\n",
    "print(\"Accuracy:\", scores[\"test_accuracy\"].mean(), \"\\nPrecision:\", scores[\"test_precision\"].mean(), \"\\nRecall:\", scores[\"test_recall\"].mean(), \"\\nf1:\", scores[\"test_f1\"].mean())"
   ]
  },
  {
   "cell_type": "code",
   "execution_count": 65,
   "metadata": {},
   "outputs": [
    {
     "name": "stdout",
     "output_type": "stream",
     "text": [
      "Logistic Regression\n",
      "Accuracy: 0.83 (+/- 0.00)\n",
      "Accuracy: 0.8282158718944999 \n",
      "Precision: 0.8284737875894574 \n",
      "Recall: 0.999624373825678 \n",
      "f1: 0.9060371472696435\n"
     ]
    }
   ],
   "source": [
    "# logistic regression\n",
    "logreg = LogisticRegression()\n",
    "scores = cross_val_score(logreg, Xup, np.ravel(Yup_categorize), cv=10)\n",
    "print(\"Logistic Regression\\nAccuracy: %0.2f (+/- %0.2f)\" % (scores.mean(), scores.std() * 2))\n",
    "scores = cross_validate(logreg, Xup, np.ravel(Yup_categorize), cv=10, scoring=(\"accuracy\", \"precision\", \"recall\", \"f1\"))\n",
    "print(\"Accuracy:\", scores[\"test_accuracy\"].mean(), \"\\nPrecision:\", scores[\"test_precision\"].mean(), \"\\nRecall:\", scores[\"test_recall\"].mean(), \"\\nf1:\", scores[\"test_f1\"].mean())"
   ]
  },
  {
   "cell_type": "code",
   "execution_count": 66,
   "metadata": {},
   "outputs": [
    {
     "name": "stderr",
     "output_type": "stream",
     "text": [
      "/anaconda3/lib/python3.6/site-packages/sklearn/discriminant_analysis.py:388: UserWarning: Variables are collinear.\n",
      "  warnings.warn(\"Variables are collinear.\")\n",
      "/anaconda3/lib/python3.6/site-packages/sklearn/discriminant_analysis.py:388: UserWarning: Variables are collinear.\n",
      "  warnings.warn(\"Variables are collinear.\")\n",
      "/anaconda3/lib/python3.6/site-packages/sklearn/discriminant_analysis.py:388: UserWarning: Variables are collinear.\n",
      "  warnings.warn(\"Variables are collinear.\")\n",
      "/anaconda3/lib/python3.6/site-packages/sklearn/discriminant_analysis.py:388: UserWarning: Variables are collinear.\n",
      "  warnings.warn(\"Variables are collinear.\")\n",
      "/anaconda3/lib/python3.6/site-packages/sklearn/discriminant_analysis.py:388: UserWarning: Variables are collinear.\n",
      "  warnings.warn(\"Variables are collinear.\")\n",
      "/anaconda3/lib/python3.6/site-packages/sklearn/discriminant_analysis.py:388: UserWarning: Variables are collinear.\n",
      "  warnings.warn(\"Variables are collinear.\")\n",
      "/anaconda3/lib/python3.6/site-packages/sklearn/discriminant_analysis.py:388: UserWarning: Variables are collinear.\n",
      "  warnings.warn(\"Variables are collinear.\")\n",
      "/anaconda3/lib/python3.6/site-packages/sklearn/discriminant_analysis.py:388: UserWarning: Variables are collinear.\n",
      "  warnings.warn(\"Variables are collinear.\")\n",
      "/anaconda3/lib/python3.6/site-packages/sklearn/discriminant_analysis.py:388: UserWarning: Variables are collinear.\n",
      "  warnings.warn(\"Variables are collinear.\")\n",
      "/anaconda3/lib/python3.6/site-packages/sklearn/discriminant_analysis.py:388: UserWarning: Variables are collinear.\n",
      "  warnings.warn(\"Variables are collinear.\")\n",
      "/anaconda3/lib/python3.6/site-packages/sklearn/discriminant_analysis.py:388: UserWarning: Variables are collinear.\n",
      "  warnings.warn(\"Variables are collinear.\")\n",
      "/anaconda3/lib/python3.6/site-packages/sklearn/discriminant_analysis.py:388: UserWarning: Variables are collinear.\n",
      "  warnings.warn(\"Variables are collinear.\")\n"
     ]
    },
    {
     "name": "stdout",
     "output_type": "stream",
     "text": [
      "LDA\n",
      "Accuracy: 0.83 (+/- 0.00)\n"
     ]
    },
    {
     "name": "stderr",
     "output_type": "stream",
     "text": [
      "/anaconda3/lib/python3.6/site-packages/sklearn/discriminant_analysis.py:388: UserWarning: Variables are collinear.\n",
      "  warnings.warn(\"Variables are collinear.\")\n",
      "/anaconda3/lib/python3.6/site-packages/sklearn/discriminant_analysis.py:388: UserWarning: Variables are collinear.\n",
      "  warnings.warn(\"Variables are collinear.\")\n",
      "/anaconda3/lib/python3.6/site-packages/sklearn/discriminant_analysis.py:388: UserWarning: Variables are collinear.\n",
      "  warnings.warn(\"Variables are collinear.\")\n",
      "/anaconda3/lib/python3.6/site-packages/sklearn/discriminant_analysis.py:388: UserWarning: Variables are collinear.\n",
      "  warnings.warn(\"Variables are collinear.\")\n",
      "/anaconda3/lib/python3.6/site-packages/sklearn/discriminant_analysis.py:388: UserWarning: Variables are collinear.\n",
      "  warnings.warn(\"Variables are collinear.\")\n",
      "/anaconda3/lib/python3.6/site-packages/sklearn/discriminant_analysis.py:388: UserWarning: Variables are collinear.\n",
      "  warnings.warn(\"Variables are collinear.\")\n",
      "/anaconda3/lib/python3.6/site-packages/sklearn/discriminant_analysis.py:388: UserWarning: Variables are collinear.\n",
      "  warnings.warn(\"Variables are collinear.\")\n"
     ]
    },
    {
     "name": "stdout",
     "output_type": "stream",
     "text": [
      "Accuracy: 0.8282159793913285 \n",
      "Precision: 0.8284737538813436 \n",
      "Recall: 0.999624373825678 \n",
      "f1: 0.9060372238170613\n"
     ]
    },
    {
     "name": "stderr",
     "output_type": "stream",
     "text": [
      "/anaconda3/lib/python3.6/site-packages/sklearn/discriminant_analysis.py:388: UserWarning: Variables are collinear.\n",
      "  warnings.warn(\"Variables are collinear.\")\n"
     ]
    }
   ],
   "source": [
    "# LDA\n",
    "lda = LinearDiscriminantAnalysis()\n",
    "scores = cross_val_score(lda, Xup, np.ravel(Yup_categorize), cv=10)\n",
    "print(\"LDA\\nAccuracy: %0.2f (+/- %0.2f)\" % (scores.mean(), scores.std() * 2))\n",
    "scores = cross_validate(lda, Xup, np.ravel(Yup_categorize), cv=10, scoring=(\"accuracy\", \"precision\", \"recall\", \"f1\"))\n",
    "print(\"Accuracy:\", scores[\"test_accuracy\"].mean(), \"\\nPrecision:\", scores[\"test_precision\"].mean(), \"\\nRecall:\", scores[\"test_recall\"].mean(), \"\\nf1:\", scores[\"test_f1\"].mean())"
   ]
  },
  {
   "cell_type": "code",
   "execution_count": 67,
   "metadata": {},
   "outputs": [
    {
     "name": "stderr",
     "output_type": "stream",
     "text": [
      "/anaconda3/lib/python3.6/site-packages/sklearn/discriminant_analysis.py:682: UserWarning: Variables are collinear\n",
      "  warnings.warn(\"Variables are collinear\")\n",
      "/anaconda3/lib/python3.6/site-packages/sklearn/discriminant_analysis.py:682: UserWarning: Variables are collinear\n",
      "  warnings.warn(\"Variables are collinear\")\n",
      "/anaconda3/lib/python3.6/site-packages/sklearn/discriminant_analysis.py:682: UserWarning: Variables are collinear\n",
      "  warnings.warn(\"Variables are collinear\")\n",
      "/anaconda3/lib/python3.6/site-packages/sklearn/discriminant_analysis.py:682: UserWarning: Variables are collinear\n",
      "  warnings.warn(\"Variables are collinear\")\n",
      "/anaconda3/lib/python3.6/site-packages/sklearn/discriminant_analysis.py:682: UserWarning: Variables are collinear\n",
      "  warnings.warn(\"Variables are collinear\")\n",
      "/anaconda3/lib/python3.6/site-packages/sklearn/discriminant_analysis.py:682: UserWarning: Variables are collinear\n",
      "  warnings.warn(\"Variables are collinear\")\n",
      "/anaconda3/lib/python3.6/site-packages/sklearn/discriminant_analysis.py:682: UserWarning: Variables are collinear\n",
      "  warnings.warn(\"Variables are collinear\")\n",
      "/anaconda3/lib/python3.6/site-packages/sklearn/discriminant_analysis.py:682: UserWarning: Variables are collinear\n",
      "  warnings.warn(\"Variables are collinear\")\n",
      "/anaconda3/lib/python3.6/site-packages/sklearn/discriminant_analysis.py:682: UserWarning: Variables are collinear\n",
      "  warnings.warn(\"Variables are collinear\")\n",
      "/anaconda3/lib/python3.6/site-packages/sklearn/discriminant_analysis.py:682: UserWarning: Variables are collinear\n",
      "  warnings.warn(\"Variables are collinear\")\n",
      "/anaconda3/lib/python3.6/site-packages/sklearn/discriminant_analysis.py:682: UserWarning: Variables are collinear\n",
      "  warnings.warn(\"Variables are collinear\")\n",
      "/anaconda3/lib/python3.6/site-packages/sklearn/discriminant_analysis.py:682: UserWarning: Variables are collinear\n",
      "  warnings.warn(\"Variables are collinear\")\n"
     ]
    },
    {
     "name": "stdout",
     "output_type": "stream",
     "text": [
      "QDA\n",
      "Accuracy: 0.24 (+/- 0.03)\n"
     ]
    },
    {
     "name": "stderr",
     "output_type": "stream",
     "text": [
      "/anaconda3/lib/python3.6/site-packages/sklearn/discriminant_analysis.py:682: UserWarning: Variables are collinear\n",
      "  warnings.warn(\"Variables are collinear\")\n",
      "/anaconda3/lib/python3.6/site-packages/sklearn/discriminant_analysis.py:682: UserWarning: Variables are collinear\n",
      "  warnings.warn(\"Variables are collinear\")\n",
      "/anaconda3/lib/python3.6/site-packages/sklearn/discriminant_analysis.py:682: UserWarning: Variables are collinear\n",
      "  warnings.warn(\"Variables are collinear\")\n",
      "/anaconda3/lib/python3.6/site-packages/sklearn/discriminant_analysis.py:682: UserWarning: Variables are collinear\n",
      "  warnings.warn(\"Variables are collinear\")\n",
      "/anaconda3/lib/python3.6/site-packages/sklearn/discriminant_analysis.py:682: UserWarning: Variables are collinear\n",
      "  warnings.warn(\"Variables are collinear\")\n",
      "/anaconda3/lib/python3.6/site-packages/sklearn/discriminant_analysis.py:682: UserWarning: Variables are collinear\n",
      "  warnings.warn(\"Variables are collinear\")\n",
      "/anaconda3/lib/python3.6/site-packages/sklearn/discriminant_analysis.py:682: UserWarning: Variables are collinear\n",
      "  warnings.warn(\"Variables are collinear\")\n",
      "/anaconda3/lib/python3.6/site-packages/sklearn/discriminant_analysis.py:682: UserWarning: Variables are collinear\n",
      "  warnings.warn(\"Variables are collinear\")\n"
     ]
    },
    {
     "name": "stdout",
     "output_type": "stream",
     "text": [
      "Accuracy: 0.23930797549000857 \n",
      "Precision: 0.8949612149814362 \n",
      "Recall: 0.09314650832337415 \n",
      "f1: 0.16770297461298356\n"
     ]
    }
   ],
   "source": [
    "# QDA\n",
    "qda = QuadraticDiscriminantAnalysis()\n",
    "scores = cross_val_score(qda, Xup, np.ravel(Yup_categorize), cv=10)\n",
    "print(\"QDA\\nAccuracy: %0.2f (+/- %0.2f)\" % (scores.mean(), scores.std() * 2))\n",
    "scores = cross_validate(qda, Xup, np.ravel(Yup_categorize), cv=10, scoring=(\"accuracy\", \"precision\", \"recall\", \"f1\"))\n",
    "print(\"Accuracy:\", scores[\"test_accuracy\"].mean(), \"\\nPrecision:\", scores[\"test_precision\"].mean(), \"\\nRecall:\", scores[\"test_recall\"].mean(), \"\\nf1:\", scores[\"test_f1\"].mean())"
   ]
  },
  {
   "cell_type": "code",
   "execution_count": 68,
   "metadata": {},
   "outputs": [
    {
     "name": "stdout",
     "output_type": "stream",
     "text": [
      "Decision Tree\n",
      "Accuracy: 0.73 (+/- 0.02)\n",
      "Accuracy: 0.734236066697507 \n",
      "Precision: 0.8295688909243346 \n",
      "Recall: 0.8548912958240406 \n",
      "f1: 0.8420001458024011\n"
     ]
    }
   ],
   "source": [
    "# Decision Trees\n",
    "dtree = tree.DecisionTreeClassifier()\n",
    "scores = cross_val_score(dtree, Xup, Yup_categorize, cv=10)\n",
    "print(\"Decision Tree\\nAccuracy: %0.2f (+/- %0.2f)\" % (scores.mean(), scores.std() * 2))\n",
    "scores = cross_validate(dtree, Xup, np.ravel(Yup_categorize), cv=10, scoring=(\"accuracy\", \"precision\", \"recall\", \"f1\"))\n",
    "print(\"Accuracy:\", scores[\"test_accuracy\"].mean(), \"\\nPrecision:\", scores[\"test_precision\"].mean(), \"\\nRecall:\", scores[\"test_recall\"].mean(), \"\\nf1:\", scores[\"test_f1\"].mean())"
   ]
  },
  {
   "cell_type": "code",
   "execution_count": 69,
   "metadata": {},
   "outputs": [
    {
     "name": "stdout",
     "output_type": "stream",
     "text": [
      "Random Forest\n",
      "Accuracy: 0.58 (+/- 0.04)\n",
      "Accuracy: 0.5805923473777772 \n",
      "Precision: 0.8319856656024193 \n",
      "Recall: 0.6186208637990471 \n",
      "f1: 0.7091838642775147\n"
     ]
    }
   ],
   "source": [
    "# Random Forest\n",
    "forest = RandomForestClassifier(min_samples_leaf=10, n_jobs=4, class_weight=\"balanced\")\n",
    "scores = cross_val_score(forest, Xup, np.ravel(Yup_categorize), cv=10)\n",
    "print(\"Random Forest\\nAccuracy: %0.2f (+/- %0.2f)\" % (scores.mean(), scores.std() * 2))\n",
    "scores = cross_validate(forest, Xup, np.ravel(Yup_categorize), cv=10, scoring=(\"accuracy\", \"precision\", \"recall\", \"f1\"))\n",
    "print(\"Accuracy:\", scores[\"test_accuracy\"].mean(), \"\\nPrecision:\", scores[\"test_precision\"].mean(), \"\\nRecall:\", scores[\"test_recall\"].mean(), \"\\nf1:\", scores[\"test_f1\"].mean())"
   ]
  },
  {
   "cell_type": "code",
   "execution_count": 17,
   "metadata": {},
   "outputs": [
    {
     "name": "stdout",
     "output_type": "stream",
     "text": [
      "SVM\n",
      "Accuracy: 0.83 (+/- 0.00)\n",
      "Accuracy: 0.828215871894 \n",
      "Precision: 0.828473824541 \n",
      "Recall: 0.999624373826 \n",
      "f1: 0.906037217758\n"
     ]
    }
   ],
   "source": [
    "# SVM\n",
    "svmModel = svm.SVC()\n",
    "scores = cross_val_score(svmModel, Xup, np.ravel(Yup_categorize), cv=10)\n",
    "print(\"SVM\\nAccuracy: %0.2f (+/- %0.2f)\" % (scores.mean(), scores.std() * 2))\n",
    "scores = cross_validate(svmModel, Xup, np.ravel(Yup_categorize), cv=10, scoring=(\"accuracy\", \"precision\", \"recall\", \"f1\"))\n",
    "print(\"Accuracy:\", scores[\"test_accuracy\"].mean(), \"\\nPrecision:\", scores[\"test_precision\"].mean(), \"\\nRecall:\", scores[\"test_recall\"].mean(), \"\\nf1:\", scores[\"test_f1\"].mean())"
   ]
  },
  {
   "cell_type": "code",
   "execution_count": 18,
   "metadata": {},
   "outputs": [
    {
     "data": {
      "text/plain": [
       "yelp_star          35147.000000\n",
       "mean_star          35146.781144\n",
       "review_count      801880.000000\n",
       "one_star_count    104503.000000\n",
       "prop_one_star       1849.035010\n",
       "keyword_total      37420.000000\n",
       "sick                5405.000000\n",
       "dirty              10613.000000\n",
       "disgusting          4902.000000\n",
       "vomit                674.000000\n",
       "threw up             318.000000\n",
       "food poison         1327.000000\n",
       "diarrhea             299.000000\n",
       "filthy              1593.000000\n",
       "gross               5511.000000\n",
       "throw up             279.000000\n",
       "throwing up          257.000000\n",
       "indigestion           72.000000\n",
       "nausea               254.000000\n",
       "nauseous             219.000000\n",
       "upset stomach        146.000000\n",
       "the runs              99.000000\n",
       " bug                 694.000000\n",
       " rat                 230.000000\n",
       "mice                 829.000000\n",
       "mouse                252.000000\n",
       "expired              552.000000\n",
       "listeria               3.000000\n",
       "contaminate          151.000000\n",
       "bacteria             180.000000\n",
       "salmonella            80.000000\n",
       "e coli                 5.000000\n",
       "infest               300.000000\n",
       "retch               1592.000000\n",
       " gag                 120.000000\n",
       "stench               340.000000\n",
       "e-coli                 8.000000\n",
       "tainted              116.000000\n",
       "dtype: float64"
      ]
     },
     "execution_count": 18,
     "metadata": {},
     "output_type": "execute_result"
    }
   ],
   "source": [
    "X.sum()"
   ]
  },
  {
   "cell_type": "code",
   "execution_count": 34,
   "metadata": {},
   "outputs": [
    {
     "data": {
      "text/plain": [
       "<matplotlib.collections.PathCollection at 0x7f8199023400>"
      ]
     },
     "execution_count": 34,
     "metadata": {},
     "output_type": "execute_result"
    },
    {
     "data": {
      "image/png": "[encoded data removed]",
      "text/plain": [
       "<matplotlib.figure.Figure at 0x7f81990533c8>"
      ]
     },
     "metadata": {},
     "output_type": "display_data"
    }
   ],
   "source": [
    "plt.scatter(X.dirty, Y_categorize, alpha=0.1)"
   ]
  },
  {
   "cell_type": "code",
   "execution_count": null,
   "metadata": {
    "collapsed": true
   },
   "outputs": [],
   "source": []
  },
  {
   "cell_type": "code",
   "execution_count": null,
   "metadata": {
    "collapsed": true
   },
   "outputs": [],
   "source": []
  },
  {
   "cell_type": "code",
   "execution_count": null,
   "metadata": {
    "collapsed": true
   },
   "outputs": [],
   "source": [
    "# Classification subset"
   ]
  },
  {
   "cell_type": "code",
   "execution_count": 14,
   "metadata": {
    "collapsed": true
   },
   "outputs": [],
   "source": [
    "# Lasso selected variables after normalizing\n",
    "X_subset = X[[\"yelp_star\", \"review_count\", \"one_star_count\", \"food poison\", \"throw up\", \"nauseous\", \"retch\", \" gag \"]]\n"
   ]
  },
  {
   "cell_type": "code",
   "execution_count": 46,
   "metadata": {},
   "outputs": [
    {
     "name": "stdout",
     "output_type": "stream",
     "text": [
      "10\n",
      "20\n"
     ]
    }
   ],
   "source": [
    "# K Nearest Neighbor\n",
    "\n",
    "Klist = []\n",
    "for K in range(1,21):\n",
    "    knn = KNeighborsClassifier(n_neighbors=K)\n",
    "    Kscores = cross_val_score(knn, X_subset, np.ravel(Y_categorize), cv=10)\n",
    "    Klist.append(Kscores.mean())\n",
    "    if (K%10 == 0): \n",
    "        print(K)"
   ]
  },
  {
   "cell_type": "code",
   "execution_count": 47,
   "metadata": {},
   "outputs": [
    {
     "data": {
      "text/plain": [
       "<matplotlib.collections.PathCollection at 0x7f822933c710>"
      ]
     },
     "execution_count": 47,
     "metadata": {},
     "output_type": "execute_result"
    },
    {
     "data": {
      "image/png": "[encoded data removed]",
      "text/plain": [
       "<matplotlib.figure.Figure at 0x7f8229366e80>"
      ]
     },
     "metadata": {},
     "output_type": "display_data"
    }
   ],
   "source": [
    "plt.scatter(range(1,21), Klist, alpha = 0.5)"
   ]
  },
  {
   "cell_type": "code",
   "execution_count": 76,
   "metadata": {},
   "outputs": [
    {
     "name": "stdout",
     "output_type": "stream",
     "text": [
      "KNN K=7\n",
      "Accuracy: 0.81 (+/- 0.02)\n",
      "Accuracy: 0.812346106122 \n",
      "Precision: 0.828750381112 \n",
      "Recall: 0.974960712168 \n",
      "f1: 0.89588667951\n"
     ]
    }
   ],
   "source": [
    "# KNN K = 7\n",
    "knn = KNeighborsClassifier(n_neighbors=7)\n",
    "scores = cross_val_score(knn, X_subset, np.ravel(Y_categorize), cv=10)\n",
    "print(\"KNN K=7\\nAccuracy: %0.2f (+/- %0.2f)\" % (scores.mean(), scores.std() * 2))\n",
    "scores = cross_validate(knn, X_subset, np.ravel(Y_categorize), cv=10, scoring=(\"accuracy\", \"precision\", \"recall\", \"f1\"))\n",
    "print(\"Accuracy:\", scores[\"test_accuracy\"].mean(), \"\\nPrecision:\", scores[\"test_precision\"].mean(), \"\\nRecall:\", scores[\"test_recall\"].mean(), \"\\nf1:\", scores[\"test_f1\"].mean())"
   ]
  },
  {
   "cell_type": "code",
   "execution_count": 49,
   "metadata": {},
   "outputs": [
    {
     "name": "stdout",
     "output_type": "stream",
     "text": [
      "Logistic Regression\n",
      "Accuracy: 0.83 (+/- 0.00)\n",
      "Accuracy: 0.828215871894 \n",
      "Precision: 0.828473787589 \n",
      "Recall: 0.999624373826 \n",
      "f1: 0.90603714727\n"
     ]
    }
   ],
   "source": [
    "# logistic regression\n",
    "logreg = LogisticRegression()\n",
    "scores = cross_val_score(logreg, X_subset, np.ravel(Y_categorize), cv=10)\n",
    "print(\"Logistic Regression\\nAccuracy: %0.2f (+/- %0.2f)\" % (scores.mean(), scores.std() * 2))\n",
    "scores = cross_validate(logreg, Xup, np.ravel(Yup_categorize), cv=10, scoring=(\"accuracy\", \"precision\", \"recall\", \"f1\"))\n",
    "print(\"Accuracy:\", scores[\"test_accuracy\"].mean(), \"\\nPrecision:\", scores[\"test_precision\"].mean(), \"\\nRecall:\", scores[\"test_recall\"].mean(), \"\\nf1:\", scores[\"test_f1\"].mean())"
   ]
  },
  {
   "cell_type": "code",
   "execution_count": 50,
   "metadata": {},
   "outputs": [
    {
     "name": "stdout",
     "output_type": "stream",
     "text": [
      "LDA\n",
      "Accuracy: 0.83 (+/- 0.00)\n"
     ]
    },
    {
     "name": "stderr",
     "output_type": "stream",
     "text": [
      "/usr/lib/python3/dist-packages/sklearn/discriminant_analysis.py:388: UserWarning: Variables are collinear.\n",
      "  warnings.warn(\"Variables are collinear.\")\n",
      "/usr/lib/python3/dist-packages/sklearn/discriminant_analysis.py:388: UserWarning: Variables are collinear.\n",
      "  warnings.warn(\"Variables are collinear.\")\n",
      "/usr/lib/python3/dist-packages/sklearn/discriminant_analysis.py:388: UserWarning: Variables are collinear.\n",
      "  warnings.warn(\"Variables are collinear.\")\n",
      "/usr/lib/python3/dist-packages/sklearn/discriminant_analysis.py:388: UserWarning: Variables are collinear.\n",
      "  warnings.warn(\"Variables are collinear.\")\n",
      "/usr/lib/python3/dist-packages/sklearn/discriminant_analysis.py:388: UserWarning: Variables are collinear.\n",
      "  warnings.warn(\"Variables are collinear.\")\n"
     ]
    },
    {
     "name": "stdout",
     "output_type": "stream",
     "text": [
      "Accuracy: 0.828215979391 \n",
      "Precision: 0.828473753881 \n",
      "Recall: 0.999624373826 \n",
      "f1: 0.906037223817\n"
     ]
    },
    {
     "name": "stderr",
     "output_type": "stream",
     "text": [
      "/usr/lib/python3/dist-packages/sklearn/discriminant_analysis.py:388: UserWarning: Variables are collinear.\n",
      "  warnings.warn(\"Variables are collinear.\")\n",
      "/usr/lib/python3/dist-packages/sklearn/discriminant_analysis.py:388: UserWarning: Variables are collinear.\n",
      "  warnings.warn(\"Variables are collinear.\")\n",
      "/usr/lib/python3/dist-packages/sklearn/discriminant_analysis.py:388: UserWarning: Variables are collinear.\n",
      "  warnings.warn(\"Variables are collinear.\")\n",
      "/usr/lib/python3/dist-packages/sklearn/discriminant_analysis.py:388: UserWarning: Variables are collinear.\n",
      "  warnings.warn(\"Variables are collinear.\")\n",
      "/usr/lib/python3/dist-packages/sklearn/discriminant_analysis.py:388: UserWarning: Variables are collinear.\n",
      "  warnings.warn(\"Variables are collinear.\")\n"
     ]
    }
   ],
   "source": [
    "# LDA\n",
    "lda = LinearDiscriminantAnalysis()\n",
    "scores = cross_val_score(lda, X_subset, np.ravel(Y_categorize), cv=10)\n",
    "print(\"LDA\\nAccuracy: %0.2f (+/- %0.2f)\" % (scores.mean(), scores.std() * 2))\n",
    "scores = cross_validate(lda, Xup, np.ravel(Yup_categorize), cv=10, scoring=(\"accuracy\", \"precision\", \"recall\", \"f1\"))\n",
    "print(\"Accuracy:\", scores[\"test_accuracy\"].mean(), \"\\nPrecision:\", scores[\"test_precision\"].mean(), \"\\nRecall:\", scores[\"test_recall\"].mean(), \"\\nf1:\", scores[\"test_f1\"].mean())"
   ]
  },
  {
   "cell_type": "code",
   "execution_count": 51,
   "metadata": {},
   "outputs": [
    {
     "name": "stdout",
     "output_type": "stream",
     "text": [
      "QDA\n",
      "Accuracy: 0.28 (+/- 0.03)\n"
     ]
    },
    {
     "name": "stderr",
     "output_type": "stream",
     "text": [
      "/usr/lib/python3/dist-packages/sklearn/discriminant_analysis.py:682: UserWarning: Variables are collinear\n",
      "  warnings.warn(\"Variables are collinear\")\n",
      "/usr/lib/python3/dist-packages/sklearn/discriminant_analysis.py:682: UserWarning: Variables are collinear\n",
      "  warnings.warn(\"Variables are collinear\")\n",
      "/usr/lib/python3/dist-packages/sklearn/discriminant_analysis.py:682: UserWarning: Variables are collinear\n",
      "  warnings.warn(\"Variables are collinear\")\n",
      "/usr/lib/python3/dist-packages/sklearn/discriminant_analysis.py:682: UserWarning: Variables are collinear\n",
      "  warnings.warn(\"Variables are collinear\")\n",
      "/usr/lib/python3/dist-packages/sklearn/discriminant_analysis.py:682: UserWarning: Variables are collinear\n",
      "  warnings.warn(\"Variables are collinear\")\n",
      "/usr/lib/python3/dist-packages/sklearn/discriminant_analysis.py:682: UserWarning: Variables are collinear\n",
      "  warnings.warn(\"Variables are collinear\")\n",
      "/usr/lib/python3/dist-packages/sklearn/discriminant_analysis.py:682: UserWarning: Variables are collinear\n",
      "  warnings.warn(\"Variables are collinear\")\n",
      "/usr/lib/python3/dist-packages/sklearn/discriminant_analysis.py:682: UserWarning: Variables are collinear\n",
      "  warnings.warn(\"Variables are collinear\")\n",
      "/usr/lib/python3/dist-packages/sklearn/discriminant_analysis.py:682: UserWarning: Variables are collinear\n",
      "  warnings.warn(\"Variables are collinear\")\n",
      "/usr/lib/python3/dist-packages/sklearn/discriminant_analysis.py:682: UserWarning: Variables are collinear\n",
      "  warnings.warn(\"Variables are collinear\")\n"
     ]
    },
    {
     "name": "stdout",
     "output_type": "stream",
     "text": [
      "Accuracy: 0.264198124001 \n",
      "Precision: 0.882307899897 \n",
      "Recall: 0.129324562972 \n",
      "f1: 0.224197266911\n"
     ]
    }
   ],
   "source": [
    "# QDA\n",
    "qda = QuadraticDiscriminantAnalysis()\n",
    "scores = cross_val_score(qda, X_subset, np.ravel(Y_categorize), cv=10)\n",
    "print(\"QDA\\nAccuracy: %0.2f (+/- %0.2f)\" % (scores.mean(), scores.std() * 2))\n",
    "scores = cross_validate(qda, Xup, np.ravel(Yup_categorize), cv=10, scoring=(\"accuracy\", \"precision\", \"recall\", \"f1\"))\n",
    "print(\"Accuracy:\", scores[\"test_accuracy\"].mean(), \"\\nPrecision:\", scores[\"test_precision\"].mean(), \"\\nRecall:\", scores[\"test_recall\"].mean(), \"\\nf1:\", scores[\"test_f1\"].mean())"
   ]
  },
  {
   "cell_type": "code",
   "execution_count": 52,
   "metadata": {},
   "outputs": [
    {
     "name": "stdout",
     "output_type": "stream",
     "text": [
      "Decision Tree\n",
      "Accuracy: 0.75 (+/- 0.02)\n",
      "Accuracy: 0.731953046591 \n",
      "Precision: 0.828548494314 \n",
      "Recall: 0.853012694439 \n",
      "f1: 0.840558030976\n"
     ]
    }
   ],
   "source": [
    "# Decision Trees\n",
    "dtree = tree.DecisionTreeClassifier()\n",
    "scores = cross_val_score(dtree, X_subset, Y_categorize, cv=10)\n",
    "print(\"Decision Tree\\nAccuracy: %0.2f (+/- %0.2f)\" % (scores.mean(), scores.std() * 2))\n",
    "scores = cross_validate(dtree, Xup, np.ravel(Yup_categorize), cv=10, scoring=(\"accuracy\", \"precision\", \"recall\", \"f1\"))\n",
    "print(\"Accuracy:\", scores[\"test_accuracy\"].mean(), \"\\nPrecision:\", scores[\"test_precision\"].mean(), \"\\nRecall:\", scores[\"test_recall\"].mean(), \"\\nf1:\", scores[\"test_f1\"].mean())"
   ]
  },
  {
   "cell_type": "code",
   "execution_count": 53,
   "metadata": {},
   "outputs": [
    {
     "name": "stdout",
     "output_type": "stream",
     "text": [
      "Random Forest\n",
      "Accuracy: 0.53 (+/- 0.06)\n",
      "Accuracy: 0.594398507243 \n",
      "Precision: 0.83532577067 \n",
      "Recall: 0.635908293889 \n",
      "f1: 0.721800121893\n"
     ]
    }
   ],
   "source": [
    "# Random Forest\n",
    "forest = RandomForestClassifier(min_samples_leaf=10, n_jobs=4, class_weight=\"balanced\")\n",
    "scores = cross_val_score(forest, X_subset, np.ravel(Y_categorize), cv=10)\n",
    "print(\"Random Forest\\nAccuracy: %0.2f (+/- %0.2f)\" % (scores.mean(), scores.std() * 2))\n",
    "scores = cross_validate(forest, Xup, np.ravel(Yup_categorize), cv=10, scoring=(\"accuracy\", \"precision\", \"recall\", \"f1\"))\n",
    "print(\"Accuracy:\", scores[\"test_accuracy\"].mean(), \"\\nPrecision:\", scores[\"test_precision\"].mean(), \"\\nRecall:\", scores[\"test_recall\"].mean(), \"\\nf1:\", scores[\"test_f1\"].mean())"
   ]
  },
  {
   "cell_type": "code",
   "execution_count": 54,
   "metadata": {},
   "outputs": [
    {
     "name": "stdout",
     "output_type": "stream",
     "text": [
      "SVM\n",
      "Accuracy: 0.83 (+/- 0.00)\n"
     ]
    },
    {
     "ename": "KeyboardInterrupt",
     "evalue": "",
     "output_type": "error",
     "traceback": [
      "\u001b[0;31m---------------------------------------------------------------------------\u001b[0m",
      "\u001b[0;31mKeyboardInterrupt\u001b[0m                         Traceback (most recent call last)",
      "\u001b[0;32m<ipython-input-54-9adf3254faa0>\u001b[0m in \u001b[0;36m<module>\u001b[0;34m()\u001b[0m\n\u001b[1;32m      3\u001b[0m \u001b[0mscores\u001b[0m \u001b[0;34m=\u001b[0m \u001b[0mcross_val_score\u001b[0m\u001b[0;34m(\u001b[0m\u001b[0msvmModel\u001b[0m\u001b[0;34m,\u001b[0m \u001b[0mX_subset\u001b[0m\u001b[0;34m,\u001b[0m \u001b[0mnp\u001b[0m\u001b[0;34m.\u001b[0m\u001b[0mravel\u001b[0m\u001b[0;34m(\u001b[0m\u001b[0mY_categorize\u001b[0m\u001b[0;34m)\u001b[0m\u001b[0;34m,\u001b[0m \u001b[0mcv\u001b[0m\u001b[0;34m=\u001b[0m\u001b[0;36m10\u001b[0m\u001b[0;34m)\u001b[0m\u001b[0;34m\u001b[0m\u001b[0m\n\u001b[1;32m      4\u001b[0m \u001b[0mprint\u001b[0m\u001b[0;34m(\u001b[0m\u001b[0;34m\"SVM\\nAccuracy: %0.2f (+/- %0.2f)\"\u001b[0m \u001b[0;34m%\u001b[0m \u001b[0;34m(\u001b[0m\u001b[0mscores\u001b[0m\u001b[0;34m.\u001b[0m\u001b[0mmean\u001b[0m\u001b[0;34m(\u001b[0m\u001b[0;34m)\u001b[0m\u001b[0;34m,\u001b[0m \u001b[0mscores\u001b[0m\u001b[0;34m.\u001b[0m\u001b[0mstd\u001b[0m\u001b[0;34m(\u001b[0m\u001b[0;34m)\u001b[0m \u001b[0;34m*\u001b[0m \u001b[0;36m2\u001b[0m\u001b[0;34m)\u001b[0m\u001b[0;34m)\u001b[0m\u001b[0;34m\u001b[0m\u001b[0m\n\u001b[0;32m----> 5\u001b[0;31m \u001b[0mscores\u001b[0m \u001b[0;34m=\u001b[0m \u001b[0mcross_validate\u001b[0m\u001b[0;34m(\u001b[0m\u001b[0msvmModel\u001b[0m\u001b[0;34m,\u001b[0m \u001b[0mXup\u001b[0m\u001b[0;34m,\u001b[0m \u001b[0mnp\u001b[0m\u001b[0;34m.\u001b[0m\u001b[0mravel\u001b[0m\u001b[0;34m(\u001b[0m\u001b[0mYup_categorize\u001b[0m\u001b[0;34m)\u001b[0m\u001b[0;34m,\u001b[0m \u001b[0mcv\u001b[0m\u001b[0;34m=\u001b[0m\u001b[0;36m10\u001b[0m\u001b[0;34m,\u001b[0m \u001b[0mscoring\u001b[0m\u001b[0;34m=\u001b[0m\u001b[0;34m(\u001b[0m\u001b[0;34m\"accuracy\"\u001b[0m\u001b[0;34m,\u001b[0m \u001b[0;34m\"precision\"\u001b[0m\u001b[0;34m,\u001b[0m \u001b[0;34m\"recall\"\u001b[0m\u001b[0;34m,\u001b[0m \u001b[0;34m\"f1\"\u001b[0m\u001b[0;34m)\u001b[0m\u001b[0;34m)\u001b[0m\u001b[0;34m\u001b[0m\u001b[0m\n\u001b[0m\u001b[1;32m      6\u001b[0m \u001b[0mprint\u001b[0m\u001b[0;34m(\u001b[0m\u001b[0;34m\"Accuracy:\"\u001b[0m\u001b[0;34m,\u001b[0m \u001b[0mscores\u001b[0m\u001b[0;34m[\u001b[0m\u001b[0;34m\"test_accuracy\"\u001b[0m\u001b[0;34m]\u001b[0m\u001b[0;34m.\u001b[0m\u001b[0mmean\u001b[0m\u001b[0;34m(\u001b[0m\u001b[0;34m)\u001b[0m\u001b[0;34m,\u001b[0m \u001b[0;34m\"\\nPrecision:\"\u001b[0m\u001b[0;34m,\u001b[0m \u001b[0mscores\u001b[0m\u001b[0;34m[\u001b[0m\u001b[0;34m\"test_precision\"\u001b[0m\u001b[0;34m]\u001b[0m\u001b[0;34m.\u001b[0m\u001b[0mmean\u001b[0m\u001b[0;34m(\u001b[0m\u001b[0;34m)\u001b[0m\u001b[0;34m,\u001b[0m \u001b[0;34m\"\\nRecall:\"\u001b[0m\u001b[0;34m,\u001b[0m \u001b[0mscores\u001b[0m\u001b[0;34m[\u001b[0m\u001b[0;34m\"test_recall\"\u001b[0m\u001b[0;34m]\u001b[0m\u001b[0;34m.\u001b[0m\u001b[0mmean\u001b[0m\u001b[0;34m(\u001b[0m\u001b[0;34m)\u001b[0m\u001b[0;34m,\u001b[0m \u001b[0;34m\"\\nf1:\"\u001b[0m\u001b[0;34m,\u001b[0m \u001b[0mscores\u001b[0m\u001b[0;34m[\u001b[0m\u001b[0;34m\"test_f1\"\u001b[0m\u001b[0;34m]\u001b[0m\u001b[0;34m.\u001b[0m\u001b[0mmean\u001b[0m\u001b[0;34m(\u001b[0m\u001b[0;34m)\u001b[0m\u001b[0;34m)\u001b[0m\u001b[0;34m\u001b[0m\u001b[0m\n",
      "\u001b[0;32m/usr/lib/python3/dist-packages/sklearn/model_selection/_validation.py\u001b[0m in \u001b[0;36mcross_validate\u001b[0;34m(estimator, X, y, groups, scoring, cv, n_jobs, verbose, fit_params, pre_dispatch, return_train_score)\u001b[0m\n\u001b[1;32m    204\u001b[0m             \u001b[0mfit_params\u001b[0m\u001b[0;34m,\u001b[0m \u001b[0mreturn_train_score\u001b[0m\u001b[0;34m=\u001b[0m\u001b[0mreturn_train_score\u001b[0m\u001b[0;34m,\u001b[0m\u001b[0;34m\u001b[0m\u001b[0m\n\u001b[1;32m    205\u001b[0m             return_times=True)\n\u001b[0;32m--> 206\u001b[0;31m         for train, test in cv.split(X, y, groups))\n\u001b[0m\u001b[1;32m    207\u001b[0m \u001b[0;34m\u001b[0m\u001b[0m\n\u001b[1;32m    208\u001b[0m     \u001b[0;32mif\u001b[0m \u001b[0mreturn_train_score\u001b[0m\u001b[0;34m:\u001b[0m\u001b[0;34m\u001b[0m\u001b[0m\n",
      "\u001b[0;32m/usr/lib/python3/dist-packages/joblib/parallel.py\u001b[0m in \u001b[0;36m__call__\u001b[0;34m(self, iterable)\u001b[0m\n\u001b[1;32m    777\u001b[0m             \u001b[0;31m# was dispatched. In particular this covers the edge\u001b[0m\u001b[0;34m\u001b[0m\u001b[0;34m\u001b[0m\u001b[0m\n\u001b[1;32m    778\u001b[0m             \u001b[0;31m# case of Parallel used with an exhausted iterator.\u001b[0m\u001b[0;34m\u001b[0m\u001b[0;34m\u001b[0m\u001b[0m\n\u001b[0;32m--> 779\u001b[0;31m             \u001b[0;32mwhile\u001b[0m \u001b[0mself\u001b[0m\u001b[0;34m.\u001b[0m\u001b[0mdispatch_one_batch\u001b[0m\u001b[0;34m(\u001b[0m\u001b[0miterator\u001b[0m\u001b[0;34m)\u001b[0m\u001b[0;34m:\u001b[0m\u001b[0;34m\u001b[0m\u001b[0m\n\u001b[0m\u001b[1;32m    780\u001b[0m                 \u001b[0mself\u001b[0m\u001b[0;34m.\u001b[0m\u001b[0m_iterating\u001b[0m \u001b[0;34m=\u001b[0m \u001b[0;32mTrue\u001b[0m\u001b[0;34m\u001b[0m\u001b[0m\n\u001b[1;32m    781\u001b[0m             \u001b[0;32melse\u001b[0m\u001b[0;34m:\u001b[0m\u001b[0;34m\u001b[0m\u001b[0m\n",
      "\u001b[0;32m/usr/lib/python3/dist-packages/joblib/parallel.py\u001b[0m in \u001b[0;36mdispatch_one_batch\u001b[0;34m(self, iterator)\u001b[0m\n\u001b[1;32m    623\u001b[0m                 \u001b[0;32mreturn\u001b[0m \u001b[0;32mFalse\u001b[0m\u001b[0;34m\u001b[0m\u001b[0m\n\u001b[1;32m    624\u001b[0m             \u001b[0;32melse\u001b[0m\u001b[0;34m:\u001b[0m\u001b[0;34m\u001b[0m\u001b[0m\n\u001b[0;32m--> 625\u001b[0;31m                 \u001b[0mself\u001b[0m\u001b[0;34m.\u001b[0m\u001b[0m_dispatch\u001b[0m\u001b[0;34m(\u001b[0m\u001b[0mtasks\u001b[0m\u001b[0;34m)\u001b[0m\u001b[0;34m\u001b[0m\u001b[0m\n\u001b[0m\u001b[1;32m    626\u001b[0m                 \u001b[0;32mreturn\u001b[0m \u001b[0;32mTrue\u001b[0m\u001b[0;34m\u001b[0m\u001b[0m\n\u001b[1;32m    627\u001b[0m \u001b[0;34m\u001b[0m\u001b[0m\n",
      "\u001b[0;32m/usr/lib/python3/dist-packages/joblib/parallel.py\u001b[0m in \u001b[0;36m_dispatch\u001b[0;34m(self, batch)\u001b[0m\n\u001b[1;32m    586\u001b[0m         \u001b[0mdispatch_timestamp\u001b[0m \u001b[0;34m=\u001b[0m \u001b[0mtime\u001b[0m\u001b[0;34m.\u001b[0m\u001b[0mtime\u001b[0m\u001b[0;34m(\u001b[0m\u001b[0;34m)\u001b[0m\u001b[0;34m\u001b[0m\u001b[0m\n\u001b[1;32m    587\u001b[0m         \u001b[0mcb\u001b[0m \u001b[0;34m=\u001b[0m \u001b[0mBatchCompletionCallBack\u001b[0m\u001b[0;34m(\u001b[0m\u001b[0mdispatch_timestamp\u001b[0m\u001b[0;34m,\u001b[0m \u001b[0mlen\u001b[0m\u001b[0;34m(\u001b[0m\u001b[0mbatch\u001b[0m\u001b[0;34m)\u001b[0m\u001b[0;34m,\u001b[0m \u001b[0mself\u001b[0m\u001b[0;34m)\u001b[0m\u001b[0;34m\u001b[0m\u001b[0m\n\u001b[0;32m--> 588\u001b[0;31m         \u001b[0mjob\u001b[0m \u001b[0;34m=\u001b[0m \u001b[0mself\u001b[0m\u001b[0;34m.\u001b[0m\u001b[0m_backend\u001b[0m\u001b[0;34m.\u001b[0m\u001b[0mapply_async\u001b[0m\u001b[0;34m(\u001b[0m\u001b[0mbatch\u001b[0m\u001b[0;34m,\u001b[0m \u001b[0mcallback\u001b[0m\u001b[0;34m=\u001b[0m\u001b[0mcb\u001b[0m\u001b[0;34m)\u001b[0m\u001b[0;34m\u001b[0m\u001b[0m\n\u001b[0m\u001b[1;32m    589\u001b[0m         \u001b[0mself\u001b[0m\u001b[0;34m.\u001b[0m\u001b[0m_jobs\u001b[0m\u001b[0;34m.\u001b[0m\u001b[0mappend\u001b[0m\u001b[0;34m(\u001b[0m\u001b[0mjob\u001b[0m\u001b[0;34m)\u001b[0m\u001b[0;34m\u001b[0m\u001b[0m\n\u001b[1;32m    590\u001b[0m \u001b[0;34m\u001b[0m\u001b[0m\n",
      "\u001b[0;32m/usr/lib/python3/dist-packages/joblib/_parallel_backends.py\u001b[0m in \u001b[0;36mapply_async\u001b[0;34m(self, func, callback)\u001b[0m\n\u001b[1;32m    109\u001b[0m     \u001b[0;32mdef\u001b[0m \u001b[0mapply_async\u001b[0m\u001b[0;34m(\u001b[0m\u001b[0mself\u001b[0m\u001b[0;34m,\u001b[0m \u001b[0mfunc\u001b[0m\u001b[0;34m,\u001b[0m \u001b[0mcallback\u001b[0m\u001b[0;34m=\u001b[0m\u001b[0;32mNone\u001b[0m\u001b[0;34m)\u001b[0m\u001b[0;34m:\u001b[0m\u001b[0;34m\u001b[0m\u001b[0m\n\u001b[1;32m    110\u001b[0m         \u001b[0;34m\"\"\"Schedule a func to be run\"\"\"\u001b[0m\u001b[0;34m\u001b[0m\u001b[0m\n\u001b[0;32m--> 111\u001b[0;31m         \u001b[0mresult\u001b[0m \u001b[0;34m=\u001b[0m \u001b[0mImmediateResult\u001b[0m\u001b[0;34m(\u001b[0m\u001b[0mfunc\u001b[0m\u001b[0;34m)\u001b[0m\u001b[0;34m\u001b[0m\u001b[0m\n\u001b[0m\u001b[1;32m    112\u001b[0m         \u001b[0;32mif\u001b[0m \u001b[0mcallback\u001b[0m\u001b[0;34m:\u001b[0m\u001b[0;34m\u001b[0m\u001b[0m\n\u001b[1;32m    113\u001b[0m             \u001b[0mcallback\u001b[0m\u001b[0;34m(\u001b[0m\u001b[0mresult\u001b[0m\u001b[0;34m)\u001b[0m\u001b[0;34m\u001b[0m\u001b[0m\n",
      "\u001b[0;32m/usr/lib/python3/dist-packages/joblib/_parallel_backends.py\u001b[0m in \u001b[0;36m__init__\u001b[0;34m(self, batch)\u001b[0m\n\u001b[1;32m    330\u001b[0m         \u001b[0;31m# Don't delay the application, to avoid keeping the input\u001b[0m\u001b[0;34m\u001b[0m\u001b[0;34m\u001b[0m\u001b[0m\n\u001b[1;32m    331\u001b[0m         \u001b[0;31m# arguments in memory\u001b[0m\u001b[0;34m\u001b[0m\u001b[0;34m\u001b[0m\u001b[0m\n\u001b[0;32m--> 332\u001b[0;31m         \u001b[0mself\u001b[0m\u001b[0;34m.\u001b[0m\u001b[0mresults\u001b[0m \u001b[0;34m=\u001b[0m \u001b[0mbatch\u001b[0m\u001b[0;34m(\u001b[0m\u001b[0;34m)\u001b[0m\u001b[0;34m\u001b[0m\u001b[0m\n\u001b[0m\u001b[1;32m    333\u001b[0m \u001b[0;34m\u001b[0m\u001b[0m\n\u001b[1;32m    334\u001b[0m     \u001b[0;32mdef\u001b[0m \u001b[0mget\u001b[0m\u001b[0;34m(\u001b[0m\u001b[0mself\u001b[0m\u001b[0;34m)\u001b[0m\u001b[0;34m:\u001b[0m\u001b[0;34m\u001b[0m\u001b[0m\n",
      "\u001b[0;32m/usr/lib/python3/dist-packages/joblib/parallel.py\u001b[0m in \u001b[0;36m__call__\u001b[0;34m(self)\u001b[0m\n\u001b[1;32m    129\u001b[0m \u001b[0;34m\u001b[0m\u001b[0m\n\u001b[1;32m    130\u001b[0m     \u001b[0;32mdef\u001b[0m \u001b[0m__call__\u001b[0m\u001b[0;34m(\u001b[0m\u001b[0mself\u001b[0m\u001b[0;34m)\u001b[0m\u001b[0;34m:\u001b[0m\u001b[0;34m\u001b[0m\u001b[0m\n\u001b[0;32m--> 131\u001b[0;31m         \u001b[0;32mreturn\u001b[0m \u001b[0;34m[\u001b[0m\u001b[0mfunc\u001b[0m\u001b[0;34m(\u001b[0m\u001b[0;34m*\u001b[0m\u001b[0margs\u001b[0m\u001b[0;34m,\u001b[0m \u001b[0;34m**\u001b[0m\u001b[0mkwargs\u001b[0m\u001b[0;34m)\u001b[0m \u001b[0;32mfor\u001b[0m \u001b[0mfunc\u001b[0m\u001b[0;34m,\u001b[0m \u001b[0margs\u001b[0m\u001b[0;34m,\u001b[0m \u001b[0mkwargs\u001b[0m \u001b[0;32min\u001b[0m \u001b[0mself\u001b[0m\u001b[0;34m.\u001b[0m\u001b[0mitems\u001b[0m\u001b[0;34m]\u001b[0m\u001b[0;34m\u001b[0m\u001b[0m\n\u001b[0m\u001b[1;32m    132\u001b[0m \u001b[0;34m\u001b[0m\u001b[0m\n\u001b[1;32m    133\u001b[0m     \u001b[0;32mdef\u001b[0m \u001b[0m__len__\u001b[0m\u001b[0;34m(\u001b[0m\u001b[0mself\u001b[0m\u001b[0;34m)\u001b[0m\u001b[0;34m:\u001b[0m\u001b[0;34m\u001b[0m\u001b[0m\n",
      "\u001b[0;32m/usr/lib/python3/dist-packages/joblib/parallel.py\u001b[0m in \u001b[0;36m<listcomp>\u001b[0;34m(.0)\u001b[0m\n\u001b[1;32m    129\u001b[0m \u001b[0;34m\u001b[0m\u001b[0m\n\u001b[1;32m    130\u001b[0m     \u001b[0;32mdef\u001b[0m \u001b[0m__call__\u001b[0m\u001b[0;34m(\u001b[0m\u001b[0mself\u001b[0m\u001b[0;34m)\u001b[0m\u001b[0;34m:\u001b[0m\u001b[0;34m\u001b[0m\u001b[0m\n\u001b[0;32m--> 131\u001b[0;31m         \u001b[0;32mreturn\u001b[0m \u001b[0;34m[\u001b[0m\u001b[0mfunc\u001b[0m\u001b[0;34m(\u001b[0m\u001b[0;34m*\u001b[0m\u001b[0margs\u001b[0m\u001b[0;34m,\u001b[0m \u001b[0;34m**\u001b[0m\u001b[0mkwargs\u001b[0m\u001b[0;34m)\u001b[0m \u001b[0;32mfor\u001b[0m \u001b[0mfunc\u001b[0m\u001b[0;34m,\u001b[0m \u001b[0margs\u001b[0m\u001b[0;34m,\u001b[0m \u001b[0mkwargs\u001b[0m \u001b[0;32min\u001b[0m \u001b[0mself\u001b[0m\u001b[0;34m.\u001b[0m\u001b[0mitems\u001b[0m\u001b[0;34m]\u001b[0m\u001b[0;34m\u001b[0m\u001b[0m\n\u001b[0m\u001b[1;32m    132\u001b[0m \u001b[0;34m\u001b[0m\u001b[0m\n\u001b[1;32m    133\u001b[0m     \u001b[0;32mdef\u001b[0m \u001b[0m__len__\u001b[0m\u001b[0;34m(\u001b[0m\u001b[0mself\u001b[0m\u001b[0;34m)\u001b[0m\u001b[0;34m:\u001b[0m\u001b[0;34m\u001b[0m\u001b[0m\n",
      "\u001b[0;32m/usr/lib/python3/dist-packages/sklearn/model_selection/_validation.py\u001b[0m in \u001b[0;36m_fit_and_score\u001b[0;34m(estimator, X, y, scorer, train, test, verbose, parameters, fit_params, return_train_score, return_parameters, return_n_test_samples, return_times, error_score)\u001b[0m\n\u001b[1;32m    456\u001b[0m             \u001b[0mestimator\u001b[0m\u001b[0;34m.\u001b[0m\u001b[0mfit\u001b[0m\u001b[0;34m(\u001b[0m\u001b[0mX_train\u001b[0m\u001b[0;34m,\u001b[0m \u001b[0;34m**\u001b[0m\u001b[0mfit_params\u001b[0m\u001b[0;34m)\u001b[0m\u001b[0;34m\u001b[0m\u001b[0m\n\u001b[1;32m    457\u001b[0m         \u001b[0;32melse\u001b[0m\u001b[0;34m:\u001b[0m\u001b[0;34m\u001b[0m\u001b[0m\n\u001b[0;32m--> 458\u001b[0;31m             \u001b[0mestimator\u001b[0m\u001b[0;34m.\u001b[0m\u001b[0mfit\u001b[0m\u001b[0;34m(\u001b[0m\u001b[0mX_train\u001b[0m\u001b[0;34m,\u001b[0m \u001b[0my_train\u001b[0m\u001b[0;34m,\u001b[0m \u001b[0;34m**\u001b[0m\u001b[0mfit_params\u001b[0m\u001b[0;34m)\u001b[0m\u001b[0;34m\u001b[0m\u001b[0m\n\u001b[0m\u001b[1;32m    459\u001b[0m \u001b[0;34m\u001b[0m\u001b[0m\n\u001b[1;32m    460\u001b[0m     \u001b[0;32mexcept\u001b[0m \u001b[0mException\u001b[0m \u001b[0;32mas\u001b[0m \u001b[0me\u001b[0m\u001b[0;34m:\u001b[0m\u001b[0;34m\u001b[0m\u001b[0m\n",
      "\u001b[0;32m/usr/lib/python3/dist-packages/sklearn/svm/base.py\u001b[0m in \u001b[0;36mfit\u001b[0;34m(self, X, y, sample_weight)\u001b[0m\n\u001b[1;32m    185\u001b[0m \u001b[0;34m\u001b[0m\u001b[0m\n\u001b[1;32m    186\u001b[0m         \u001b[0mseed\u001b[0m \u001b[0;34m=\u001b[0m \u001b[0mrnd\u001b[0m\u001b[0;34m.\u001b[0m\u001b[0mrandint\u001b[0m\u001b[0;34m(\u001b[0m\u001b[0mnp\u001b[0m\u001b[0;34m.\u001b[0m\u001b[0miinfo\u001b[0m\u001b[0;34m(\u001b[0m\u001b[0;34m'i'\u001b[0m\u001b[0;34m)\u001b[0m\u001b[0;34m.\u001b[0m\u001b[0mmax\u001b[0m\u001b[0;34m)\u001b[0m\u001b[0;34m\u001b[0m\u001b[0m\n\u001b[0;32m--> 187\u001b[0;31m         \u001b[0mfit\u001b[0m\u001b[0;34m(\u001b[0m\u001b[0mX\u001b[0m\u001b[0;34m,\u001b[0m \u001b[0my\u001b[0m\u001b[0;34m,\u001b[0m \u001b[0msample_weight\u001b[0m\u001b[0;34m,\u001b[0m \u001b[0msolver_type\u001b[0m\u001b[0;34m,\u001b[0m \u001b[0mkernel\u001b[0m\u001b[0;34m,\u001b[0m \u001b[0mrandom_seed\u001b[0m\u001b[0;34m=\u001b[0m\u001b[0mseed\u001b[0m\u001b[0;34m)\u001b[0m\u001b[0;34m\u001b[0m\u001b[0m\n\u001b[0m\u001b[1;32m    188\u001b[0m         \u001b[0;31m# see comment on the other call to np.iinfo in this file\u001b[0m\u001b[0;34m\u001b[0m\u001b[0;34m\u001b[0m\u001b[0m\n\u001b[1;32m    189\u001b[0m \u001b[0;34m\u001b[0m\u001b[0m\n",
      "\u001b[0;32m/usr/lib/python3/dist-packages/sklearn/svm/base.py\u001b[0m in \u001b[0;36m_dense_fit\u001b[0;34m(self, X, y, sample_weight, solver_type, kernel, random_seed)\u001b[0m\n\u001b[1;32m    252\u001b[0m                 \u001b[0mcache_size\u001b[0m\u001b[0;34m=\u001b[0m\u001b[0mself\u001b[0m\u001b[0;34m.\u001b[0m\u001b[0mcache_size\u001b[0m\u001b[0;34m,\u001b[0m \u001b[0mcoef0\u001b[0m\u001b[0;34m=\u001b[0m\u001b[0mself\u001b[0m\u001b[0;34m.\u001b[0m\u001b[0mcoef0\u001b[0m\u001b[0;34m,\u001b[0m\u001b[0;34m\u001b[0m\u001b[0m\n\u001b[1;32m    253\u001b[0m                 \u001b[0mgamma\u001b[0m\u001b[0;34m=\u001b[0m\u001b[0mself\u001b[0m\u001b[0;34m.\u001b[0m\u001b[0m_gamma\u001b[0m\u001b[0;34m,\u001b[0m \u001b[0mepsilon\u001b[0m\u001b[0;34m=\u001b[0m\u001b[0mself\u001b[0m\u001b[0;34m.\u001b[0m\u001b[0mepsilon\u001b[0m\u001b[0;34m,\u001b[0m\u001b[0;34m\u001b[0m\u001b[0m\n\u001b[0;32m--> 254\u001b[0;31m                 max_iter=self.max_iter, random_seed=random_seed)\n\u001b[0m\u001b[1;32m    255\u001b[0m \u001b[0;34m\u001b[0m\u001b[0m\n\u001b[1;32m    256\u001b[0m         \u001b[0mself\u001b[0m\u001b[0;34m.\u001b[0m\u001b[0m_warn_from_fit_status\u001b[0m\u001b[0;34m(\u001b[0m\u001b[0;34m)\u001b[0m\u001b[0;34m\u001b[0m\u001b[0m\n",
      "\u001b[0;31mKeyboardInterrupt\u001b[0m: "
     ]
    }
   ],
   "source": [
    "# SVM\n",
    "svmModel = svm.SVC()\n",
    "scores = cross_val_score(svmModel, X_subset, np.ravel(Y_categorize), cv=10)\n",
    "print(\"SVM\\nAccuracy: %0.2f (+/- %0.2f)\" % (scores.mean(), scores.std() * 2))\n",
    "scores = cross_validate(svmModel, X_subset, np.ravel(Y_categorize), cv=10, scoring=(\"accuracy\", \"precision\", \"recall\", \"f1\"))\n",
    "print(\"Accuracy:\", scores[\"test_accuracy\"].mean(), \"\\nPrecision:\", scores[\"test_precision\"].mean(), \"\\nRecall:\", scores[\"test_recall\"].mean(), \"\\nf1:\", scores[\"test_f1\"].mean())"
   ]
  },
  {
   "cell_type": "code",
   "execution_count": null,
   "metadata": {
    "collapsed": true
   },
   "outputs": [],
   "source": []
  },
  {
   "cell_type": "code",
   "execution_count": null,
   "metadata": {
    "collapsed": true
   },
   "outputs": [],
   "source": []
  },
  {
   "cell_type": "code",
   "execution_count": 15,
   "metadata": {},
   "outputs": [
    {
     "data": {
      "text/html": [
       "<div>\n",
       "<style scoped>\n",
       "    .dataframe tbody tr th:only-of-type {\n",
       "        vertical-align: middle;\n",
       "    }\n",
       "\n",
       "    .dataframe tbody tr th {\n",
       "        vertical-align: top;\n",
       "    }\n",
       "\n",
       "    .dataframe thead th {\n",
       "        text-align: right;\n",
       "    }\n",
       "</style>\n",
       "<table border=\"1\" class=\"dataframe\">\n",
       "  <thead>\n",
       "    <tr style=\"text-align: right;\">\n",
       "      <th></th>\n",
       "      <th>yelp_star</th>\n",
       "      <th>one_star_count</th>\n",
       "      <th>food poison</th>\n",
       "      <th>throw up</th>\n",
       "      <th>nauseous</th>\n",
       "      <th>retch</th>\n",
       "      <th>gag</th>\n",
       "    </tr>\n",
       "  </thead>\n",
       "  <tbody>\n",
       "    <tr>\n",
       "      <th>count</th>\n",
       "      <td>9.640000e+03</td>\n",
       "      <td>9.640000e+03</td>\n",
       "      <td>9.640000e+03</td>\n",
       "      <td>9.640000e+03</td>\n",
       "      <td>9.640000e+03</td>\n",
       "      <td>9.640000e+03</td>\n",
       "      <td>9.640000e+03</td>\n",
       "    </tr>\n",
       "    <tr>\n",
       "      <th>mean</th>\n",
       "      <td>-6.623908e-17</td>\n",
       "      <td>-2.121689e-17</td>\n",
       "      <td>-4.256047e-17</td>\n",
       "      <td>9.356335e-16</td>\n",
       "      <td>-7.995852e-16</td>\n",
       "      <td>9.082465e-16</td>\n",
       "      <td>1.828793e-15</td>\n",
       "    </tr>\n",
       "    <tr>\n",
       "      <th>std</th>\n",
       "      <td>1.000000e+00</td>\n",
       "      <td>1.000000e+00</td>\n",
       "      <td>1.000000e+00</td>\n",
       "      <td>1.000000e+00</td>\n",
       "      <td>1.000000e+00</td>\n",
       "      <td>1.000000e+00</td>\n",
       "      <td>1.000000e+00</td>\n",
       "    </tr>\n",
       "    <tr>\n",
       "      <th>min</th>\n",
       "      <td>-2.899826e+00</td>\n",
       "      <td>-3.644585e-01</td>\n",
       "      <td>-1.799843e-01</td>\n",
       "      <td>-1.381692e-01</td>\n",
       "      <td>-1.305188e-01</td>\n",
       "      <td>-1.853376e-01</td>\n",
       "      <td>-7.514537e-02</td>\n",
       "    </tr>\n",
       "    <tr>\n",
       "      <th>25%</th>\n",
       "      <td>-7.079319e-01</td>\n",
       "      <td>-3.308386e-01</td>\n",
       "      <td>-1.799843e-01</td>\n",
       "      <td>-1.381692e-01</td>\n",
       "      <td>-1.305188e-01</td>\n",
       "      <td>-1.853376e-01</td>\n",
       "      <td>-7.514537e-02</td>\n",
       "    </tr>\n",
       "    <tr>\n",
       "      <th>50%</th>\n",
       "      <td>-1.599583e-01</td>\n",
       "      <td>-2.635988e-01</td>\n",
       "      <td>-1.799843e-01</td>\n",
       "      <td>-1.381692e-01</td>\n",
       "      <td>-1.305188e-01</td>\n",
       "      <td>-1.853376e-01</td>\n",
       "      <td>-7.514537e-02</td>\n",
       "    </tr>\n",
       "    <tr>\n",
       "      <th>75%</th>\n",
       "      <td>9.359889e-01</td>\n",
       "      <td>-2.825955e-02</td>\n",
       "      <td>-1.799843e-01</td>\n",
       "      <td>-1.381692e-01</td>\n",
       "      <td>-1.305188e-01</td>\n",
       "      <td>-1.853376e-01</td>\n",
       "      <td>-7.514537e-02</td>\n",
       "    </tr>\n",
       "    <tr>\n",
       "      <th>max</th>\n",
       "      <td>1.483962e+00</td>\n",
       "      <td>2.811159e+01</td>\n",
       "      <td>5.211990e+01</td>\n",
       "      <td>2.850595e+01</td>\n",
       "      <td>2.285033e+01</td>\n",
       "      <td>4.582776e+01</td>\n",
       "      <td>7.236500e+01</td>\n",
       "    </tr>\n",
       "  </tbody>\n",
       "</table>\n",
       "</div>"
      ],
      "text/plain": [
       "          yelp_star  one_star_count   food poison      throw up      nauseous  \\\n",
       "count  9.640000e+03    9.640000e+03  9.640000e+03  9.640000e+03  9.640000e+03   \n",
       "mean  -6.623908e-17   -2.121689e-17 -4.256047e-17  9.356335e-16 -7.995852e-16   \n",
       "std    1.000000e+00    1.000000e+00  1.000000e+00  1.000000e+00  1.000000e+00   \n",
       "min   -2.899826e+00   -3.644585e-01 -1.799843e-01 -1.381692e-01 -1.305188e-01   \n",
       "25%   -7.079319e-01   -3.308386e-01 -1.799843e-01 -1.381692e-01 -1.305188e-01   \n",
       "50%   -1.599583e-01   -2.635988e-01 -1.799843e-01 -1.381692e-01 -1.305188e-01   \n",
       "75%    9.359889e-01   -2.825955e-02 -1.799843e-01 -1.381692e-01 -1.305188e-01   \n",
       "max    1.483962e+00    2.811159e+01  5.211990e+01  2.850595e+01  2.285033e+01   \n",
       "\n",
       "              retch          gag   \n",
       "count  9.640000e+03  9.640000e+03  \n",
       "mean   9.082465e-16  1.828793e-15  \n",
       "std    1.000000e+00  1.000000e+00  \n",
       "min   -1.853376e-01 -7.514537e-02  \n",
       "25%   -1.853376e-01 -7.514537e-02  \n",
       "50%   -1.853376e-01 -7.514537e-02  \n",
       "75%   -1.853376e-01 -7.514537e-02  \n",
       "max    4.582776e+01  7.236500e+01  "
      ]
     },
     "execution_count": 15,
     "metadata": {},
     "output_type": "execute_result"
    }
   ],
   "source": [
    "# Multicolinearity fix classification\n",
    "X_mc = X_subset.drop([\"review_count\"], axis=1)\n",
    "X_mc.describe()"
   ]
  },
  {
   "cell_type": "code",
   "execution_count": 60,
   "metadata": {},
   "outputs": [
    {
     "name": "stdout",
     "output_type": "stream",
     "text": [
      "10\n",
      "20\n"
     ]
    }
   ],
   "source": [
    "# K Nearest Neighbor\n",
    "\n",
    "Klist = []\n",
    "for K in range(1,21):\n",
    "    knn = KNeighborsClassifier(n_neighbors=K)\n",
    "    Kscores = cross_val_score(knn, X_mc, np.ravel(Y_categorize), cv=10)\n",
    "    Klist.append(Kscores.mean())\n",
    "    if (K%10 == 0): \n",
    "        print(K)\n"
   ]
  },
  {
   "cell_type": "code",
   "execution_count": 61,
   "metadata": {},
   "outputs": [
    {
     "data": {
      "text/plain": [
       "<matplotlib.collections.PathCollection at 0x7f8229176c50>"
      ]
     },
     "execution_count": 61,
     "metadata": {},
     "output_type": "execute_result"
    },
    {
     "data": {
      "image/png": "[encoded data removed]",
      "text/plain": [
       "<matplotlib.figure.Figure at 0x7f8229302f60>"
      ]
     },
     "metadata": {},
     "output_type": "display_data"
    }
   ],
   "source": [
    "plt.scatter(range(1,21), Klist, alpha = 0.5)"
   ]
  },
  {
   "cell_type": "code",
   "execution_count": 68,
   "metadata": {},
   "outputs": [
    {
     "name": "stdout",
     "output_type": "stream",
     "text": [
      "KNN K=7\n",
      "Accuracy: 0.81 (+/- 0.01)\n",
      "Accuracy: 0.81483508926 \n",
      "Precision: 0.827939316524 \n",
      "Recall: 0.980218851258 \n",
      "f1: 0.897638667799\n"
     ]
    }
   ],
   "source": [
    "# KNN K = 5\n",
    "knn = KNeighborsClassifier(n_neighbors=5)\n",
    "scores = cross_val_score(knn, X_mc, np.ravel(Y_categorize), cv=10)\n",
    "print(\"KNN K=7\\nAccuracy: %0.2f (+/- %0.2f)\" % (scores.mean(), scores.std() * 2))\n",
    "scores = cross_validate(knn, X_mc, np.ravel(Y_categorize), cv=10, scoring=(\"accuracy\", \"precision\", \"recall\", \"f1\"))\n",
    "print(\"Accuracy:\", scores[\"test_accuracy\"].mean(), \"\\nPrecision:\", scores[\"test_precision\"].mean(), \"\\nRecall:\", scores[\"test_recall\"].mean(), \"\\nf1:\", scores[\"test_f1\"].mean())"
   ]
  },
  {
   "cell_type": "code",
   "execution_count": 69,
   "metadata": {},
   "outputs": [
    {
     "name": "stdout",
     "output_type": "stream",
     "text": [
      "Logistic Regression\n",
      "Accuracy: 0.83 (+/- 0.00)\n",
      "Accuracy: 0.828527182934 \n",
      "Precision: 0.828527182934 \n",
      "Recall: 1.0 \n",
      "f1: 0.906223490207\n"
     ]
    }
   ],
   "source": [
    "# logistic regression\n",
    "logreg = LogisticRegression()\n",
    "scores = cross_val_score(logreg, X_mc, np.ravel(Y_categorize), cv=10)\n",
    "print(\"Logistic Regression\\nAccuracy: %0.2f (+/- %0.2f)\" % (scores.mean(), scores.std() * 2))\n",
    "scores = cross_validate(logreg, X_mc, np.ravel(Y_categorize), cv=10, scoring=(\"accuracy\", \"precision\", \"recall\", \"f1\"))\n",
    "print(\"Accuracy:\", scores[\"test_accuracy\"].mean(), \"\\nPrecision:\", scores[\"test_precision\"].mean(), \"\\nRecall:\", scores[\"test_recall\"].mean(), \"\\nf1:\", scores[\"test_f1\"].mean())"
   ]
  },
  {
   "cell_type": "code",
   "execution_count": 70,
   "metadata": {},
   "outputs": [
    {
     "name": "stdout",
     "output_type": "stream",
     "text": [
      "LDA\n",
      "Accuracy: 0.83 (+/- 0.00)\n",
      "Accuracy: 0.828527182934 \n",
      "Precision: 0.828527182934 \n",
      "Recall: 1.0 \n",
      "f1: 0.906223490207\n"
     ]
    }
   ],
   "source": [
    "# LDA\n",
    "lda = LinearDiscriminantAnalysis()\n",
    "scores = cross_val_score(lda, X_mc, np.ravel(Y_categorize), cv=10)\n",
    "print(\"LDA\\nAccuracy: %0.2f (+/- %0.2f)\" % (scores.mean(), scores.std() * 2))\n",
    "scores = cross_validate(lda, X_mc, np.ravel(Y_categorize), cv=10, scoring=(\"accuracy\", \"precision\", \"recall\", \"f1\"))\n",
    "print(\"Accuracy:\", scores[\"test_accuracy\"].mean(), \"\\nPrecision:\", scores[\"test_precision\"].mean(), \"\\nRecall:\", scores[\"test_recall\"].mean(), \"\\nf1:\", scores[\"test_f1\"].mean())"
   ]
  },
  {
   "cell_type": "code",
   "execution_count": 71,
   "metadata": {},
   "outputs": [
    {
     "name": "stdout",
     "output_type": "stream",
     "text": [
      "QDA\n",
      "Accuracy: 0.28 (+/- 0.03)\n",
      "Accuracy: 0.268150468614 \n",
      "Precision: 0.881265787588 \n",
      "Recall: 0.134588661893 \n",
      "f1: 0.233005122566\n"
     ]
    }
   ],
   "source": [
    "# QDA\n",
    "qda = QuadraticDiscriminantAnalysis()\n",
    "scores = cross_val_score(qda, X_subset, np.ravel(Y_categorize), cv=10)\n",
    "print(\"QDA\\nAccuracy: %0.2f (+/- %0.2f)\" % (scores.mean(), scores.std() * 2))\n",
    "scores = cross_validate(qda, X_mc, np.ravel(Y_categorize), cv=10, scoring=(\"accuracy\", \"precision\", \"recall\", \"f1\"))\n",
    "print(\"Accuracy:\", scores[\"test_accuracy\"].mean(), \"\\nPrecision:\", scores[\"test_precision\"].mean(), \"\\nRecall:\", scores[\"test_recall\"].mean(), \"\\nf1:\", scores[\"test_f1\"].mean())"
   ]
  },
  {
   "cell_type": "code",
   "execution_count": 73,
   "metadata": {},
   "outputs": [
    {
     "name": "stdout",
     "output_type": "stream",
     "text": [
      "Decision Tree\n",
      "Accuracy: 0.81 (+/- 0.01)\n",
      "Accuracy: 0.806640923799 \n",
      "Precision: 0.827819549529 \n",
      "Recall: 0.967948343951 \n",
      "f1: 0.892414178271\n"
     ]
    }
   ],
   "source": [
    "# Decision Trees\n",
    "dtree = tree.DecisionTreeClassifier()\n",
    "scores = cross_val_score(dtree, X_mc, Y_categorize, cv=10)\n",
    "print(\"Decision Tree\\nAccuracy: %0.2f (+/- %0.2f)\" % (scores.mean(), scores.std() * 2))\n",
    "scores = cross_validate(dtree, X_mc, np.ravel(Y_categorize), cv=10, scoring=(\"accuracy\", \"precision\", \"recall\", \"f1\"))\n",
    "print(\"Accuracy:\", scores[\"test_accuracy\"].mean(), \"\\nPrecision:\", scores[\"test_precision\"].mean(), \"\\nRecall:\", scores[\"test_recall\"].mean(), \"\\nf1:\", scores[\"test_f1\"].mean())"
   ]
  },
  {
   "cell_type": "code",
   "execution_count": 12,
   "metadata": {},
   "outputs": [
    {
     "ename": "NameError",
     "evalue": "name 'X_mc' is not defined",
     "output_type": "error",
     "traceback": [
      "\u001b[0;31m---------------------------------------------------------------------------\u001b[0m",
      "\u001b[0;31mNameError\u001b[0m                                 Traceback (most recent call last)",
      "\u001b[0;32m<ipython-input-12-982cf451e7c5>\u001b[0m in \u001b[0;36m<module>\u001b[0;34m()\u001b[0m\n\u001b[1;32m      1\u001b[0m \u001b[0;31m# Random Forest\u001b[0m\u001b[0;34m\u001b[0m\u001b[0;34m\u001b[0m\u001b[0m\n\u001b[1;32m      2\u001b[0m \u001b[0mforest\u001b[0m \u001b[0;34m=\u001b[0m \u001b[0mRandomForestClassifier\u001b[0m\u001b[0;34m(\u001b[0m\u001b[0mmin_samples_leaf\u001b[0m\u001b[0;34m=\u001b[0m\u001b[0;36m10\u001b[0m\u001b[0;34m,\u001b[0m \u001b[0mn_jobs\u001b[0m\u001b[0;34m=\u001b[0m\u001b[0;36m4\u001b[0m\u001b[0;34m,\u001b[0m \u001b[0mclass_weight\u001b[0m\u001b[0;34m=\u001b[0m\u001b[0;34m\"balanced\"\u001b[0m\u001b[0;34m)\u001b[0m\u001b[0;34m\u001b[0m\u001b[0m\n\u001b[0;32m----> 3\u001b[0;31m \u001b[0mscores\u001b[0m \u001b[0;34m=\u001b[0m \u001b[0mcross_val_score\u001b[0m\u001b[0;34m(\u001b[0m\u001b[0mforest\u001b[0m\u001b[0;34m,\u001b[0m \u001b[0mX_mc\u001b[0m\u001b[0;34m,\u001b[0m \u001b[0mnp\u001b[0m\u001b[0;34m.\u001b[0m\u001b[0mravel\u001b[0m\u001b[0;34m(\u001b[0m\u001b[0mY_categorize\u001b[0m\u001b[0;34m)\u001b[0m\u001b[0;34m,\u001b[0m \u001b[0mcv\u001b[0m\u001b[0;34m=\u001b[0m\u001b[0;36m10\u001b[0m\u001b[0;34m)\u001b[0m\u001b[0;34m\u001b[0m\u001b[0m\n\u001b[0m\u001b[1;32m      4\u001b[0m \u001b[0mprint\u001b[0m\u001b[0;34m(\u001b[0m\u001b[0;34m\"Random Forest\\nAccuracy: %0.2f (+/- %0.2f)\"\u001b[0m \u001b[0;34m%\u001b[0m \u001b[0;34m(\u001b[0m\u001b[0mscores\u001b[0m\u001b[0;34m.\u001b[0m\u001b[0mmean\u001b[0m\u001b[0;34m(\u001b[0m\u001b[0;34m)\u001b[0m\u001b[0;34m,\u001b[0m \u001b[0mscores\u001b[0m\u001b[0;34m.\u001b[0m\u001b[0mstd\u001b[0m\u001b[0;34m(\u001b[0m\u001b[0;34m)\u001b[0m \u001b[0;34m*\u001b[0m \u001b[0;36m2\u001b[0m\u001b[0;34m)\u001b[0m\u001b[0;34m)\u001b[0m\u001b[0;34m\u001b[0m\u001b[0m\n\u001b[1;32m      5\u001b[0m \u001b[0mscores\u001b[0m \u001b[0;34m=\u001b[0m \u001b[0mcross_validate\u001b[0m\u001b[0;34m(\u001b[0m\u001b[0mforest\u001b[0m\u001b[0;34m,\u001b[0m \u001b[0mX_mc\u001b[0m\u001b[0;34m,\u001b[0m \u001b[0mnp\u001b[0m\u001b[0;34m.\u001b[0m\u001b[0mravel\u001b[0m\u001b[0;34m(\u001b[0m\u001b[0mY_categorize\u001b[0m\u001b[0;34m)\u001b[0m\u001b[0;34m,\u001b[0m \u001b[0mcv\u001b[0m\u001b[0;34m=\u001b[0m\u001b[0;36m10\u001b[0m\u001b[0;34m,\u001b[0m \u001b[0mscoring\u001b[0m\u001b[0;34m=\u001b[0m\u001b[0;34m(\u001b[0m\u001b[0;34m\"accuracy\"\u001b[0m\u001b[0;34m,\u001b[0m \u001b[0;34m\"precision\"\u001b[0m\u001b[0;34m,\u001b[0m \u001b[0;34m\"recall\"\u001b[0m\u001b[0;34m,\u001b[0m \u001b[0;34m\"f1\"\u001b[0m\u001b[0;34m)\u001b[0m\u001b[0;34m)\u001b[0m\u001b[0;34m\u001b[0m\u001b[0m\n",
      "\u001b[0;31mNameError\u001b[0m: name 'X_mc' is not defined"
     ]
    }
   ],
   "source": [
    "# Random Forest\n",
    "forest = RandomForestClassifier(min_samples_leaf=10, n_jobs=4, class_weight=\"balanced\")\n",
    "scores = cross_val_score(forest, X_mc, np.ravel(Y_categorize), cv=10)\n",
    "print(\"Random Forest\\nAccuracy: %0.2f (+/- %0.2f)\" % (scores.mean(), scores.std() * 2))\n",
    "scores = cross_validate(forest, X_mc, np.ravel(Y_categorize), cv=10, scoring=(\"accuracy\", \"precision\", \"recall\", \"f1\"))\n",
    "print(\"Accuracy:\", scores[\"test_accuracy\"].mean(), \"\\nPrecision:\", scores[\"test_precision\"].mean(), \"\\nRecall:\", scores[\"test_recall\"].mean(), \"\\nf1:\", scores[\"test_f1\"].mean())"
   ]
  },
  {
   "cell_type": "code",
   "execution_count": 75,
   "metadata": {},
   "outputs": [
    {
     "name": "stdout",
     "output_type": "stream",
     "text": [
      "SVM\n",
      "Accuracy: 0.83 (+/- 0.00)\n",
      "Accuracy: 0.828319713831 \n",
      "Precision: 0.828491527695 \n",
      "Recall: 0.999749530271 \n",
      "f1: 0.906099289111\n"
     ]
    }
   ],
   "source": [
    "# SVM\n",
    "svmModel = svm.SVC()\n",
    "scores = cross_val_score(svmModel, X_mc, np.ravel(Y_categorize), cv=10)\n",
    "print(\"SVM\\nAccuracy: %0.2f (+/- %0.2f)\" % (scores.mean(), scores.std() * 2))\n",
    "scores = cross_validate(svmModel, X_mc, np.ravel(Y_categorize), cv=10, scoring=(\"accuracy\", \"precision\", \"recall\", \"f1\"))\n",
    "print(\"Accuracy:\", scores[\"test_accuracy\"].mean(), \"\\nPrecision:\", scores[\"test_precision\"].mean(), \"\\nRecall:\", scores[\"test_recall\"].mean(), \"\\nf1:\", scores[\"test_f1\"].mean())"
   ]
  },
  {
   "cell_type": "code",
   "execution_count": null,
   "metadata": {
    "collapsed": true
   },
   "outputs": [],
   "source": []
  },
  {
   "cell_type": "code",
   "execution_count": null,
   "metadata": {
    "collapsed": true
   },
   "outputs": [],
   "source": []
  },
  {
   "cell_type": "code",
   "execution_count": 78,
   "metadata": {
    "collapsed": true
   },
   "outputs": [],
   "source": [
    "# Random Forest feature importance\n",
    "model = forest.fit(X, np.ravel(Y_categorize))"
   ]
  },
  {
   "cell_type": "code",
   "execution_count": 81,
   "metadata": {},
   "outputs": [
    {
     "data": {
      "text/plain": [
       "array([ 0.0295074 ,  0.18699095,  0.18450372,  0.09628375,  0.13941174,\n",
       "        0.06025604,  0.03088618,  0.06780123,  0.03413455,  0.00692681,\n",
       "        0.00211333,  0.02957305,  0.00153587,  0.01094869,  0.03156839,\n",
       "        0.0031633 ,  0.00579068,  0.0009316 ,  0.00456863,  0.00180336,\n",
       "        0.00145329,  0.00039264,  0.00461013,  0.00230924,  0.01519324,\n",
       "        0.00261735,  0.00937609,  0.        ,  0.00494623,  0.00256138,\n",
       "        0.00043404,  0.        ,  0.00232076,  0.0205739 ,  0.00267048,\n",
       "        0.00137872,  0.        ,  0.00046322])"
      ]
     },
     "execution_count": 81,
     "metadata": {},
     "output_type": "execute_result"
    }
   ],
   "source": [
    "model.feature_importances_"
   ]
  },
  {
   "cell_type": "code",
   "execution_count": 98,
   "metadata": {},
   "outputs": [
    {
     "data": {
      "image/png": "[encoded data removed]",
      "text/plain": [
       "<matplotlib.figure.Figure at 0x7f8228c97be0>"
      ]
     },
     "metadata": {},
     "output_type": "display_data"
    }
   ],
   "source": [
    "plt.figure(figsize=(24,12))\n",
    "plt.yscale('log')\n",
    "plt.bar(list(X.columns.values), model.feature_importances_)\n",
    "plt.show()"
   ]
  },
  {
   "cell_type": "code",
   "execution_count": 104,
   "metadata": {
    "collapsed": true
   },
   "outputs": [],
   "source": [
    "importance = dict(zip(X.columns.values, model.feature_importances_))"
   ]
  },
  {
   "cell_type": "code",
   "execution_count": 119,
   "metadata": {},
   "outputs": [
    {
     "name": "stdout",
     "output_type": "stream",
     "text": [
      "+----------------+-------------------+\n",
      "|    Feature     |     Importance    |\n",
      "+----------------+-------------------+\n",
      "|   mean_star    |   0.186990952267  |\n",
      "|  review_count  |   0.184503720735  |\n",
      "| prop_one_star  |   0.139411739692  |\n",
      "| one_star_count |  0.0962837542973  |\n",
      "|     dirty      |  0.0678012322568  |\n",
      "| keyword_total  |  0.0602560360584  |\n",
      "|   disgusting   |  0.0341345474531  |\n",
      "|     gross      |  0.0315683930934  |\n",
      "|      sick      |  0.0308861827583  |\n",
      "|  food poison   |  0.0295730546742  |\n",
      "|   yelp_star    |  0.0295074025448  |\n",
      "|     retch      |  0.0205738976272  |\n",
      "|      mice      |  0.0151932363507  |\n",
      "|     filthy     |  0.0109486936777  |\n",
      "|    expired     |  0.00937609094754 |\n",
      "|     vomit      |  0.00692681004912 |\n",
      "|  throwing up   |  0.00579068174561 |\n",
      "|  contaminate   |  0.00494622861632 |\n",
      "|      bug       |  0.00461012937213 |\n",
      "|     nausea     |  0.00456863094473 |\n",
      "|    throw up    |  0.0031632996892  |\n",
      "|      gag       |  0.00267048478665 |\n",
      "|     mouse      |  0.00261735102603 |\n",
      "|    bacteria    |  0.00256137677437 |\n",
      "|     infest     |  0.00232076127442 |\n",
      "|      rat       |  0.00230924204054 |\n",
      "|    threw up    |  0.00211332698212 |\n",
      "|    nauseous    |  0.00180336128835 |\n",
      "|    diarrhea    |  0.00153587364086 |\n",
      "| upset stomach  |  0.00145328956283 |\n",
      "|     stench     |  0.0013787178115  |\n",
      "|  indigestion   | 0.000931603653188 |\n",
      "|    tainted     | 0.000463219823662 |\n",
      "|   salmonella   | 0.000434040516044 |\n",
      "|    the runs    | 0.000392635968645 |\n",
      "|    listeria    |        0.0        |\n",
      "|     e coli     |        0.0        |\n",
      "|     e-coli     |        0.0        |\n",
      "+----------------+-------------------+\n"
     ]
    }
   ],
   "source": [
    "sorted(importance, key=importance.get, reverse=True)\n",
    "\n",
    "tabl = PrettyTable()\n",
    "tabl.add_column(\"Feature\", sorted(importance, key=importance.get, reverse=True))\n",
    "tabl.add_column(\"Importance\", sorted(importance.values(), reverse=True))\n",
    "print(tabl)"
   ]
  },
  {
   "cell_type": "code",
   "execution_count": null,
   "metadata": {
    "collapsed": true
   },
   "outputs": [],
   "source": []
  },
  {
   "cell_type": "code",
   "execution_count": null,
   "metadata": {
    "collapsed": true
   },
   "outputs": [],
   "source": []
  },
  {
   "cell_type": "code",
   "execution_count": 17,
   "metadata": {
    "collapsed": true
   },
   "outputs": [],
   "source": [
    "##########################\n",
    "## Tuning Random Forest ##\n",
    "##########################"
   ]
  },
  {
   "cell_type": "code",
   "execution_count": 106,
   "metadata": {},
   "outputs": [
    {
     "name": "stdout",
     "output_type": "stream",
     "text": [
      "10\n",
      "20\n",
      "30\n",
      "40\n",
      "50\n",
      "60\n",
      "70\n",
      "80\n",
      "90\n",
      "100\n",
      "[0.732158576732163, 0.6947035342389902, 0.6646245050931953, 0.6503079645728851, 0.6403532193983039, 0.6169100798961529, 0.6133768627397662, 0.6155591663550598, 0.6051864654727888, 0.5950204823319083, 0.5929466561889073, 0.5847536727469239, 0.5843366905385532, 0.5758304649093848, 0.5727188516552467, 0.5661828303609177, 0.5581971028142312, 0.5577736611962054, 0.5609920181316229, 0.5546736736738748, 0.5431486061166388, 0.5482304107568805, 0.5441875582790765, 0.5314308995537799, 0.5320404081361012, 0.5465700142920551, 0.5400389333867714, 0.5329924154568697, 0.5402467281057368, 0.5256158548021691, 0.5211598987087409, 0.5299770145435954, 0.5125509036554035, 0.5205325414110045, 0.5252063052795186, 0.5118201393199088, 0.5208392294171869, 0.5063306009938957, 0.5136940331937259, 0.5019665446426963, 0.5048776687204031, 0.511820456675552, 0.507870370612229, 0.49118600414060365, 0.4967839155676373, 0.48297817497353723, 0.495842121115371, 0.4971988406014919, 0.505602530776744, 0.495852448848086, 0.4880642908728897, 0.4932526201821802, 0.4952246642420829, 0.5018602231348402, 0.4857876206696554, 0.48993333845924647, 0.49449831040212766, 0.4862985417111919, 0.4829826998867812, 0.475720754739812, 0.4848620743128369, 0.46462750529285135, 0.47779435829851746, 0.4865139684817512, 0.500407729332317, 0.4800674824459241, 0.4622414969729317, 0.4714585906475883, 0.49303621924253954, 0.48309331635620173, 0.466072892918714, 0.4784250511235049, 0.47314018720611817, 0.4858956683778867, 0.47456815163879973, 0.4800786670277132, 0.4681445706879165, 0.47478336899705276, 0.45861358939859354, 0.46981078091166195, 0.4615242823727147, 0.461193823725606, 0.46036975124965895, 0.4677309211044941, 0.45457095749579857, 0.4603621171887786, 0.44832374602270103, 0.46151223290470567, 0.45766631260805635, 0.46212948058894154, 0.4428252778692562, 0.470955843160363, 0.45352833168783924, 0.444801187349916, 0.4586163927997976, 0.46244466330039735, 0.46534621614176397, 0.4454108910562839, 0.46254204448788083, 0.46618675059054604]\n"
     ]
    },
    {
     "data": {
      "image/png": "[encoded data removed]",
      "text/plain": [
       "<matplotlib.figure.Figure at 0x122b08d68>"
      ]
     },
     "metadata": {},
     "output_type": "display_data"
    }
   ],
   "source": [
    "# min_samples_leaf\n",
    "flist = []\n",
    "for f in range(1,101):\n",
    "    forest = RandomForestClassifier(min_samples_leaf=f, n_estimators=15, n_jobs=-1, class_weight=\"balanced\")\n",
    "    fscores = cross_val_score(forest, X, np.ravel(Y_categorize), cv=10)\n",
    "    flist.append(fscores.mean())\n",
    "    if (f%10 == 0): \n",
    "        print(f)\n",
    "plt.scatter(range(1,101), flist, alpha = 0.5)\n",
    "print(flist)"
   ]
  },
  {
   "cell_type": "code",
   "execution_count": 103,
   "metadata": {},
   "outputs": [
    {
     "name": "stdout",
     "output_type": "stream",
     "text": [
      "5\n",
      "10\n",
      "15\n",
      "20\n",
      "25\n",
      "30\n",
      "35\n",
      "40\n",
      "45\n",
      "50\n",
      "55\n",
      "60\n",
      "65\n",
      "70\n",
      "75\n",
      "80\n",
      "85\n",
      "90\n",
      "95\n",
      "100\n",
      "[0.6702331677658915, 0.6208483379594922, 0.703315545677903, 0.6883810054420633, 0.7147279543259704, 0.706120789397772, 0.7289340949332961, 0.7213666400034346, 0.7246853891538133, 0.7298724392173526, 0.7283196519897887, 0.7298730857611041, 0.7353676788938672, 0.7316393661558324, 0.7386877204619867, 0.7316387227376377, 0.7365157530630625, 0.7301869787338677, 0.7378625772595783, 0.7331930184928703, 0.7341272770044147, 0.7370371144689861, 0.7337125533457199, 0.7325753475189409, 0.7346451922607016, 0.7371375140513313, 0.7381706604919953, 0.7366180878115809, 0.7358920540063176, 0.735889361450753, 0.7386896556281599, 0.7387971555825603, 0.7368250185373426, 0.7407680031123403, 0.737446994072761, 0.7377578753482847, 0.7376531725439748, 0.7342327345190669, 0.7360972618805149, 0.7350593815608087, 0.7379657748850303, 0.7355813890639759, 0.7381730285477864, 0.7372393090831652, 0.7387943597719941, 0.7362021803482446, 0.7387959744569674, 0.7368240490565965, 0.7385838780788159, 0.7405560151240336, 0.7377579841846379, 0.7357868134946094, 0.7378651620950598, 0.7401414027574867, 0.7369287538701929, 0.7427379913372515, 0.7378609652536539, 0.7381742141384607, 0.7350621762551047, 0.7359958934871857, 0.7358904373120577, 0.7346474530429183, 0.7359949273552505, 0.7366138905236668, 0.7364091119670225, 0.7403504845360955, 0.7358922703394997, 0.7338161818515034, 0.736413414742479, 0.7382772995787487, 0.7384834778267083, 0.7384845550275375, 0.7398300903783774, 0.7393127090341698, 0.7370320574296952, 0.7391047013308332, 0.740041969976839, 0.7387959742337133, 0.7382782695060028, 0.7382782697292569, 0.7356842601803684, 0.7343315156211199, 0.739624665947744, 0.7379663134854448, 0.7428408658024547, 0.7398336422388104, 0.7405592451637422, 0.7387960808375261, 0.7371328869993559, 0.7360993061062955, 0.7371363295769275, 0.7351659109181928, 0.7352686774400591, 0.7391039488530311, 0.7356831843190637, 0.739728724217589, 0.7374478553869162, 0.7377588425964903, 0.7376537113676435, 0.7388986319192266]\n"
     ]
    },
    {
     "data": {
      "image/png": "[encoded data removed]",
      "text/plain": [
       "<matplotlib.figure.Figure at 0x12266d5f8>"
      ]
     },
     "metadata": {},
     "output_type": "display_data"
    }
   ],
   "source": [
    "# n_estimators\n",
    "flist = []\n",
    "for f in range(1,101):\n",
    "    forest = RandomForestClassifier(min_samples_leaf=1, n_jobs=-1, n_estimators=f, class_weight=\"balanced\")\n",
    "    fscores = cross_val_score(forest, X, np.ravel(Y_categorize), cv=10)\n",
    "    flist.append(fscores.mean())\n",
    "    if (f%5 == 0): \n",
    "        print(f)\n",
    "plt.scatter(range(1,101), flist, alpha = 0.5)\n",
    "print(flist)"
   ]
  },
  {
   "cell_type": "code",
   "execution_count": 108,
   "metadata": {},
   "outputs": [
    {
     "name": "stdout",
     "output_type": "stream",
     "text": [
      "5\n",
      "10\n",
      "15\n",
      "20\n",
      "25\n",
      "30\n",
      "35\n",
      "40\n",
      "45\n",
      "50\n",
      "55\n",
      "60\n",
      "65\n",
      "70\n",
      "75\n",
      "80\n",
      "85\n",
      "90\n",
      "95\n",
      "100\n",
      "[0.7356874888805526, 0.7337091107681483, 0.7310123351439014, 0.7231343212057486, 0.7232330006155785, 0.7135859082395906, 0.7141087752708805, 0.7103742234749454, 0.7152529757589181, 0.7073653867891062, 0.7041500491415669, 0.7063270720170037, 0.7042506619315374, 0.7037334917856685, 0.7007272365864999, 0.6948155577671102, 0.6980283139279791, 0.6908699859008365, 0.6934633482362116, 0.6922165988990139, 0.6866148289720988, 0.6957476598677099, 0.692945215307218, 0.6820499710004142, 0.6796658012892878, 0.6801852223941948, 0.6836083549839536, 0.6785286976012401, 0.6758347251549435, 0.6840261958274307, 0.6765546220410382, 0.6729257447626998, 0.6777991157308627, 0.677697748900312, 0.6667032890390585, 0.6722016490259124, 0.6733434803418885, 0.6669069937436846, 0.6609950925632533, 0.6627576112387343, 0.660478466152642, 0.6723012941211691, 0.6674267377855864, 0.6703318458361969, 0.6638985828033339, 0.6633790459411977, 0.6631785752948534, 0.6616144877282714, 0.6589199690909222, 0.6645220655268966, 0.6574679066152387, 0.6530052776812761, 0.6555949795431191, 0.6577770648159441, 0.6598528288041671, 0.6527996335686498, 0.6521802401896641, 0.6575681933426577, 0.6495803176454269, 0.6424256471895139, 0.6592352633177799, 0.646680157351246, 0.6550786753997403, 0.6463660525103815, 0.6496829733216536, 0.644187193481946, 0.6450191190310042, 0.6394242362685192, 0.6437754824135077, 0.646058507878379, 0.6571514294767555, 0.6353733177332328, 0.6444033825534857, 0.6374423013840926, 0.6372420399268004, 0.6371328186836142, 0.6385905918864698, 0.64294378302081, 0.6364026941942492, 0.6474011383590456, 0.6445073315404694, 0.6383777439235325, 0.6371369084746994, 0.6334049421840081, 0.6416988604599404, 0.634854854946369, 0.6276927645302168, 0.6323656606102082, 0.6351688569787399, 0.6307020347754363, 0.632365551327347, 0.6320527355554122, 0.6386880830265766, 0.634334677791595, 0.6353671834931129, 0.627170217533619, 0.6310118381803689, 0.628938870225966, 0.6331962901694607]\n"
     ]
    },
    {
     "data": {
      "image/png": "[encoded data removed]",
      "text/plain": [
       "<matplotlib.figure.Figure at 0x1218feef0>"
      ]
     },
     "metadata": {},
     "output_type": "display_data"
    }
   ],
   "source": [
    "# min_samples_split\n",
    "flist = []\n",
    "for f in range(2,101):\n",
    "    forest = RandomForestClassifier(min_samples_leaf=1, n_jobs=-1, min_samples_split = f, n_estimators=15, class_weight=\"balanced\")\n",
    "    fscores = cross_val_score(forest, X, np.ravel(Y_categorize), cv=10)\n",
    "    flist.append(fscores.mean())\n",
    "    if (f%5 == 0): \n",
    "        print(f)\n",
    "plt.scatter(range(2,101), flist, alpha = 0.5)\n",
    "print(flist)"
   ]
  },
  {
   "cell_type": "code",
   "execution_count": 119,
   "metadata": {},
   "outputs": [
    {
     "data": {
      "text/plain": [
       "35"
      ]
     },
     "execution_count": 119,
     "metadata": {},
     "output_type": "execute_result"
    }
   ],
   "source": [
    "flist.index(max(flist))"
   ]
  },
  {
   "cell_type": "code",
   "execution_count": null,
   "metadata": {
    "collapsed": true
   },
   "outputs": [],
   "source": []
  },
  {
   "cell_type": "code",
   "execution_count": 105,
   "metadata": {},
   "outputs": [
    {
     "name": "stdout",
     "output_type": "stream",
     "text": [
      "Random Forest\n",
      "Accuracy: 0.74 (+/- 0.03)\n",
      "Accuracy: 0.7335083118267118 \n",
      "Precision: 0.8291167346546864 \n",
      "Recall: 0.8543903563665107 \n",
      "f1: 0.8414962527132916\n"
     ]
    }
   ],
   "source": [
    "# Random Forest\n",
    "forest = RandomForestClassifier(min_samples_leaf=1, n_jobs=-1, n_estimators=15, class_weight=\"balanced\")\n",
    "scores = cross_val_score(forest, X, np.ravel(Y_categorize), cv=10)\n",
    "print(\"Random Forest\\nAccuracy: %0.2f (+/- %0.2f)\" % (scores.mean(), scores.std() * 2))\n",
    "scores = cross_validate(forest, X, np.ravel(Y_categorize), cv=10, scoring=(\"accuracy\", \"precision\", \"recall\", \"f1\"))\n",
    "print(\"Accuracy:\", scores[\"test_accuracy\"].mean(), \"\\nPrecision:\", scores[\"test_precision\"].mean(), \"\\nRecall:\", scores[\"test_recall\"].mean(), \"\\nf1:\", scores[\"test_f1\"].mean())"
   ]
  },
  {
   "cell_type": "code",
   "execution_count": 32,
   "metadata": {},
   "outputs": [
    {
     "data": {
      "text/plain": [
       "49"
      ]
     },
     "execution_count": 32,
     "metadata": {},
     "output_type": "execute_result"
    }
   ],
   "source": []
  },
  {
   "cell_type": "code",
   "execution_count": 118,
   "metadata": {},
   "outputs": [
    {
     "name": "stdout",
     "output_type": "stream",
     "text": [
      "5\n",
      "10\n",
      "15\n",
      "20\n",
      "25\n",
      "30\n",
      "35\n",
      "40\n",
      "45\n",
      "50\n",
      "55\n",
      "60\n",
      "65\n",
      "70\n",
      "75\n",
      "80\n",
      "85\n",
      "90\n",
      "95\n",
      "100\n",
      "105\n",
      "110\n",
      "115\n",
      "120\n",
      "125\n",
      "130\n",
      "135\n",
      "140\n",
      "145\n",
      "150\n",
      "155\n",
      "160\n",
      "165\n",
      "170\n",
      "175\n",
      "180\n",
      "185\n",
      "190\n",
      "195\n",
      "200\n",
      "[0.2952208702626242, 0.3325782146591785, 0.331110214969323, 0.3485546206345376, 0.3683648885083747, 0.41016688642679844, 0.4295593179222397, 0.42830491956613964, 0.41989694157345314, 0.4536271277479143, 0.460791363858816, 0.45746378746624483, 0.46005661231747563, 0.46690847068090413, 0.456638754886222, 0.4551874417627837, 0.45726805449426144, 0.46141700210030717, 0.4596530857427972, 0.4658768350004495, 0.46836753987356544, 0.47023250213391804, 0.46805332441031516, 0.4698162726266034, 0.4663906667167648, 0.4659757294039369, 0.4670104918690984, 0.46950291669147576, 0.4721980753982088, 0.46690621793583365, 0.4723034258625403, 0.47188934830108903, 0.4735474868860008, 0.4729274474097719, 0.4732387555470541, 0.4794602424597114, 0.47759624945685075, 0.47800731241875927, 0.47862993695372386, 0.4767608853487939]\n"
     ]
    },
    {
     "data": {
      "image/png": "[encoded data removed]",
      "text/plain": [
       "<matplotlib.figure.Figure at 0x12251aa58>"
      ]
     },
     "metadata": {},
     "output_type": "display_data"
    }
   ],
   "source": [
    "# Boosting paramter: n_estimators\n",
    "flist = []\n",
    "for f in range(5,201,5):\n",
    "    boostedtrees =  AdaBoostClassifier(DecisionTreeClassifier(max_depth=1, class_weight=\"balanced\"), n_estimators=f)\n",
    "    fscores = cross_val_score(boostedtrees, X, np.ravel(Y_categorize), cv=10)\n",
    "    flist.append(fscores.mean())\n",
    "    if (f%5 == 0): \n",
    "        print(f)\n",
    "plt.scatter(range(5,201,5), flist, alpha = 0.5)\n",
    "print(flist)"
   ]
  },
  {
   "cell_type": "code",
   "execution_count": 121,
   "metadata": {},
   "outputs": [
    {
     "name": "stdout",
     "output_type": "stream",
     "text": [
      "Boosted Decision Trees\n",
      "Accuracy: 0.43 (+/- 0.10)\n",
      "Accuracy: 0.4295593179222397 \n",
      "Precision: 0.8445367610034242 \n",
      "Recall: 0.38161376532695945 \n",
      "f1: 0.521765530917283\n"
     ]
    }
   ],
   "source": [
    "# Boosted Decision Trees - adaboost\n",
    "boostedtrees =  AdaBoostClassifier(DecisionTreeClassifier(max_depth=1, class_weight=\"balanced\"), n_estimators=35)\n",
    "scores = cross_val_score(boostedtrees, X, np.ravel(Y_categorize), cv=10)\n",
    "print(\"Boosted Decision Trees\\nAccuracy: %0.2f (+/- %0.2f)\" % (scores.mean(), scores.std() * 2))\n",
    "scores = cross_validate(boostedtrees, X, np.ravel(Y_categorize), cv=10, scoring=(\"accuracy\", \"precision\", \"recall\", \"f1\"))\n",
    "print(\"Accuracy:\", scores[\"test_accuracy\"].mean(), \"\\nPrecision:\", scores[\"test_precision\"].mean(), \"\\nRecall:\", scores[\"test_recall\"].mean(), \"\\nf1:\", scores[\"test_f1\"].mean())"
   ]
  },
  {
   "cell_type": "code",
   "execution_count": null,
   "metadata": {
    "collapsed": true
   },
   "outputs": [],
   "source": []
  },
  {
   "cell_type": "code",
   "execution_count": null,
   "metadata": {
    "collapsed": true
   },
   "outputs": [],
   "source": []
  },
  {
   "cell_type": "code",
   "execution_count": null,
   "metadata": {
    "collapsed": true
   },
   "outputs": [],
   "source": []
  },
  {
   "cell_type": "code",
   "execution_count": null,
   "metadata": {
    "collapsed": true
   },
   "outputs": [],
   "source": []
  }
 ],
 "metadata": {
  "kernelspec": {
   "display_name": "Python 3",
   "language": "python",
   "name": "python3"
  },
  "language_info": {
   "codemirror_mode": {
    "name": "ipython",
    "version": 3
   },
   "file_extension": ".py",
   "mimetype": "text/x-python",
   "name": "python",
   "nbconvert_exporter": "python",
   "pygments_lexer": "ipython3",
   "version": "3.6.3"
  }
 },
 "nbformat": 4,
 "nbformat_minor": 2
}
