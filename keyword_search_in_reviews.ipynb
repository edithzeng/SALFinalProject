{
 "cells": [
  {
   "cell_type": "code",
   "execution_count": 1,
   "metadata": {
    "collapsed": true
   },
   "outputs": [],
   "source": [
    "import copy\n",
    "import pandas as pd\n",
    "import numpy as np\n",
    "\n",
    "f = pd.read_csv('review_final.csv')\n",
    "reviews = f.copy()"
   ]
  },
  {
   "cell_type": "code",
   "execution_count": 2,
   "metadata": {
    "scrolled": true
   },
   "outputs": [
    {
     "data": {
      "text/plain": [
       "Index(['id', 'business_id', 'user_id', 'stars', 'date', 'text', 'useful',\n",
       "       'funny', 'cool'],\n",
       "      dtype='object')"
      ]
     },
     "execution_count": 2,
     "metadata": {},
     "output_type": "execute_result"
    }
   ],
   "source": [
    "reviews.columns"
   ]
  },
  {
   "cell_type": "code",
   "execution_count": 3,
   "metadata": {
    "scrolled": true
   },
   "outputs": [
    {
     "data": {
      "text/plain": [
       "(809050, 9)"
      ]
     },
     "execution_count": 3,
     "metadata": {},
     "output_type": "execute_result"
    }
   ],
   "source": [
    "reviews.shape"
   ]
  },
  {
   "cell_type": "code",
   "execution_count": 4,
   "metadata": {
    "scrolled": false
   },
   "outputs": [
    {
     "data": {
      "text/html": [
       "<div>\n",
       "<style scoped>\n",
       "    .dataframe tbody tr th:only-of-type {\n",
       "        vertical-align: middle;\n",
       "    }\n",
       "\n",
       "    .dataframe tbody tr th {\n",
       "        vertical-align: top;\n",
       "    }\n",
       "\n",
       "    .dataframe thead th {\n",
       "        text-align: right;\n",
       "    }\n",
       "</style>\n",
       "<table border=\"1\" class=\"dataframe\">\n",
       "  <thead>\n",
       "    <tr style=\"text-align: right;\">\n",
       "      <th></th>\n",
       "      <th>id</th>\n",
       "      <th>business_id</th>\n",
       "      <th>user_id</th>\n",
       "      <th>stars</th>\n",
       "      <th>date</th>\n",
       "      <th>text</th>\n",
       "      <th>useful</th>\n",
       "      <th>funny</th>\n",
       "      <th>cool</th>\n",
       "    </tr>\n",
       "  </thead>\n",
       "  <tbody>\n",
       "    <tr>\n",
       "      <th>0</th>\n",
       "      <td>---94vtJ_5o_nikEs6hUjg</td>\n",
       "      <td>R1PQEK6qvrZVC9qcWfKvDA</td>\n",
       "      <td>c2MQ_LPuvtiiKFR_-OY9pg</td>\n",
       "      <td>5</td>\n",
       "      <td>09/17/2014 00:00:00</td>\n",
       "      <td>One of my absolute favorite restaurants! I usu...</td>\n",
       "      <td>1.0</td>\n",
       "      <td>0.0</td>\n",
       "      <td>0.0</td>\n",
       "    </tr>\n",
       "    <tr>\n",
       "      <th>1</th>\n",
       "      <td>---WDP9kwKyVQiw9GTgNmQ</td>\n",
       "      <td>3kdSl5mo9dWC4clrQjEDGg</td>\n",
       "      <td>tRXe5HRTDsUNqL3yNSquMw</td>\n",
       "      <td>1</td>\n",
       "      <td>03/17/2014 00:00:00</td>\n",
       "      <td>2Nd time eating here today.1st time was great ...</td>\n",
       "      <td>0.0</td>\n",
       "      <td>0.0</td>\n",
       "      <td>0.0</td>\n",
       "    </tr>\n",
       "    <tr>\n",
       "      <th>2</th>\n",
       "      <td>---zHMCae68gIbSbtXxD5w</td>\n",
       "      <td>4RoTEeqB_MNn6yaqZmlZHg</td>\n",
       "      <td>rypcWiSNGM0suWsiSLh9xA</td>\n",
       "      <td>4</td>\n",
       "      <td>08/29/2015 00:00:00</td>\n",
       "      <td>From 8/22/15 \\n\\nThe Regal 18 is located in Vi...</td>\n",
       "      <td>3.0</td>\n",
       "      <td>1.0</td>\n",
       "      <td>1.0</td>\n",
       "    </tr>\n",
       "    <tr>\n",
       "      <th>3</th>\n",
       "      <td>--03fUVGimHb46r8XKjn2A</td>\n",
       "      <td>TTDMJetAQKfxVzKZy4Z_2Q</td>\n",
       "      <td>3q6AU-YWv_ORyZaxelasTg</td>\n",
       "      <td>1</td>\n",
       "      <td>06/27/2017 00:00:00</td>\n",
       "      <td>Allegiant is a disaster.  Their fares are chea...</td>\n",
       "      <td>1.0</td>\n",
       "      <td>0.0</td>\n",
       "      <td>0.0</td>\n",
       "    </tr>\n",
       "    <tr>\n",
       "      <th>4</th>\n",
       "      <td>--0cKK_pJr0I9lk82aeQcQ</td>\n",
       "      <td>WYw3Uf56DT5IwpaLNnCH5Q</td>\n",
       "      <td>Vkf4e4SLFm3gApONFnWk7Q</td>\n",
       "      <td>4</td>\n",
       "      <td>12/03/2013 00:00:00</td>\n",
       "      <td>I booked a deluxe suite in vdara for this past...</td>\n",
       "      <td>1.0</td>\n",
       "      <td>0.0</td>\n",
       "      <td>0.0</td>\n",
       "    </tr>\n",
       "  </tbody>\n",
       "</table>\n",
       "</div>"
      ],
      "text/plain": [
       "                       id             business_id                 user_id  \\\n",
       "0  ---94vtJ_5o_nikEs6hUjg  R1PQEK6qvrZVC9qcWfKvDA  c2MQ_LPuvtiiKFR_-OY9pg   \n",
       "1  ---WDP9kwKyVQiw9GTgNmQ  3kdSl5mo9dWC4clrQjEDGg  tRXe5HRTDsUNqL3yNSquMw   \n",
       "2  ---zHMCae68gIbSbtXxD5w  4RoTEeqB_MNn6yaqZmlZHg  rypcWiSNGM0suWsiSLh9xA   \n",
       "3  --03fUVGimHb46r8XKjn2A  TTDMJetAQKfxVzKZy4Z_2Q  3q6AU-YWv_ORyZaxelasTg   \n",
       "4  --0cKK_pJr0I9lk82aeQcQ  WYw3Uf56DT5IwpaLNnCH5Q  Vkf4e4SLFm3gApONFnWk7Q   \n",
       "\n",
       "   stars                 date  \\\n",
       "0      5  09/17/2014 00:00:00   \n",
       "1      1  03/17/2014 00:00:00   \n",
       "2      4  08/29/2015 00:00:00   \n",
       "3      1  06/27/2017 00:00:00   \n",
       "4      4  12/03/2013 00:00:00   \n",
       "\n",
       "                                                text  useful  funny  cool  \n",
       "0  One of my absolute favorite restaurants! I usu...     1.0    0.0   0.0  \n",
       "1  2Nd time eating here today.1st time was great ...     0.0    0.0   0.0  \n",
       "2  From 8/22/15 \\n\\nThe Regal 18 is located in Vi...     3.0    1.0   1.0  \n",
       "3  Allegiant is a disaster.  Their fares are chea...     1.0    0.0   0.0  \n",
       "4  I booked a deluxe suite in vdara for this past...     1.0    0.0   0.0  "
      ]
     },
     "execution_count": 4,
     "metadata": {},
     "output_type": "execute_result"
    }
   ],
   "source": [
    "reviews.head(5)"
   ]
  },
  {
   "cell_type": "code",
   "execution_count": 7,
   "metadata": {
    "scrolled": true
   },
   "outputs": [],
   "source": [
    "# count the occurance of specified keyword str and return a list of index in original data\n",
    "def count_keyword_occur(keyword):\n",
    "    np.random.seed()\n",
    "    data = copy.deepcopy(reviews).as_matrix()\n",
    "    occur_pos = []\n",
    "    for row in range(len(data)):\n",
    "        try:\n",
    "            review_text = data[row][5].lower()\n",
    "        except AttributeError:         # skip NaN\n",
    "            continue\n",
    "        if keyword in review_text:\n",
    "            occur_pos.append(row)\n",
    "    print('\"{}\" occurance count: {}'.format(keyword,len(occur_pos)))\n",
    "    print('Sample review with keyword {}\\n{}\\n'.format(keyword,data[int(np.random.choice(occur_pos))][5]))\n",
    "    return occur_pos"
   ]
  },
  {
   "cell_type": "code",
   "execution_count": 14,
   "metadata": {
    "scrolled": true
   },
   "outputs": [
    {
     "name": "stdout",
     "output_type": "stream",
     "text": [
      "\"sick\" occurance count: 5572\n",
      "Sample review with keyword sick\n",
      "Normally Southwest is the only Airline I fly. This last time flying, I was surprised by the attitudes of the staff at Tampa Airport! When I ask to pre-board, you have no right to ask me why! You only have the right to ask if I need help down the run way OR if I need a special seat! Unfortunately, I had to tell this woman exactly WHY I needed to pre-board! Mortified! Yep, she caused me to be embarrassed by telling her my health issues surrounding other people! Then she had the nerve to tell me that I couldn't have my children with me. Telling me it is a requirement. Had she just maybe lowered her voice, maybe asked a simple question things could have gone differently. \n",
      "\n",
      "One my daughter gets on the plane she was feeling nauseas and dizzy. One of the flight attendants wanted to remove us from the flight. WHY?? Because she might be contagious. No, that wasn't the case at all. It was because she was smelling the jet fuel and felt nauseas. Give her, her puke bag, ginger ale and Dramamine. She will be fine shortly. She walked away with major attitude after handing us a trash bag. The other flight attendant was actually very nice and said don't worry sweetie, it happens to everyone, even adults. \n",
      "\n",
      "Once we arrived in Las Vegas. I noticed two of my brand new bags were damaged. The zipper was pulled off and the other has a bent handle which makes it so the handle will not go up & down to be able to pull the bag properly! Brand NEW luggage!!! She stated the zipper was a manufacture's defect! Well, considering there was nothing in the zipper area, there was nothing over stuffed into the bag, tell me how did the zipper get broken? She said it didn't get broken by them because if it did it would have ripped! Umm, NO!!! The teeth are pulled and the zipper is OFF! They refused liability and will not fix it. Told me to take it back to where I purchased the luggage and return it. However, they will fix the one they bent. I have 21 days to bring it back to them at the airport to get it fixed and then they will FedEx it back to me. I can take a used bag from their collection and screw my matching set or again they said I can just return it! Why am I supposed to do this work when they broke two of my brand new bags to begin with? Make sense to you? Not me! \n",
      "\n",
      "Although I know I will use southwest again, I certainly hope that there will be better service, that I won't get embarrassed, my children won't be separated from me and we won't be questioned in regards to my daughter feeling sick! I hope this was the ONLY time we are mistreated.\n",
      "\n",
      "\"dirty\" occurance count: 11608\n",
      "Sample review with keyword dirty\n",
      "4 stars for the food\n",
      "2 stars for the service from Esmer\n",
      "\n",
      "I've eaten at Bellagio's Buffet at least once each time I visit Las Vegas. The food has always been good... this time I had a VERY VERY RUDE Waitress.\n",
      "\n",
      "This is the letter I wrote to them:\n",
      "Hello Bellagio Management,\n",
      "\n",
      "Over the Labor Day weekend my family and I came to Las Vegas. On Monday evening we came to \"The Buffet\" in Bellagio. I've always had fond memories of the food there, and it did not disappoint this time, the desserts were beautiful as always (Compliments to the chef/cook that prepared the Beef Wellington, it was fabulous)\n",
      "\n",
      "The \"problem\" I have is the demeanor of one of your waitress named Esmer (Picture attached) For over $30 a head I would've expected much better service, even if it is a buffet. Esmer came over about 5 minutes after we were seated, without a smile or any facial expression except boredom or sleepiness, she asked us what we wanted to drinks, and slowly walked away. Then our drinks came...slowly....one at a time. It gets worst. When we asked for refills on the drinks, it took over 10 minutes, we had a coke at both ends of the table, she refills one, goes off to a refill other tables then comes back and refills the other coke at the other end of our table.\n",
      "\n",
      "I may be bias because of the bad attitude so far, but I think she gave us a dirty look when we asked her if she can clear off some of the used plates off our table. She said \"Just wait!\" and walked off. When she finally came over to clean off the plates 15 minutes later, she said nothing, there was no apology for the wait or for the fact that we had stacked up all our dirty plates to make room, she picked up 2 of the dirty plates and just walked off. Most of our drinks were empty again, we didn't bother to ask for another refill just to see if she was smart/nice enough to do it without asking. We sat and chatted for another 30 minutes before leaving, the rest of our dirty plates (about 12) were still on the table, we were sucking on melted ice at this point, we know she was still working, but she never came around.\n",
      "\n",
      "Maybe it was us, but I don't think so because we said \"hello how are you doing\" with a smile at the very beginning, we put on a face and was nice to her no matter what. She just had a bad attitude from the very beginning. We should've left about $50 to make a 20% tip, we left a $20....it was way too much for her.\n",
      "\n",
      "As I've said, the food was good, but she's horrible. I've had better service at Denny's. Please have someone re-train her.\n",
      "\n",
      "\"disgusting\" occurance count: 5637\n",
      "Sample review with keyword disgusting\n",
      "I ate at Firefly during all this hoopla of salmonella. Before everyone gets up in arms and judgey about my liking this place so much, I don't care. Humans are disgusting animals, and sometimes careless animals who let their food go bad. Whoops! Since I have lived in Vegas, I have been wanting to try this place. I'm proud to report that I did--also super proud that I didn't get sick off this place. Nothing short of a fantastic meal was had by me--even if others did not, sadly.\n",
      "\n",
      "My mom and I ordered five or six small plates. The standouts were manchego mac and cheese (super bomb, I would eat this in a sandwich or on top of a pizza), the bacon wrapped dates (blue cheese to die for) and the mushroom tarte (I'm so sad I spent so much of my life hating mushrooms. They're delicious!). I would order of these again. Not so much on the duck confit egg roll--it was weird and the sauce was too sweet. \n",
      "\n",
      "The service was attentive as could be--the place was packed on a Thursday night at 9pm. The reviews and the patronage don't lie--this place is good. Sucks that they were careless enough to not look for salmonella on the eve of their relocation. \n",
      "\n",
      "I hope that Firefly can recover from this really, really bad PR. I've said it before--I'm going back and I look forward to seeing how they change it up!\n",
      "\n",
      "\"vomit\" occurance count: 697\n",
      "Sample review with keyword vomit\n",
      "Didn't go to our usual place on Lake Mead they were booked soild, so we went to the one on E. Flamingo. Ordered the same thing everytime Linguine Frutti di Mare. This time I was very unhappy with the sause not spicy at all. Don't know if it was the cook or what but the manager had them make a new one, wish I didn't do that. Vomit the whole night. Not going there again I'll stick to my usual place on Lake Mead.\n",
      "\n",
      "\"threw up\" occurance count: 328\n",
      "Sample review with keyword threw up\n",
      "Unfortunately I'm unable to write a good review for this place. I was very excited to try it out since the whole area is new to me (last time I visited Vegas was about 6 years ago). I do not understand how this place has such great reviews, yet our visit turned out so bad. My husband and I arrived with kids in tow, ordered our drinks and food. The drinks (5 waters and 1 soda) took a while to get there, about 25 minutes. That should have been an indication of the wait time, but we waited patiently. There were about 2 other couples there. By the time we got our food it was over an hour later. I ordered the Chicken and Waffles, my husband ordered the Perch Burger. I didn't think that was something that would take so long to make. After waiting for 40 minutes we were finally apologized to and told that it was my syrup that took so long. My syrup??? Did they go drain some trees for maple syrup?? I was so confused but so hungry I didn't even bother to question it. When our food arrived I didn't complain because I was starving. It was disgusting. The chicken was over fried, I got a collar bone and other over fried pieces I couldn't even eat, the waffle was just ok, but I ate it because like I said I was so hungry. My husband offered me some of his burger (which he did not enjoy either--left half of it) because he felt bad, I declined but accepted some of his fries. The fries tasted as though they were fried in old beef fat or something gross. I had to stop eating and drink water. By the time we got back to the car I was feeling sick, sadly I threw up all of the Perch food in my new car....No thanks to you the Perch & employees.\n",
      "\n"
     ]
    },
    {
     "name": "stdout",
     "output_type": "stream",
     "text": [
      "\"food poison\" occurance count: 1425\n",
      "Sample review with keyword food poison\n",
      "Ok..not sure what all the fuss was about ...I guess I did have to at least try it\n",
      "\n",
      "They did have sushi but only tuna and salmon...and it was made poorly and people who has no idea how to make cut the sushi and make the rice\n",
      "\n",
      "The sushi also gave me food poisoning.  \n",
      "\n",
      "There is another buffet in Albuquerque for about $22 and it included all you can eat oysters, crab, sushi which included yellowtail, red snapper.  \n",
      "\n",
      "The website said $15-25.  I called and the lady told me $36 on the weekend.  When I came there, they charged $41.  \n",
      "\n",
      "They are suppose to be the best ?  Don't think so...\n",
      "\n",
      "\"diarrhea\" occurance count: 315\n",
      "Sample review with keyword diarrhea\n",
      "Was very excited to try this place for a long time. Walked in said hi to the cashier and he did not say a thing. Got a chili dog and a smoothie. The chili was cold, it was weird. Only took two bites and stopped. My smoothie was room temperature juice. Was disappointed for sure but I have them a pass because it is a new business...until the next day. Woke up with violent diarrhea and was not able to go to work. NEVER AGAIN! \n",
      "\n",
      "P.S. The customer in front of us was a New Yorker and he spit his dog out of his mouth. And said \"They are suppose to snap when you bite into them, this is not like PapyaKing in NYC\"\n",
      "\n"
     ]
    },
    {
     "data": {
      "text/plain": [
       "7"
      ]
     },
     "execution_count": 14,
     "metadata": {},
     "output_type": "execute_result"
    }
   ],
   "source": [
    "# may contain duplicates\n",
    "keyword_list = ['sick', 'dirty', 'disgusting', 'vomit', 'threw up', 'food poison', 'diarrhea']\n",
    "total_ct = 0\n",
    "flag_pos = {}\n",
    "unique_pos_list = []\n",
    "for word in keyword_list:\n",
    "    pos = count_keyword_occur(word)\n",
    "    total_ct += len(pos)\n",
    "    if pos not in unique_pos_list:\n",
    "        unique_pos_list.append(pos)\n",
    "    flag_pos[word] = pos"
   ]
  },
  {
   "cell_type": "code",
   "execution_count": 15,
   "metadata": {},
   "outputs": [
    {
     "data": {
      "text/plain": [
       "25582"
      ]
     },
     "execution_count": 15,
     "metadata": {},
     "output_type": "execute_result"
    }
   ],
   "source": [
    "total_ct"
   ]
  },
  {
   "cell_type": "code",
   "execution_count": 21,
   "metadata": {},
   "outputs": [
    {
     "data": {
      "text/plain": [
       "5572"
      ]
     },
     "execution_count": 21,
     "metadata": {},
     "output_type": "execute_result"
    }
   ],
   "source": [
    "# Number of reviews with flag words\n",
    "len(unique_pos_list[0])"
   ]
  }
 ],
 "metadata": {
  "kernelspec": {
   "display_name": "Python 3",
   "language": "python",
   "name": "python3"
  },
  "language_info": {
   "codemirror_mode": {
    "name": "ipython",
    "version": 3
   },
   "file_extension": ".py",
   "mimetype": "text/x-python",
   "name": "python",
   "nbconvert_exporter": "python",
   "pygments_lexer": "ipython3",
   "version": "3.6.3"
  }
 },
 "nbformat": 4,
 "nbformat_minor": 2
}
